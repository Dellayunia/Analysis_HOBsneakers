{
  "nbformat": 4,
  "nbformat_minor": 0,
  "metadata": {
    "colab": {
      "provenance": []
    },
    "kernelspec": {
      "name": "python3",
      "display_name": "Python 3"
    },
    "language_info": {
      "name": "python"
    }
  },
  "cells": [
    {
      "cell_type": "code",
      "execution_count": 394,
      "metadata": {
        "id": "5D82-tuDIguC"
      },
      "outputs": [],
      "source": [
        "import pandas as pd"
      ]
    },
    {
      "cell_type": "code",
      "source": [
        "df = pd.read_excel('SalesReport.xlsx')"
      ],
      "metadata": {
        "id": "rGE5KgN8NbdM"
      },
      "execution_count": 395,
      "outputs": []
    },
    {
      "cell_type": "code",
      "source": [
        "sheet_maret = pd.read_excel('SalesReport.xlsx', sheet_name='Maret')\n",
        "sheet_april = pd.read_excel('SalesReport.xlsx', sheet_name='April')"
      ],
      "metadata": {
        "id": "N5jRw5b4JMse"
      },
      "execution_count": 396,
      "outputs": []
    },
    {
      "cell_type": "code",
      "source": [
        "sheet_maret.head()"
      ],
      "metadata": {
        "colab": {
          "base_uri": "https://localhost:8080/",
          "height": 206
        },
        "id": "i9afwGeyNUfD",
        "outputId": "c2c3175c-77d6-448d-e100-a3c2b814b264"
      },
      "execution_count": 397,
      "outputs": [
        {
          "output_type": "execute_result",
          "data": {
            "text/plain": [
              "    No                                     Product Name Tipe    Art Code  \\\n",
              "0  NaN                                              NaN  NaN         NaN   \n",
              "1  1.0                Nike Air Force 1 Low Triple White  LOW  315122-111   \n",
              "2  2.0  Adidas Handball Spezial Grey Black Gum (carbon)  LOW      BD7635   \n",
              "3  3.0    Adidas Samba Vegan \"Cloud White & Core Black\"  LOW      FW2427   \n",
              "4  4.0                  Adidas Spezial Light Blue White  LOW      BD7632   \n",
              "\n",
              "     Merk    Size Unnamed: 6 Unnamed: 7 Condition    Deal     Keluar Payment  \n",
              "0     NaN    EURO         US         CM       NaN     NaN        NaT     NaN  \n",
              "1    NIKE      42          8         27      0.95  550000 2024-03-01     NaN  \n",
              "2  ADIDAS      44         10         28      0.95  750000 2024-03-02     NaN  \n",
              "3  ADIDAS  43 1/3          9         27      0.95  800000 2024-03-02     NaN  \n",
              "4  ADIDAS      38          4         24      0.95  675000 2024-03-04    CASH  "
            ],
            "text/html": [
              "\n",
              "  <div id=\"df-0d57f3e0-7bb5-4dac-9f42-c5c61cd0b707\" class=\"colab-df-container\">\n",
              "    <div>\n",
              "<style scoped>\n",
              "    .dataframe tbody tr th:only-of-type {\n",
              "        vertical-align: middle;\n",
              "    }\n",
              "\n",
              "    .dataframe tbody tr th {\n",
              "        vertical-align: top;\n",
              "    }\n",
              "\n",
              "    .dataframe thead th {\n",
              "        text-align: right;\n",
              "    }\n",
              "</style>\n",
              "<table border=\"1\" class=\"dataframe\">\n",
              "  <thead>\n",
              "    <tr style=\"text-align: right;\">\n",
              "      <th></th>\n",
              "      <th>No</th>\n",
              "      <th>Product Name</th>\n",
              "      <th>Tipe</th>\n",
              "      <th>Art Code</th>\n",
              "      <th>Merk</th>\n",
              "      <th>Size</th>\n",
              "      <th>Unnamed: 6</th>\n",
              "      <th>Unnamed: 7</th>\n",
              "      <th>Condition</th>\n",
              "      <th>Deal</th>\n",
              "      <th>Keluar</th>\n",
              "      <th>Payment</th>\n",
              "    </tr>\n",
              "  </thead>\n",
              "  <tbody>\n",
              "    <tr>\n",
              "      <th>0</th>\n",
              "      <td>NaN</td>\n",
              "      <td>NaN</td>\n",
              "      <td>NaN</td>\n",
              "      <td>NaN</td>\n",
              "      <td>NaN</td>\n",
              "      <td>EURO</td>\n",
              "      <td>US</td>\n",
              "      <td>CM</td>\n",
              "      <td>NaN</td>\n",
              "      <td>NaN</td>\n",
              "      <td>NaT</td>\n",
              "      <td>NaN</td>\n",
              "    </tr>\n",
              "    <tr>\n",
              "      <th>1</th>\n",
              "      <td>1.0</td>\n",
              "      <td>Nike Air Force 1 Low Triple White</td>\n",
              "      <td>LOW</td>\n",
              "      <td>315122-111</td>\n",
              "      <td>NIKE</td>\n",
              "      <td>42</td>\n",
              "      <td>8</td>\n",
              "      <td>27</td>\n",
              "      <td>0.95</td>\n",
              "      <td>550000</td>\n",
              "      <td>2024-03-01</td>\n",
              "      <td>NaN</td>\n",
              "    </tr>\n",
              "    <tr>\n",
              "      <th>2</th>\n",
              "      <td>2.0</td>\n",
              "      <td>Adidas Handball Spezial Grey Black Gum (carbon)</td>\n",
              "      <td>LOW</td>\n",
              "      <td>BD7635</td>\n",
              "      <td>ADIDAS</td>\n",
              "      <td>44</td>\n",
              "      <td>10</td>\n",
              "      <td>28</td>\n",
              "      <td>0.95</td>\n",
              "      <td>750000</td>\n",
              "      <td>2024-03-02</td>\n",
              "      <td>NaN</td>\n",
              "    </tr>\n",
              "    <tr>\n",
              "      <th>3</th>\n",
              "      <td>3.0</td>\n",
              "      <td>Adidas Samba Vegan \"Cloud White &amp; Core Black\"</td>\n",
              "      <td>LOW</td>\n",
              "      <td>FW2427</td>\n",
              "      <td>ADIDAS</td>\n",
              "      <td>43 1/3</td>\n",
              "      <td>9</td>\n",
              "      <td>27</td>\n",
              "      <td>0.95</td>\n",
              "      <td>800000</td>\n",
              "      <td>2024-03-02</td>\n",
              "      <td>NaN</td>\n",
              "    </tr>\n",
              "    <tr>\n",
              "      <th>4</th>\n",
              "      <td>4.0</td>\n",
              "      <td>Adidas Spezial Light Blue White</td>\n",
              "      <td>LOW</td>\n",
              "      <td>BD7632</td>\n",
              "      <td>ADIDAS</td>\n",
              "      <td>38</td>\n",
              "      <td>4</td>\n",
              "      <td>24</td>\n",
              "      <td>0.95</td>\n",
              "      <td>675000</td>\n",
              "      <td>2024-03-04</td>\n",
              "      <td>CASH</td>\n",
              "    </tr>\n",
              "  </tbody>\n",
              "</table>\n",
              "</div>\n",
              "    <div class=\"colab-df-buttons\">\n",
              "\n",
              "  <div class=\"colab-df-container\">\n",
              "    <button class=\"colab-df-convert\" onclick=\"convertToInteractive('df-0d57f3e0-7bb5-4dac-9f42-c5c61cd0b707')\"\n",
              "            title=\"Convert this dataframe to an interactive table.\"\n",
              "            style=\"display:none;\">\n",
              "\n",
              "  <svg xmlns=\"http://www.w3.org/2000/svg\" height=\"24px\" viewBox=\"0 -960 960 960\">\n",
              "    <path d=\"M120-120v-720h720v720H120Zm60-500h600v-160H180v160Zm220 220h160v-160H400v160Zm0 220h160v-160H400v160ZM180-400h160v-160H180v160Zm440 0h160v-160H620v160ZM180-180h160v-160H180v160Zm440 0h160v-160H620v160Z\"/>\n",
              "  </svg>\n",
              "    </button>\n",
              "\n",
              "  <style>\n",
              "    .colab-df-container {\n",
              "      display:flex;\n",
              "      gap: 12px;\n",
              "    }\n",
              "\n",
              "    .colab-df-convert {\n",
              "      background-color: #E8F0FE;\n",
              "      border: none;\n",
              "      border-radius: 50%;\n",
              "      cursor: pointer;\n",
              "      display: none;\n",
              "      fill: #1967D2;\n",
              "      height: 32px;\n",
              "      padding: 0 0 0 0;\n",
              "      width: 32px;\n",
              "    }\n",
              "\n",
              "    .colab-df-convert:hover {\n",
              "      background-color: #E2EBFA;\n",
              "      box-shadow: 0px 1px 2px rgba(60, 64, 67, 0.3), 0px 1px 3px 1px rgba(60, 64, 67, 0.15);\n",
              "      fill: #174EA6;\n",
              "    }\n",
              "\n",
              "    .colab-df-buttons div {\n",
              "      margin-bottom: 4px;\n",
              "    }\n",
              "\n",
              "    [theme=dark] .colab-df-convert {\n",
              "      background-color: #3B4455;\n",
              "      fill: #D2E3FC;\n",
              "    }\n",
              "\n",
              "    [theme=dark] .colab-df-convert:hover {\n",
              "      background-color: #434B5C;\n",
              "      box-shadow: 0px 1px 3px 1px rgba(0, 0, 0, 0.15);\n",
              "      filter: drop-shadow(0px 1px 2px rgba(0, 0, 0, 0.3));\n",
              "      fill: #FFFFFF;\n",
              "    }\n",
              "  </style>\n",
              "\n",
              "    <script>\n",
              "      const buttonEl =\n",
              "        document.querySelector('#df-0d57f3e0-7bb5-4dac-9f42-c5c61cd0b707 button.colab-df-convert');\n",
              "      buttonEl.style.display =\n",
              "        google.colab.kernel.accessAllowed ? 'block' : 'none';\n",
              "\n",
              "      async function convertToInteractive(key) {\n",
              "        const element = document.querySelector('#df-0d57f3e0-7bb5-4dac-9f42-c5c61cd0b707');\n",
              "        const dataTable =\n",
              "          await google.colab.kernel.invokeFunction('convertToInteractive',\n",
              "                                                    [key], {});\n",
              "        if (!dataTable) return;\n",
              "\n",
              "        const docLinkHtml = 'Like what you see? Visit the ' +\n",
              "          '<a target=\"_blank\" href=https://colab.research.google.com/notebooks/data_table.ipynb>data table notebook</a>'\n",
              "          + ' to learn more about interactive tables.';\n",
              "        element.innerHTML = '';\n",
              "        dataTable['output_type'] = 'display_data';\n",
              "        await google.colab.output.renderOutput(dataTable, element);\n",
              "        const docLink = document.createElement('div');\n",
              "        docLink.innerHTML = docLinkHtml;\n",
              "        element.appendChild(docLink);\n",
              "      }\n",
              "    </script>\n",
              "  </div>\n",
              "\n",
              "\n",
              "<div id=\"df-84fbb5df-c342-4564-9b7e-3ce60e71765d\">\n",
              "  <button class=\"colab-df-quickchart\" onclick=\"quickchart('df-84fbb5df-c342-4564-9b7e-3ce60e71765d')\"\n",
              "            title=\"Suggest charts\"\n",
              "            style=\"display:none;\">\n",
              "\n",
              "<svg xmlns=\"http://www.w3.org/2000/svg\" height=\"24px\"viewBox=\"0 0 24 24\"\n",
              "     width=\"24px\">\n",
              "    <g>\n",
              "        <path d=\"M19 3H5c-1.1 0-2 .9-2 2v14c0 1.1.9 2 2 2h14c1.1 0 2-.9 2-2V5c0-1.1-.9-2-2-2zM9 17H7v-7h2v7zm4 0h-2V7h2v10zm4 0h-2v-4h2v4z\"/>\n",
              "    </g>\n",
              "</svg>\n",
              "  </button>\n",
              "\n",
              "<style>\n",
              "  .colab-df-quickchart {\n",
              "      --bg-color: #E8F0FE;\n",
              "      --fill-color: #1967D2;\n",
              "      --hover-bg-color: #E2EBFA;\n",
              "      --hover-fill-color: #174EA6;\n",
              "      --disabled-fill-color: #AAA;\n",
              "      --disabled-bg-color: #DDD;\n",
              "  }\n",
              "\n",
              "  [theme=dark] .colab-df-quickchart {\n",
              "      --bg-color: #3B4455;\n",
              "      --fill-color: #D2E3FC;\n",
              "      --hover-bg-color: #434B5C;\n",
              "      --hover-fill-color: #FFFFFF;\n",
              "      --disabled-bg-color: #3B4455;\n",
              "      --disabled-fill-color: #666;\n",
              "  }\n",
              "\n",
              "  .colab-df-quickchart {\n",
              "    background-color: var(--bg-color);\n",
              "    border: none;\n",
              "    border-radius: 50%;\n",
              "    cursor: pointer;\n",
              "    display: none;\n",
              "    fill: var(--fill-color);\n",
              "    height: 32px;\n",
              "    padding: 0;\n",
              "    width: 32px;\n",
              "  }\n",
              "\n",
              "  .colab-df-quickchart:hover {\n",
              "    background-color: var(--hover-bg-color);\n",
              "    box-shadow: 0 1px 2px rgba(60, 64, 67, 0.3), 0 1px 3px 1px rgba(60, 64, 67, 0.15);\n",
              "    fill: var(--button-hover-fill-color);\n",
              "  }\n",
              "\n",
              "  .colab-df-quickchart-complete:disabled,\n",
              "  .colab-df-quickchart-complete:disabled:hover {\n",
              "    background-color: var(--disabled-bg-color);\n",
              "    fill: var(--disabled-fill-color);\n",
              "    box-shadow: none;\n",
              "  }\n",
              "\n",
              "  .colab-df-spinner {\n",
              "    border: 2px solid var(--fill-color);\n",
              "    border-color: transparent;\n",
              "    border-bottom-color: var(--fill-color);\n",
              "    animation:\n",
              "      spin 1s steps(1) infinite;\n",
              "  }\n",
              "\n",
              "  @keyframes spin {\n",
              "    0% {\n",
              "      border-color: transparent;\n",
              "      border-bottom-color: var(--fill-color);\n",
              "      border-left-color: var(--fill-color);\n",
              "    }\n",
              "    20% {\n",
              "      border-color: transparent;\n",
              "      border-left-color: var(--fill-color);\n",
              "      border-top-color: var(--fill-color);\n",
              "    }\n",
              "    30% {\n",
              "      border-color: transparent;\n",
              "      border-left-color: var(--fill-color);\n",
              "      border-top-color: var(--fill-color);\n",
              "      border-right-color: var(--fill-color);\n",
              "    }\n",
              "    40% {\n",
              "      border-color: transparent;\n",
              "      border-right-color: var(--fill-color);\n",
              "      border-top-color: var(--fill-color);\n",
              "    }\n",
              "    60% {\n",
              "      border-color: transparent;\n",
              "      border-right-color: var(--fill-color);\n",
              "    }\n",
              "    80% {\n",
              "      border-color: transparent;\n",
              "      border-right-color: var(--fill-color);\n",
              "      border-bottom-color: var(--fill-color);\n",
              "    }\n",
              "    90% {\n",
              "      border-color: transparent;\n",
              "      border-bottom-color: var(--fill-color);\n",
              "    }\n",
              "  }\n",
              "</style>\n",
              "\n",
              "  <script>\n",
              "    async function quickchart(key) {\n",
              "      const quickchartButtonEl =\n",
              "        document.querySelector('#' + key + ' button');\n",
              "      quickchartButtonEl.disabled = true;  // To prevent multiple clicks.\n",
              "      quickchartButtonEl.classList.add('colab-df-spinner');\n",
              "      try {\n",
              "        const charts = await google.colab.kernel.invokeFunction(\n",
              "            'suggestCharts', [key], {});\n",
              "      } catch (error) {\n",
              "        console.error('Error during call to suggestCharts:', error);\n",
              "      }\n",
              "      quickchartButtonEl.classList.remove('colab-df-spinner');\n",
              "      quickchartButtonEl.classList.add('colab-df-quickchart-complete');\n",
              "    }\n",
              "    (() => {\n",
              "      let quickchartButtonEl =\n",
              "        document.querySelector('#df-84fbb5df-c342-4564-9b7e-3ce60e71765d button');\n",
              "      quickchartButtonEl.style.display =\n",
              "        google.colab.kernel.accessAllowed ? 'block' : 'none';\n",
              "    })();\n",
              "  </script>\n",
              "</div>\n",
              "\n",
              "    </div>\n",
              "  </div>\n"
            ],
            "application/vnd.google.colaboratory.intrinsic+json": {
              "type": "dataframe",
              "variable_name": "sheet_maret",
              "summary": "{\n  \"name\": \"sheet_maret\",\n  \"rows\": 145,\n  \"fields\": [\n    {\n      \"column\": \"No\",\n      \"properties\": {\n        \"dtype\": \"number\",\n        \"std\": 41.947546865510354,\n        \"min\": 1.0,\n        \"max\": 145.0,\n        \"num_unique_values\": 144,\n        \"samples\": [\n          119.0,\n          20.0,\n          84.0\n        ],\n        \"semantic_type\": \"\",\n        \"description\": \"\"\n      }\n    },\n    {\n      \"column\": \"Product Name\",\n      \"properties\": {\n        \"dtype\": \"string\",\n        \"num_unique_values\": 75,\n        \"samples\": [\n          \"Adidsa Samba Rose Black\",\n          \"Adidas Handball Spezial Grey Strip White gum sole\",\n          \"Nike Air Force 1 LV8 Athletic Club Marina Blue\"\n        ],\n        \"semantic_type\": \"\",\n        \"description\": \"\"\n      }\n    },\n    {\n      \"column\": \"Tipe\",\n      \"properties\": {\n        \"dtype\": \"category\",\n        \"num_unique_values\": 7,\n        \"samples\": [\n          \"LOW\",\n          \"HIGH\",\n          40\n        ],\n        \"semantic_type\": \"\",\n        \"description\": \"\"\n      }\n    },\n    {\n      \"column\": \"Art Code\",\n      \"properties\": {\n        \"dtype\": \"category\",\n        \"num_unique_values\": 53,\n        \"samples\": [\n          \"MR2002RC\",\n          \"CD0461-100\",\n          \"CJ6951-300\"\n        ],\n        \"semantic_type\": \"\",\n        \"description\": \"\"\n      }\n    },\n    {\n      \"column\": \"Merk\",\n      \"properties\": {\n        \"dtype\": \"category\",\n        \"num_unique_values\": 11,\n        \"samples\": [\n          \"Hilda \",\n          \"NIKE\",\n          \"salomon\"\n        ],\n        \"semantic_type\": \"\",\n        \"description\": \"\"\n      }\n    },\n    {\n      \"column\": \"Size\",\n      \"properties\": {\n        \"dtype\": \"category\",\n        \"num_unique_values\": 22,\n        \"samples\": [\n          \"EURO\",\n          \"41 1/3\",\n          40\n        ],\n        \"semantic_type\": \"\",\n        \"description\": \"\"\n      }\n    },\n    {\n      \"column\": \"Unnamed: 6\",\n      \"properties\": {\n        \"dtype\": \"category\",\n        \"num_unique_values\": 17,\n        \"samples\": [\n          \"US\",\n          8,\n          5\n        ],\n        \"semantic_type\": \"\",\n        \"description\": \"\"\n      }\n    },\n    {\n      \"column\": \"Unnamed: 7\",\n      \"properties\": {\n        \"dtype\": \"category\",\n        \"num_unique_values\": 15,\n        \"samples\": [\n          23.5,\n          23,\n          \"CM\"\n        ],\n        \"semantic_type\": \"\",\n        \"description\": \"\"\n      }\n    },\n    {\n      \"column\": \"Condition\",\n      \"properties\": {\n        \"dtype\": \"category\",\n        \"num_unique_values\": 3,\n        \"samples\": [\n          0.95,\n          \"done\",\n          \"Oke\"\n        ],\n        \"semantic_type\": \"\",\n        \"description\": \"\"\n      }\n    },\n    {\n      \"column\": \"Deal\",\n      \"properties\": {\n        \"dtype\": \"category\",\n        \"num_unique_values\": 28,\n        \"samples\": [\n          600000,\n          620000,\n          700000\n        ],\n        \"semantic_type\": \"\",\n        \"description\": \"\"\n      }\n    },\n    {\n      \"column\": \"Keluar\",\n      \"properties\": {\n        \"dtype\": \"date\",\n        \"min\": \"2024-03-01 00:00:00\",\n        \"max\": \"2024-03-31 00:00:00\",\n        \"num_unique_values\": 22,\n        \"samples\": [\n          \"2024-03-01 00:00:00\",\n          \"2024-03-20 00:00:00\",\n          \"2024-03-12 00:00:00\"\n        ],\n        \"semantic_type\": \"\",\n        \"description\": \"\"\n      }\n    },\n    {\n      \"column\": \"Payment\",\n      \"properties\": {\n        \"dtype\": \"category\",\n        \"num_unique_values\": 11,\n        \"samples\": [\n          \"cash\",\n          \"CASH\",\n          \"cash 520 tf 1,1 ac\"\n        ],\n        \"semantic_type\": \"\",\n        \"description\": \"\"\n      }\n    }\n  ]\n}"
            }
          },
          "metadata": {},
          "execution_count": 397
        }
      ]
    },
    {
      "cell_type": "code",
      "source": [
        "sheet_april.head()"
      ],
      "metadata": {
        "colab": {
          "base_uri": "https://localhost:8080/",
          "height": 206
        },
        "id": "tFASEP5gNnrm",
        "outputId": "e55518c7-46db-4a03-d53d-4a6f69cb21cb"
      },
      "execution_count": 398,
      "outputs": [
        {
          "output_type": "execute_result",
          "data": {
            "text/plain": [
              "    No                                       Product Name  Tipe  Art Code  \\\n",
              "0  NaN                                                NaN   NaN       NaN   \n",
              "1  1.0                         1460 NAPPA LEATHER LACE UP  HIGH  11822002   \n",
              "2  2.0  Adidas Handball Spezial Clear Brown Core Black...   LOW    BD7631   \n",
              "3  3.0                      Adidas Samba OG Crystal White   LOW    ID2047   \n",
              "4  4.0  Adidas Handball Spezial Grey Strip White gum sole   LOW    D96795   \n",
              "\n",
              "      Merk    Size Unnamed: 6 Unnamed: 7  Condition    Deal     Keluar Payment  \n",
              "0      NaN    EURO         US         CM        NaN     NaN        NaT     NaN  \n",
              "1  DOCMART      41          8       25.5       0.95  950000 2024-04-03  TF BCA  \n",
              "2   ADIDAS  43 1/3          9         27       0.95  750000 2024-04-03  TF BCA  \n",
              "3   ADIDAS      36        NaN        NaN       0.95  750000 2024-04-03  TF BCA  \n",
              "4   ADIDAS      40          6         25       0.95  750000 2024-04-04  TF BCA  "
            ],
            "text/html": [
              "\n",
              "  <div id=\"df-4b4a6214-13cd-4249-b53c-46a7605b6972\" class=\"colab-df-container\">\n",
              "    <div>\n",
              "<style scoped>\n",
              "    .dataframe tbody tr th:only-of-type {\n",
              "        vertical-align: middle;\n",
              "    }\n",
              "\n",
              "    .dataframe tbody tr th {\n",
              "        vertical-align: top;\n",
              "    }\n",
              "\n",
              "    .dataframe thead th {\n",
              "        text-align: right;\n",
              "    }\n",
              "</style>\n",
              "<table border=\"1\" class=\"dataframe\">\n",
              "  <thead>\n",
              "    <tr style=\"text-align: right;\">\n",
              "      <th></th>\n",
              "      <th>No</th>\n",
              "      <th>Product Name</th>\n",
              "      <th>Tipe</th>\n",
              "      <th>Art Code</th>\n",
              "      <th>Merk</th>\n",
              "      <th>Size</th>\n",
              "      <th>Unnamed: 6</th>\n",
              "      <th>Unnamed: 7</th>\n",
              "      <th>Condition</th>\n",
              "      <th>Deal</th>\n",
              "      <th>Keluar</th>\n",
              "      <th>Payment</th>\n",
              "    </tr>\n",
              "  </thead>\n",
              "  <tbody>\n",
              "    <tr>\n",
              "      <th>0</th>\n",
              "      <td>NaN</td>\n",
              "      <td>NaN</td>\n",
              "      <td>NaN</td>\n",
              "      <td>NaN</td>\n",
              "      <td>NaN</td>\n",
              "      <td>EURO</td>\n",
              "      <td>US</td>\n",
              "      <td>CM</td>\n",
              "      <td>NaN</td>\n",
              "      <td>NaN</td>\n",
              "      <td>NaT</td>\n",
              "      <td>NaN</td>\n",
              "    </tr>\n",
              "    <tr>\n",
              "      <th>1</th>\n",
              "      <td>1.0</td>\n",
              "      <td>1460 NAPPA LEATHER LACE UP</td>\n",
              "      <td>HIGH</td>\n",
              "      <td>11822002</td>\n",
              "      <td>DOCMART</td>\n",
              "      <td>41</td>\n",
              "      <td>8</td>\n",
              "      <td>25.5</td>\n",
              "      <td>0.95</td>\n",
              "      <td>950000</td>\n",
              "      <td>2024-04-03</td>\n",
              "      <td>TF BCA</td>\n",
              "    </tr>\n",
              "    <tr>\n",
              "      <th>2</th>\n",
              "      <td>2.0</td>\n",
              "      <td>Adidas Handball Spezial Clear Brown Core Black...</td>\n",
              "      <td>LOW</td>\n",
              "      <td>BD7631</td>\n",
              "      <td>ADIDAS</td>\n",
              "      <td>43 1/3</td>\n",
              "      <td>9</td>\n",
              "      <td>27</td>\n",
              "      <td>0.95</td>\n",
              "      <td>750000</td>\n",
              "      <td>2024-04-03</td>\n",
              "      <td>TF BCA</td>\n",
              "    </tr>\n",
              "    <tr>\n",
              "      <th>3</th>\n",
              "      <td>3.0</td>\n",
              "      <td>Adidas Samba OG Crystal White</td>\n",
              "      <td>LOW</td>\n",
              "      <td>ID2047</td>\n",
              "      <td>ADIDAS</td>\n",
              "      <td>36</td>\n",
              "      <td>NaN</td>\n",
              "      <td>NaN</td>\n",
              "      <td>0.95</td>\n",
              "      <td>750000</td>\n",
              "      <td>2024-04-03</td>\n",
              "      <td>TF BCA</td>\n",
              "    </tr>\n",
              "    <tr>\n",
              "      <th>4</th>\n",
              "      <td>4.0</td>\n",
              "      <td>Adidas Handball Spezial Grey Strip White gum sole</td>\n",
              "      <td>LOW</td>\n",
              "      <td>D96795</td>\n",
              "      <td>ADIDAS</td>\n",
              "      <td>40</td>\n",
              "      <td>6</td>\n",
              "      <td>25</td>\n",
              "      <td>0.95</td>\n",
              "      <td>750000</td>\n",
              "      <td>2024-04-04</td>\n",
              "      <td>TF BCA</td>\n",
              "    </tr>\n",
              "  </tbody>\n",
              "</table>\n",
              "</div>\n",
              "    <div class=\"colab-df-buttons\">\n",
              "\n",
              "  <div class=\"colab-df-container\">\n",
              "    <button class=\"colab-df-convert\" onclick=\"convertToInteractive('df-4b4a6214-13cd-4249-b53c-46a7605b6972')\"\n",
              "            title=\"Convert this dataframe to an interactive table.\"\n",
              "            style=\"display:none;\">\n",
              "\n",
              "  <svg xmlns=\"http://www.w3.org/2000/svg\" height=\"24px\" viewBox=\"0 -960 960 960\">\n",
              "    <path d=\"M120-120v-720h720v720H120Zm60-500h600v-160H180v160Zm220 220h160v-160H400v160Zm0 220h160v-160H400v160ZM180-400h160v-160H180v160Zm440 0h160v-160H620v160ZM180-180h160v-160H180v160Zm440 0h160v-160H620v160Z\"/>\n",
              "  </svg>\n",
              "    </button>\n",
              "\n",
              "  <style>\n",
              "    .colab-df-container {\n",
              "      display:flex;\n",
              "      gap: 12px;\n",
              "    }\n",
              "\n",
              "    .colab-df-convert {\n",
              "      background-color: #E8F0FE;\n",
              "      border: none;\n",
              "      border-radius: 50%;\n",
              "      cursor: pointer;\n",
              "      display: none;\n",
              "      fill: #1967D2;\n",
              "      height: 32px;\n",
              "      padding: 0 0 0 0;\n",
              "      width: 32px;\n",
              "    }\n",
              "\n",
              "    .colab-df-convert:hover {\n",
              "      background-color: #E2EBFA;\n",
              "      box-shadow: 0px 1px 2px rgba(60, 64, 67, 0.3), 0px 1px 3px 1px rgba(60, 64, 67, 0.15);\n",
              "      fill: #174EA6;\n",
              "    }\n",
              "\n",
              "    .colab-df-buttons div {\n",
              "      margin-bottom: 4px;\n",
              "    }\n",
              "\n",
              "    [theme=dark] .colab-df-convert {\n",
              "      background-color: #3B4455;\n",
              "      fill: #D2E3FC;\n",
              "    }\n",
              "\n",
              "    [theme=dark] .colab-df-convert:hover {\n",
              "      background-color: #434B5C;\n",
              "      box-shadow: 0px 1px 3px 1px rgba(0, 0, 0, 0.15);\n",
              "      filter: drop-shadow(0px 1px 2px rgba(0, 0, 0, 0.3));\n",
              "      fill: #FFFFFF;\n",
              "    }\n",
              "  </style>\n",
              "\n",
              "    <script>\n",
              "      const buttonEl =\n",
              "        document.querySelector('#df-4b4a6214-13cd-4249-b53c-46a7605b6972 button.colab-df-convert');\n",
              "      buttonEl.style.display =\n",
              "        google.colab.kernel.accessAllowed ? 'block' : 'none';\n",
              "\n",
              "      async function convertToInteractive(key) {\n",
              "        const element = document.querySelector('#df-4b4a6214-13cd-4249-b53c-46a7605b6972');\n",
              "        const dataTable =\n",
              "          await google.colab.kernel.invokeFunction('convertToInteractive',\n",
              "                                                    [key], {});\n",
              "        if (!dataTable) return;\n",
              "\n",
              "        const docLinkHtml = 'Like what you see? Visit the ' +\n",
              "          '<a target=\"_blank\" href=https://colab.research.google.com/notebooks/data_table.ipynb>data table notebook</a>'\n",
              "          + ' to learn more about interactive tables.';\n",
              "        element.innerHTML = '';\n",
              "        dataTable['output_type'] = 'display_data';\n",
              "        await google.colab.output.renderOutput(dataTable, element);\n",
              "        const docLink = document.createElement('div');\n",
              "        docLink.innerHTML = docLinkHtml;\n",
              "        element.appendChild(docLink);\n",
              "      }\n",
              "    </script>\n",
              "  </div>\n",
              "\n",
              "\n",
              "<div id=\"df-1ada084b-3061-4fbe-bf0f-94cf7e7760d1\">\n",
              "  <button class=\"colab-df-quickchart\" onclick=\"quickchart('df-1ada084b-3061-4fbe-bf0f-94cf7e7760d1')\"\n",
              "            title=\"Suggest charts\"\n",
              "            style=\"display:none;\">\n",
              "\n",
              "<svg xmlns=\"http://www.w3.org/2000/svg\" height=\"24px\"viewBox=\"0 0 24 24\"\n",
              "     width=\"24px\">\n",
              "    <g>\n",
              "        <path d=\"M19 3H5c-1.1 0-2 .9-2 2v14c0 1.1.9 2 2 2h14c1.1 0 2-.9 2-2V5c0-1.1-.9-2-2-2zM9 17H7v-7h2v7zm4 0h-2V7h2v10zm4 0h-2v-4h2v4z\"/>\n",
              "    </g>\n",
              "</svg>\n",
              "  </button>\n",
              "\n",
              "<style>\n",
              "  .colab-df-quickchart {\n",
              "      --bg-color: #E8F0FE;\n",
              "      --fill-color: #1967D2;\n",
              "      --hover-bg-color: #E2EBFA;\n",
              "      --hover-fill-color: #174EA6;\n",
              "      --disabled-fill-color: #AAA;\n",
              "      --disabled-bg-color: #DDD;\n",
              "  }\n",
              "\n",
              "  [theme=dark] .colab-df-quickchart {\n",
              "      --bg-color: #3B4455;\n",
              "      --fill-color: #D2E3FC;\n",
              "      --hover-bg-color: #434B5C;\n",
              "      --hover-fill-color: #FFFFFF;\n",
              "      --disabled-bg-color: #3B4455;\n",
              "      --disabled-fill-color: #666;\n",
              "  }\n",
              "\n",
              "  .colab-df-quickchart {\n",
              "    background-color: var(--bg-color);\n",
              "    border: none;\n",
              "    border-radius: 50%;\n",
              "    cursor: pointer;\n",
              "    display: none;\n",
              "    fill: var(--fill-color);\n",
              "    height: 32px;\n",
              "    padding: 0;\n",
              "    width: 32px;\n",
              "  }\n",
              "\n",
              "  .colab-df-quickchart:hover {\n",
              "    background-color: var(--hover-bg-color);\n",
              "    box-shadow: 0 1px 2px rgba(60, 64, 67, 0.3), 0 1px 3px 1px rgba(60, 64, 67, 0.15);\n",
              "    fill: var(--button-hover-fill-color);\n",
              "  }\n",
              "\n",
              "  .colab-df-quickchart-complete:disabled,\n",
              "  .colab-df-quickchart-complete:disabled:hover {\n",
              "    background-color: var(--disabled-bg-color);\n",
              "    fill: var(--disabled-fill-color);\n",
              "    box-shadow: none;\n",
              "  }\n",
              "\n",
              "  .colab-df-spinner {\n",
              "    border: 2px solid var(--fill-color);\n",
              "    border-color: transparent;\n",
              "    border-bottom-color: var(--fill-color);\n",
              "    animation:\n",
              "      spin 1s steps(1) infinite;\n",
              "  }\n",
              "\n",
              "  @keyframes spin {\n",
              "    0% {\n",
              "      border-color: transparent;\n",
              "      border-bottom-color: var(--fill-color);\n",
              "      border-left-color: var(--fill-color);\n",
              "    }\n",
              "    20% {\n",
              "      border-color: transparent;\n",
              "      border-left-color: var(--fill-color);\n",
              "      border-top-color: var(--fill-color);\n",
              "    }\n",
              "    30% {\n",
              "      border-color: transparent;\n",
              "      border-left-color: var(--fill-color);\n",
              "      border-top-color: var(--fill-color);\n",
              "      border-right-color: var(--fill-color);\n",
              "    }\n",
              "    40% {\n",
              "      border-color: transparent;\n",
              "      border-right-color: var(--fill-color);\n",
              "      border-top-color: var(--fill-color);\n",
              "    }\n",
              "    60% {\n",
              "      border-color: transparent;\n",
              "      border-right-color: var(--fill-color);\n",
              "    }\n",
              "    80% {\n",
              "      border-color: transparent;\n",
              "      border-right-color: var(--fill-color);\n",
              "      border-bottom-color: var(--fill-color);\n",
              "    }\n",
              "    90% {\n",
              "      border-color: transparent;\n",
              "      border-bottom-color: var(--fill-color);\n",
              "    }\n",
              "  }\n",
              "</style>\n",
              "\n",
              "  <script>\n",
              "    async function quickchart(key) {\n",
              "      const quickchartButtonEl =\n",
              "        document.querySelector('#' + key + ' button');\n",
              "      quickchartButtonEl.disabled = true;  // To prevent multiple clicks.\n",
              "      quickchartButtonEl.classList.add('colab-df-spinner');\n",
              "      try {\n",
              "        const charts = await google.colab.kernel.invokeFunction(\n",
              "            'suggestCharts', [key], {});\n",
              "      } catch (error) {\n",
              "        console.error('Error during call to suggestCharts:', error);\n",
              "      }\n",
              "      quickchartButtonEl.classList.remove('colab-df-spinner');\n",
              "      quickchartButtonEl.classList.add('colab-df-quickchart-complete');\n",
              "    }\n",
              "    (() => {\n",
              "      let quickchartButtonEl =\n",
              "        document.querySelector('#df-1ada084b-3061-4fbe-bf0f-94cf7e7760d1 button');\n",
              "      quickchartButtonEl.style.display =\n",
              "        google.colab.kernel.accessAllowed ? 'block' : 'none';\n",
              "    })();\n",
              "  </script>\n",
              "</div>\n",
              "\n",
              "    </div>\n",
              "  </div>\n"
            ],
            "application/vnd.google.colaboratory.intrinsic+json": {
              "type": "dataframe",
              "variable_name": "sheet_april",
              "summary": "{\n  \"name\": \"sheet_april\",\n  \"rows\": 89,\n  \"fields\": [\n    {\n      \"column\": \"No\",\n      \"properties\": {\n        \"dtype\": \"number\",\n        \"std\": 25.353939339731202,\n        \"min\": 1.0,\n        \"max\": 88.0,\n        \"num_unique_values\": 87,\n        \"samples\": [\n          76.0,\n          1.0,\n          27.0\n        ],\n        \"semantic_type\": \"\",\n        \"description\": \"\"\n      }\n    },\n    {\n      \"column\": \"Product Name\",\n      \"properties\": {\n        \"dtype\": \"string\",\n        \"num_unique_values\": 59,\n        \"samples\": [\n          \"1460 NAPPA LEATHER LACE UP\",\n          \"NB 530 white silver navy\",\n          \"Adidas Handball Spezial Green Burgundy\"\n        ],\n        \"semantic_type\": \"\",\n        \"description\": \"\"\n      }\n    },\n    {\n      \"column\": \"Tipe\",\n      \"properties\": {\n        \"dtype\": \"category\",\n        \"num_unique_values\": 2,\n        \"samples\": [\n          \"LOW\",\n          \"HIGH\"\n        ],\n        \"semantic_type\": \"\",\n        \"description\": \"\"\n      }\n    },\n    {\n      \"column\": \"Art Code\",\n      \"properties\": {\n        \"dtype\": \"string\",\n        \"num_unique_values\": 46,\n        \"samples\": [\n          \"H06605\",\n          \"FX9042\"\n        ],\n        \"semantic_type\": \"\",\n        \"description\": \"\"\n      }\n    },\n    {\n      \"column\": \"Merk\",\n      \"properties\": {\n        \"dtype\": \"category\",\n        \"num_unique_values\": 7,\n        \"samples\": [\n          \"DOCMART\",\n          \"ADIDAS\"\n        ],\n        \"semantic_type\": \"\",\n        \"description\": \"\"\n      }\n    },\n    {\n      \"column\": \"Size\",\n      \"properties\": {\n        \"dtype\": \"category\",\n        \"num_unique_values\": 15,\n        \"samples\": [\n          38,\n          44\n        ],\n        \"semantic_type\": \"\",\n        \"description\": \"\"\n      }\n    },\n    {\n      \"column\": \"Unnamed: 6\",\n      \"properties\": {\n        \"dtype\": \"category\",\n        \"num_unique_values\": 14,\n        \"samples\": [\n          \"2024-05-09 00:00:00\",\n          4\n        ],\n        \"semantic_type\": \"\",\n        \"description\": \"\"\n      }\n    },\n    {\n      \"column\": \"Unnamed: 7\",\n      \"properties\": {\n        \"dtype\": \"category\",\n        \"num_unique_values\": 14,\n        \"samples\": [\n          \"2024-05-27 00:00:00\",\n          29\n        ],\n        \"semantic_type\": \"\",\n        \"description\": \"\"\n      }\n    },\n    {\n      \"column\": \"Condition\",\n      \"properties\": {\n        \"dtype\": \"number\",\n        \"std\": 8.804625579209955e-16,\n        \"min\": 0.95,\n        \"max\": 0.950000000000001,\n        \"num_unique_values\": 2,\n        \"samples\": [\n          0.950000000000001,\n          0.95\n        ],\n        \"semantic_type\": \"\",\n        \"description\": \"\"\n      }\n    },\n    {\n      \"column\": \"Deal\",\n      \"properties\": {\n        \"dtype\": \"category\",\n        \"num_unique_values\": 25,\n        \"samples\": [\n          650000,\n          400000\n        ],\n        \"semantic_type\": \"\",\n        \"description\": \"\"\n      }\n    },\n    {\n      \"column\": \"Keluar\",\n      \"properties\": {\n        \"dtype\": \"date\",\n        \"min\": \"2024-04-03 00:00:00\",\n        \"max\": \"2024-04-29 00:00:00\",\n        \"num_unique_values\": 23,\n        \"samples\": [\n          \"2024-04-22 00:00:00\",\n          \"2024-04-15 00:00:00\"\n        ],\n        \"semantic_type\": \"\",\n        \"description\": \"\"\n      }\n    },\n    {\n      \"column\": \"Payment\",\n      \"properties\": {\n        \"dtype\": \"category\",\n        \"num_unique_values\": 4,\n        \"samples\": [\n          \"QRIS BCA\",\n          \"CASH\"\n        ],\n        \"semantic_type\": \"\",\n        \"description\": \"\"\n      }\n    }\n  ]\n}"
            }
          },
          "metadata": {},
          "execution_count": 398
        }
      ]
    },
    {
      "cell_type": "code",
      "source": [
        "merged_table = pd.concat([sheet_maret, sheet_april], ignore_index=True)"
      ],
      "metadata": {
        "id": "8aoWRtdIQZ7V"
      },
      "execution_count": 517,
      "outputs": []
    },
    {
      "cell_type": "code",
      "source": [
        "merged_table.to_excel('SalesReport_Maret_April.xlsx', index=False)"
      ],
      "metadata": {
        "id": "u3wK6XmOTJ6M"
      },
      "execution_count": 518,
      "outputs": []
    },
    {
      "cell_type": "code",
      "source": [
        "sales_report = pd.read_excel('SalesReport_Maret_April.xlsx')"
      ],
      "metadata": {
        "id": "9gDsAniCTq_L"
      },
      "execution_count": 519,
      "outputs": []
    },
    {
      "cell_type": "code",
      "source": [
        "sales_report.head()"
      ],
      "metadata": {
        "colab": {
          "base_uri": "https://localhost:8080/",
          "height": 206
        },
        "id": "lbaDV_K4TccN",
        "outputId": "419dc709-b876-4cc5-97e6-e5de974ea6b3"
      },
      "execution_count": 520,
      "outputs": [
        {
          "output_type": "execute_result",
          "data": {
            "text/plain": [
              "    No                                     Product Name Tipe    Art Code  \\\n",
              "0  NaN                                              NaN  NaN         NaN   \n",
              "1  1.0                Nike Air Force 1 Low Triple White  LOW  315122-111   \n",
              "2  2.0  Adidas Handball Spezial Grey Black Gum (carbon)  LOW      BD7635   \n",
              "3  3.0    Adidas Samba Vegan \"Cloud White & Core Black\"  LOW      FW2427   \n",
              "4  4.0                  Adidas Spezial Light Blue White  LOW      BD7632   \n",
              "\n",
              "     Merk    Size Unnamed: 6 Unnamed: 7 Condition    Deal     Keluar Payment  \n",
              "0     NaN    EURO         US         CM       NaN     NaN        NaT     NaN  \n",
              "1    NIKE      42          8         27      0.95  550000 2024-03-01     NaN  \n",
              "2  ADIDAS      44         10         28      0.95  750000 2024-03-02     NaN  \n",
              "3  ADIDAS  43 1/3          9         27      0.95  800000 2024-03-02     NaN  \n",
              "4  ADIDAS      38          4         24      0.95  675000 2024-03-04    CASH  "
            ],
            "text/html": [
              "\n",
              "  <div id=\"df-5e11d089-83b1-45fc-9698-f023dc701faa\" class=\"colab-df-container\">\n",
              "    <div>\n",
              "<style scoped>\n",
              "    .dataframe tbody tr th:only-of-type {\n",
              "        vertical-align: middle;\n",
              "    }\n",
              "\n",
              "    .dataframe tbody tr th {\n",
              "        vertical-align: top;\n",
              "    }\n",
              "\n",
              "    .dataframe thead th {\n",
              "        text-align: right;\n",
              "    }\n",
              "</style>\n",
              "<table border=\"1\" class=\"dataframe\">\n",
              "  <thead>\n",
              "    <tr style=\"text-align: right;\">\n",
              "      <th></th>\n",
              "      <th>No</th>\n",
              "      <th>Product Name</th>\n",
              "      <th>Tipe</th>\n",
              "      <th>Art Code</th>\n",
              "      <th>Merk</th>\n",
              "      <th>Size</th>\n",
              "      <th>Unnamed: 6</th>\n",
              "      <th>Unnamed: 7</th>\n",
              "      <th>Condition</th>\n",
              "      <th>Deal</th>\n",
              "      <th>Keluar</th>\n",
              "      <th>Payment</th>\n",
              "    </tr>\n",
              "  </thead>\n",
              "  <tbody>\n",
              "    <tr>\n",
              "      <th>0</th>\n",
              "      <td>NaN</td>\n",
              "      <td>NaN</td>\n",
              "      <td>NaN</td>\n",
              "      <td>NaN</td>\n",
              "      <td>NaN</td>\n",
              "      <td>EURO</td>\n",
              "      <td>US</td>\n",
              "      <td>CM</td>\n",
              "      <td>NaN</td>\n",
              "      <td>NaN</td>\n",
              "      <td>NaT</td>\n",
              "      <td>NaN</td>\n",
              "    </tr>\n",
              "    <tr>\n",
              "      <th>1</th>\n",
              "      <td>1.0</td>\n",
              "      <td>Nike Air Force 1 Low Triple White</td>\n",
              "      <td>LOW</td>\n",
              "      <td>315122-111</td>\n",
              "      <td>NIKE</td>\n",
              "      <td>42</td>\n",
              "      <td>8</td>\n",
              "      <td>27</td>\n",
              "      <td>0.95</td>\n",
              "      <td>550000</td>\n",
              "      <td>2024-03-01</td>\n",
              "      <td>NaN</td>\n",
              "    </tr>\n",
              "    <tr>\n",
              "      <th>2</th>\n",
              "      <td>2.0</td>\n",
              "      <td>Adidas Handball Spezial Grey Black Gum (carbon)</td>\n",
              "      <td>LOW</td>\n",
              "      <td>BD7635</td>\n",
              "      <td>ADIDAS</td>\n",
              "      <td>44</td>\n",
              "      <td>10</td>\n",
              "      <td>28</td>\n",
              "      <td>0.95</td>\n",
              "      <td>750000</td>\n",
              "      <td>2024-03-02</td>\n",
              "      <td>NaN</td>\n",
              "    </tr>\n",
              "    <tr>\n",
              "      <th>3</th>\n",
              "      <td>3.0</td>\n",
              "      <td>Adidas Samba Vegan \"Cloud White &amp; Core Black\"</td>\n",
              "      <td>LOW</td>\n",
              "      <td>FW2427</td>\n",
              "      <td>ADIDAS</td>\n",
              "      <td>43 1/3</td>\n",
              "      <td>9</td>\n",
              "      <td>27</td>\n",
              "      <td>0.95</td>\n",
              "      <td>800000</td>\n",
              "      <td>2024-03-02</td>\n",
              "      <td>NaN</td>\n",
              "    </tr>\n",
              "    <tr>\n",
              "      <th>4</th>\n",
              "      <td>4.0</td>\n",
              "      <td>Adidas Spezial Light Blue White</td>\n",
              "      <td>LOW</td>\n",
              "      <td>BD7632</td>\n",
              "      <td>ADIDAS</td>\n",
              "      <td>38</td>\n",
              "      <td>4</td>\n",
              "      <td>24</td>\n",
              "      <td>0.95</td>\n",
              "      <td>675000</td>\n",
              "      <td>2024-03-04</td>\n",
              "      <td>CASH</td>\n",
              "    </tr>\n",
              "  </tbody>\n",
              "</table>\n",
              "</div>\n",
              "    <div class=\"colab-df-buttons\">\n",
              "\n",
              "  <div class=\"colab-df-container\">\n",
              "    <button class=\"colab-df-convert\" onclick=\"convertToInteractive('df-5e11d089-83b1-45fc-9698-f023dc701faa')\"\n",
              "            title=\"Convert this dataframe to an interactive table.\"\n",
              "            style=\"display:none;\">\n",
              "\n",
              "  <svg xmlns=\"http://www.w3.org/2000/svg\" height=\"24px\" viewBox=\"0 -960 960 960\">\n",
              "    <path d=\"M120-120v-720h720v720H120Zm60-500h600v-160H180v160Zm220 220h160v-160H400v160Zm0 220h160v-160H400v160ZM180-400h160v-160H180v160Zm440 0h160v-160H620v160ZM180-180h160v-160H180v160Zm440 0h160v-160H620v160Z\"/>\n",
              "  </svg>\n",
              "    </button>\n",
              "\n",
              "  <style>\n",
              "    .colab-df-container {\n",
              "      display:flex;\n",
              "      gap: 12px;\n",
              "    }\n",
              "\n",
              "    .colab-df-convert {\n",
              "      background-color: #E8F0FE;\n",
              "      border: none;\n",
              "      border-radius: 50%;\n",
              "      cursor: pointer;\n",
              "      display: none;\n",
              "      fill: #1967D2;\n",
              "      height: 32px;\n",
              "      padding: 0 0 0 0;\n",
              "      width: 32px;\n",
              "    }\n",
              "\n",
              "    .colab-df-convert:hover {\n",
              "      background-color: #E2EBFA;\n",
              "      box-shadow: 0px 1px 2px rgba(60, 64, 67, 0.3), 0px 1px 3px 1px rgba(60, 64, 67, 0.15);\n",
              "      fill: #174EA6;\n",
              "    }\n",
              "\n",
              "    .colab-df-buttons div {\n",
              "      margin-bottom: 4px;\n",
              "    }\n",
              "\n",
              "    [theme=dark] .colab-df-convert {\n",
              "      background-color: #3B4455;\n",
              "      fill: #D2E3FC;\n",
              "    }\n",
              "\n",
              "    [theme=dark] .colab-df-convert:hover {\n",
              "      background-color: #434B5C;\n",
              "      box-shadow: 0px 1px 3px 1px rgba(0, 0, 0, 0.15);\n",
              "      filter: drop-shadow(0px 1px 2px rgba(0, 0, 0, 0.3));\n",
              "      fill: #FFFFFF;\n",
              "    }\n",
              "  </style>\n",
              "\n",
              "    <script>\n",
              "      const buttonEl =\n",
              "        document.querySelector('#df-5e11d089-83b1-45fc-9698-f023dc701faa button.colab-df-convert');\n",
              "      buttonEl.style.display =\n",
              "        google.colab.kernel.accessAllowed ? 'block' : 'none';\n",
              "\n",
              "      async function convertToInteractive(key) {\n",
              "        const element = document.querySelector('#df-5e11d089-83b1-45fc-9698-f023dc701faa');\n",
              "        const dataTable =\n",
              "          await google.colab.kernel.invokeFunction('convertToInteractive',\n",
              "                                                    [key], {});\n",
              "        if (!dataTable) return;\n",
              "\n",
              "        const docLinkHtml = 'Like what you see? Visit the ' +\n",
              "          '<a target=\"_blank\" href=https://colab.research.google.com/notebooks/data_table.ipynb>data table notebook</a>'\n",
              "          + ' to learn more about interactive tables.';\n",
              "        element.innerHTML = '';\n",
              "        dataTable['output_type'] = 'display_data';\n",
              "        await google.colab.output.renderOutput(dataTable, element);\n",
              "        const docLink = document.createElement('div');\n",
              "        docLink.innerHTML = docLinkHtml;\n",
              "        element.appendChild(docLink);\n",
              "      }\n",
              "    </script>\n",
              "  </div>\n",
              "\n",
              "\n",
              "<div id=\"df-bf8da8a5-5f97-4f29-be47-3802d30389dc\">\n",
              "  <button class=\"colab-df-quickchart\" onclick=\"quickchart('df-bf8da8a5-5f97-4f29-be47-3802d30389dc')\"\n",
              "            title=\"Suggest charts\"\n",
              "            style=\"display:none;\">\n",
              "\n",
              "<svg xmlns=\"http://www.w3.org/2000/svg\" height=\"24px\"viewBox=\"0 0 24 24\"\n",
              "     width=\"24px\">\n",
              "    <g>\n",
              "        <path d=\"M19 3H5c-1.1 0-2 .9-2 2v14c0 1.1.9 2 2 2h14c1.1 0 2-.9 2-2V5c0-1.1-.9-2-2-2zM9 17H7v-7h2v7zm4 0h-2V7h2v10zm4 0h-2v-4h2v4z\"/>\n",
              "    </g>\n",
              "</svg>\n",
              "  </button>\n",
              "\n",
              "<style>\n",
              "  .colab-df-quickchart {\n",
              "      --bg-color: #E8F0FE;\n",
              "      --fill-color: #1967D2;\n",
              "      --hover-bg-color: #E2EBFA;\n",
              "      --hover-fill-color: #174EA6;\n",
              "      --disabled-fill-color: #AAA;\n",
              "      --disabled-bg-color: #DDD;\n",
              "  }\n",
              "\n",
              "  [theme=dark] .colab-df-quickchart {\n",
              "      --bg-color: #3B4455;\n",
              "      --fill-color: #D2E3FC;\n",
              "      --hover-bg-color: #434B5C;\n",
              "      --hover-fill-color: #FFFFFF;\n",
              "      --disabled-bg-color: #3B4455;\n",
              "      --disabled-fill-color: #666;\n",
              "  }\n",
              "\n",
              "  .colab-df-quickchart {\n",
              "    background-color: var(--bg-color);\n",
              "    border: none;\n",
              "    border-radius: 50%;\n",
              "    cursor: pointer;\n",
              "    display: none;\n",
              "    fill: var(--fill-color);\n",
              "    height: 32px;\n",
              "    padding: 0;\n",
              "    width: 32px;\n",
              "  }\n",
              "\n",
              "  .colab-df-quickchart:hover {\n",
              "    background-color: var(--hover-bg-color);\n",
              "    box-shadow: 0 1px 2px rgba(60, 64, 67, 0.3), 0 1px 3px 1px rgba(60, 64, 67, 0.15);\n",
              "    fill: var(--button-hover-fill-color);\n",
              "  }\n",
              "\n",
              "  .colab-df-quickchart-complete:disabled,\n",
              "  .colab-df-quickchart-complete:disabled:hover {\n",
              "    background-color: var(--disabled-bg-color);\n",
              "    fill: var(--disabled-fill-color);\n",
              "    box-shadow: none;\n",
              "  }\n",
              "\n",
              "  .colab-df-spinner {\n",
              "    border: 2px solid var(--fill-color);\n",
              "    border-color: transparent;\n",
              "    border-bottom-color: var(--fill-color);\n",
              "    animation:\n",
              "      spin 1s steps(1) infinite;\n",
              "  }\n",
              "\n",
              "  @keyframes spin {\n",
              "    0% {\n",
              "      border-color: transparent;\n",
              "      border-bottom-color: var(--fill-color);\n",
              "      border-left-color: var(--fill-color);\n",
              "    }\n",
              "    20% {\n",
              "      border-color: transparent;\n",
              "      border-left-color: var(--fill-color);\n",
              "      border-top-color: var(--fill-color);\n",
              "    }\n",
              "    30% {\n",
              "      border-color: transparent;\n",
              "      border-left-color: var(--fill-color);\n",
              "      border-top-color: var(--fill-color);\n",
              "      border-right-color: var(--fill-color);\n",
              "    }\n",
              "    40% {\n",
              "      border-color: transparent;\n",
              "      border-right-color: var(--fill-color);\n",
              "      border-top-color: var(--fill-color);\n",
              "    }\n",
              "    60% {\n",
              "      border-color: transparent;\n",
              "      border-right-color: var(--fill-color);\n",
              "    }\n",
              "    80% {\n",
              "      border-color: transparent;\n",
              "      border-right-color: var(--fill-color);\n",
              "      border-bottom-color: var(--fill-color);\n",
              "    }\n",
              "    90% {\n",
              "      border-color: transparent;\n",
              "      border-bottom-color: var(--fill-color);\n",
              "    }\n",
              "  }\n",
              "</style>\n",
              "\n",
              "  <script>\n",
              "    async function quickchart(key) {\n",
              "      const quickchartButtonEl =\n",
              "        document.querySelector('#' + key + ' button');\n",
              "      quickchartButtonEl.disabled = true;  // To prevent multiple clicks.\n",
              "      quickchartButtonEl.classList.add('colab-df-spinner');\n",
              "      try {\n",
              "        const charts = await google.colab.kernel.invokeFunction(\n",
              "            'suggestCharts', [key], {});\n",
              "      } catch (error) {\n",
              "        console.error('Error during call to suggestCharts:', error);\n",
              "      }\n",
              "      quickchartButtonEl.classList.remove('colab-df-spinner');\n",
              "      quickchartButtonEl.classList.add('colab-df-quickchart-complete');\n",
              "    }\n",
              "    (() => {\n",
              "      let quickchartButtonEl =\n",
              "        document.querySelector('#df-bf8da8a5-5f97-4f29-be47-3802d30389dc button');\n",
              "      quickchartButtonEl.style.display =\n",
              "        google.colab.kernel.accessAllowed ? 'block' : 'none';\n",
              "    })();\n",
              "  </script>\n",
              "</div>\n",
              "\n",
              "    </div>\n",
              "  </div>\n"
            ],
            "application/vnd.google.colaboratory.intrinsic+json": {
              "type": "dataframe",
              "variable_name": "sales_report",
              "summary": "{\n  \"name\": \"sales_report\",\n  \"rows\": 234,\n  \"fields\": [\n    {\n      \"column\": \"No\",\n      \"properties\": {\n        \"dtype\": \"number\",\n        \"std\": 39.19902164049497,\n        \"min\": 1.0,\n        \"max\": 145.0,\n        \"num_unique_values\": 145,\n        \"samples\": [\n          71.0,\n          142.0,\n          29.0\n        ],\n        \"semantic_type\": \"\",\n        \"description\": \"\"\n      }\n    },\n    {\n      \"column\": \"Product Name\",\n      \"properties\": {\n        \"dtype\": \"category\",\n        \"num_unique_values\": 113,\n        \"samples\": [\n          \"Nike Undef Neon?\",\n          \"Adidsa Samba Rose Black\",\n          \"Adidas Samba OG White\"\n        ],\n        \"semantic_type\": \"\",\n        \"description\": \"\"\n      }\n    },\n    {\n      \"column\": \"Tipe\",\n      \"properties\": {\n        \"dtype\": \"category\",\n        \"num_unique_values\": 7,\n        \"samples\": [\n          \"LOW\",\n          \"HIGH\",\n          40\n        ],\n        \"semantic_type\": \"\",\n        \"description\": \"\"\n      }\n    },\n    {\n      \"column\": \"Art Code\",\n      \"properties\": {\n        \"dtype\": \"category\",\n        \"num_unique_values\": 77,\n        \"samples\": [\n          \"H01870\",\n          \"FX9042\",\n          \"DH7568-001\"\n        ],\n        \"semantic_type\": \"\",\n        \"description\": \"\"\n      }\n    },\n    {\n      \"column\": \"Merk\",\n      \"properties\": {\n        \"dtype\": \"category\",\n        \"num_unique_values\": 15,\n        \"samples\": [\n          \"salomon\",\n          \"DOCMART\",\n          \"NIKE\"\n        ],\n        \"semantic_type\": \"\",\n        \"description\": \"\"\n      }\n    },\n    {\n      \"column\": \"Size\",\n      \"properties\": {\n        \"dtype\": \"category\",\n        \"num_unique_values\": 25,\n        \"samples\": [\n          40,\n          \"muhrifqisaifullah\",\n          \"EURO\"\n        ],\n        \"semantic_type\": \"\",\n        \"description\": \"\"\n      }\n    },\n    {\n      \"column\": \"Unnamed: 6\",\n      \"properties\": {\n        \"dtype\": \"category\",\n        \"num_unique_values\": 20,\n        \"samples\": [\n          \"US\",\n          \"2024-05-09 00:00:00\",\n          \"085782640622\"\n        ],\n        \"semantic_type\": \"\",\n        \"description\": \"\"\n      }\n    },\n    {\n      \"column\": \"Unnamed: 7\",\n      \"properties\": {\n        \"dtype\": \"category\",\n        \"num_unique_values\": 20,\n        \"samples\": [\n          \"CM\",\n          \"2024-05-24 00:00:00\",\n          25.5\n        ],\n        \"semantic_type\": \"\",\n        \"description\": \"\"\n      }\n    },\n    {\n      \"column\": \"Condition\",\n      \"properties\": {\n        \"dtype\": \"category\",\n        \"num_unique_values\": 4,\n        \"samples\": [\n          \"done\",\n          0.950000000000001,\n          0.95\n        ],\n        \"semantic_type\": \"\",\n        \"description\": \"\"\n      }\n    },\n    {\n      \"column\": \"Deal\",\n      \"properties\": {\n        \"dtype\": \"category\",\n        \"num_unique_values\": 39,\n        \"samples\": [\n          2900000,\n          1800000,\n          725000\n        ],\n        \"semantic_type\": \"\",\n        \"description\": \"\"\n      }\n    },\n    {\n      \"column\": \"Keluar\",\n      \"properties\": {\n        \"dtype\": \"date\",\n        \"min\": \"2024-03-01 00:00:00\",\n        \"max\": \"2024-04-29 00:00:00\",\n        \"num_unique_values\": 45,\n        \"samples\": [\n          \"2024-04-24 00:00:00\",\n          \"2024-04-06 00:00:00\",\n          \"2024-04-07 00:00:00\"\n        ],\n        \"semantic_type\": \"\",\n        \"description\": \"\"\n      }\n    },\n    {\n      \"column\": \"Payment\",\n      \"properties\": {\n        \"dtype\": \"category\",\n        \"num_unique_values\": 11,\n        \"samples\": [\n          \"cash\",\n          \"CASH\",\n          \"cash 520 tf 1,1 ac\"\n        ],\n        \"semantic_type\": \"\",\n        \"description\": \"\"\n      }\n    }\n  ]\n}"
            }
          },
          "metadata": {},
          "execution_count": 520
        }
      ]
    },
    {
      "cell_type": "code",
      "source": [
        "sales_report.tail()\n"
      ],
      "metadata": {
        "colab": {
          "base_uri": "https://localhost:8080/",
          "height": 206
        },
        "id": "opdZQ16eUj4-",
        "outputId": "46097066-1539-49c0-f5e1-55d60654e35c"
      },
      "execution_count": 521,
      "outputs": [
        {
          "output_type": "execute_result",
          "data": {
            "text/plain": [
              "       No                 Product Name Tipe    Art Code    Merk Size  \\\n",
              "229  82.0  Air Max 97 Undefeated White  LOW  AJ1986-100    NIKE   43   \n",
              "230  85.0   Malmo Pink Green Exclusive  LOW      ID2783  ADIDAS   44   \n",
              "231  86.0       Adidas Samba Argentina  LOW      FW2427  ADIDAS   42   \n",
              "232  87.0                          NaN  NaN         NaN     NaN  NaN   \n",
              "233  88.0                          NaN  NaN         NaN     NaN  NaN   \n",
              "\n",
              "    Unnamed: 6           Unnamed: 7 Condition    Deal     Keluar Payment  \n",
              "229          9                   27      0.95  750000 2024-04-29  TF BCA  \n",
              "230         10                   28      0.95  825000 2024-04-29  TF BCA  \n",
              "231          8  2024-05-26 00:00:00      0.95  800000 2024-04-29    CASH  \n",
              "232        NaN                  NaN       NaN     NaN        NaT     NaN  \n",
              "233        NaN                  NaN       NaN     NaN        NaT     NaN  "
            ],
            "text/html": [
              "\n",
              "  <div id=\"df-5c2cfec5-e3ab-40fb-b709-2fa86bffdaf4\" class=\"colab-df-container\">\n",
              "    <div>\n",
              "<style scoped>\n",
              "    .dataframe tbody tr th:only-of-type {\n",
              "        vertical-align: middle;\n",
              "    }\n",
              "\n",
              "    .dataframe tbody tr th {\n",
              "        vertical-align: top;\n",
              "    }\n",
              "\n",
              "    .dataframe thead th {\n",
              "        text-align: right;\n",
              "    }\n",
              "</style>\n",
              "<table border=\"1\" class=\"dataframe\">\n",
              "  <thead>\n",
              "    <tr style=\"text-align: right;\">\n",
              "      <th></th>\n",
              "      <th>No</th>\n",
              "      <th>Product Name</th>\n",
              "      <th>Tipe</th>\n",
              "      <th>Art Code</th>\n",
              "      <th>Merk</th>\n",
              "      <th>Size</th>\n",
              "      <th>Unnamed: 6</th>\n",
              "      <th>Unnamed: 7</th>\n",
              "      <th>Condition</th>\n",
              "      <th>Deal</th>\n",
              "      <th>Keluar</th>\n",
              "      <th>Payment</th>\n",
              "    </tr>\n",
              "  </thead>\n",
              "  <tbody>\n",
              "    <tr>\n",
              "      <th>229</th>\n",
              "      <td>82.0</td>\n",
              "      <td>Air Max 97 Undefeated White</td>\n",
              "      <td>LOW</td>\n",
              "      <td>AJ1986-100</td>\n",
              "      <td>NIKE</td>\n",
              "      <td>43</td>\n",
              "      <td>9</td>\n",
              "      <td>27</td>\n",
              "      <td>0.95</td>\n",
              "      <td>750000</td>\n",
              "      <td>2024-04-29</td>\n",
              "      <td>TF BCA</td>\n",
              "    </tr>\n",
              "    <tr>\n",
              "      <th>230</th>\n",
              "      <td>85.0</td>\n",
              "      <td>Malmo Pink Green Exclusive</td>\n",
              "      <td>LOW</td>\n",
              "      <td>ID2783</td>\n",
              "      <td>ADIDAS</td>\n",
              "      <td>44</td>\n",
              "      <td>10</td>\n",
              "      <td>28</td>\n",
              "      <td>0.95</td>\n",
              "      <td>825000</td>\n",
              "      <td>2024-04-29</td>\n",
              "      <td>TF BCA</td>\n",
              "    </tr>\n",
              "    <tr>\n",
              "      <th>231</th>\n",
              "      <td>86.0</td>\n",
              "      <td>Adidas Samba Argentina</td>\n",
              "      <td>LOW</td>\n",
              "      <td>FW2427</td>\n",
              "      <td>ADIDAS</td>\n",
              "      <td>42</td>\n",
              "      <td>8</td>\n",
              "      <td>2024-05-26 00:00:00</td>\n",
              "      <td>0.95</td>\n",
              "      <td>800000</td>\n",
              "      <td>2024-04-29</td>\n",
              "      <td>CASH</td>\n",
              "    </tr>\n",
              "    <tr>\n",
              "      <th>232</th>\n",
              "      <td>87.0</td>\n",
              "      <td>NaN</td>\n",
              "      <td>NaN</td>\n",
              "      <td>NaN</td>\n",
              "      <td>NaN</td>\n",
              "      <td>NaN</td>\n",
              "      <td>NaN</td>\n",
              "      <td>NaN</td>\n",
              "      <td>NaN</td>\n",
              "      <td>NaN</td>\n",
              "      <td>NaT</td>\n",
              "      <td>NaN</td>\n",
              "    </tr>\n",
              "    <tr>\n",
              "      <th>233</th>\n",
              "      <td>88.0</td>\n",
              "      <td>NaN</td>\n",
              "      <td>NaN</td>\n",
              "      <td>NaN</td>\n",
              "      <td>NaN</td>\n",
              "      <td>NaN</td>\n",
              "      <td>NaN</td>\n",
              "      <td>NaN</td>\n",
              "      <td>NaN</td>\n",
              "      <td>NaN</td>\n",
              "      <td>NaT</td>\n",
              "      <td>NaN</td>\n",
              "    </tr>\n",
              "  </tbody>\n",
              "</table>\n",
              "</div>\n",
              "    <div class=\"colab-df-buttons\">\n",
              "\n",
              "  <div class=\"colab-df-container\">\n",
              "    <button class=\"colab-df-convert\" onclick=\"convertToInteractive('df-5c2cfec5-e3ab-40fb-b709-2fa86bffdaf4')\"\n",
              "            title=\"Convert this dataframe to an interactive table.\"\n",
              "            style=\"display:none;\">\n",
              "\n",
              "  <svg xmlns=\"http://www.w3.org/2000/svg\" height=\"24px\" viewBox=\"0 -960 960 960\">\n",
              "    <path d=\"M120-120v-720h720v720H120Zm60-500h600v-160H180v160Zm220 220h160v-160H400v160Zm0 220h160v-160H400v160ZM180-400h160v-160H180v160Zm440 0h160v-160H620v160ZM180-180h160v-160H180v160Zm440 0h160v-160H620v160Z\"/>\n",
              "  </svg>\n",
              "    </button>\n",
              "\n",
              "  <style>\n",
              "    .colab-df-container {\n",
              "      display:flex;\n",
              "      gap: 12px;\n",
              "    }\n",
              "\n",
              "    .colab-df-convert {\n",
              "      background-color: #E8F0FE;\n",
              "      border: none;\n",
              "      border-radius: 50%;\n",
              "      cursor: pointer;\n",
              "      display: none;\n",
              "      fill: #1967D2;\n",
              "      height: 32px;\n",
              "      padding: 0 0 0 0;\n",
              "      width: 32px;\n",
              "    }\n",
              "\n",
              "    .colab-df-convert:hover {\n",
              "      background-color: #E2EBFA;\n",
              "      box-shadow: 0px 1px 2px rgba(60, 64, 67, 0.3), 0px 1px 3px 1px rgba(60, 64, 67, 0.15);\n",
              "      fill: #174EA6;\n",
              "    }\n",
              "\n",
              "    .colab-df-buttons div {\n",
              "      margin-bottom: 4px;\n",
              "    }\n",
              "\n",
              "    [theme=dark] .colab-df-convert {\n",
              "      background-color: #3B4455;\n",
              "      fill: #D2E3FC;\n",
              "    }\n",
              "\n",
              "    [theme=dark] .colab-df-convert:hover {\n",
              "      background-color: #434B5C;\n",
              "      box-shadow: 0px 1px 3px 1px rgba(0, 0, 0, 0.15);\n",
              "      filter: drop-shadow(0px 1px 2px rgba(0, 0, 0, 0.3));\n",
              "      fill: #FFFFFF;\n",
              "    }\n",
              "  </style>\n",
              "\n",
              "    <script>\n",
              "      const buttonEl =\n",
              "        document.querySelector('#df-5c2cfec5-e3ab-40fb-b709-2fa86bffdaf4 button.colab-df-convert');\n",
              "      buttonEl.style.display =\n",
              "        google.colab.kernel.accessAllowed ? 'block' : 'none';\n",
              "\n",
              "      async function convertToInteractive(key) {\n",
              "        const element = document.querySelector('#df-5c2cfec5-e3ab-40fb-b709-2fa86bffdaf4');\n",
              "        const dataTable =\n",
              "          await google.colab.kernel.invokeFunction('convertToInteractive',\n",
              "                                                    [key], {});\n",
              "        if (!dataTable) return;\n",
              "\n",
              "        const docLinkHtml = 'Like what you see? Visit the ' +\n",
              "          '<a target=\"_blank\" href=https://colab.research.google.com/notebooks/data_table.ipynb>data table notebook</a>'\n",
              "          + ' to learn more about interactive tables.';\n",
              "        element.innerHTML = '';\n",
              "        dataTable['output_type'] = 'display_data';\n",
              "        await google.colab.output.renderOutput(dataTable, element);\n",
              "        const docLink = document.createElement('div');\n",
              "        docLink.innerHTML = docLinkHtml;\n",
              "        element.appendChild(docLink);\n",
              "      }\n",
              "    </script>\n",
              "  </div>\n",
              "\n",
              "\n",
              "<div id=\"df-0196bd24-d2be-4c89-97da-4fdfc2f3188f\">\n",
              "  <button class=\"colab-df-quickchart\" onclick=\"quickchart('df-0196bd24-d2be-4c89-97da-4fdfc2f3188f')\"\n",
              "            title=\"Suggest charts\"\n",
              "            style=\"display:none;\">\n",
              "\n",
              "<svg xmlns=\"http://www.w3.org/2000/svg\" height=\"24px\"viewBox=\"0 0 24 24\"\n",
              "     width=\"24px\">\n",
              "    <g>\n",
              "        <path d=\"M19 3H5c-1.1 0-2 .9-2 2v14c0 1.1.9 2 2 2h14c1.1 0 2-.9 2-2V5c0-1.1-.9-2-2-2zM9 17H7v-7h2v7zm4 0h-2V7h2v10zm4 0h-2v-4h2v4z\"/>\n",
              "    </g>\n",
              "</svg>\n",
              "  </button>\n",
              "\n",
              "<style>\n",
              "  .colab-df-quickchart {\n",
              "      --bg-color: #E8F0FE;\n",
              "      --fill-color: #1967D2;\n",
              "      --hover-bg-color: #E2EBFA;\n",
              "      --hover-fill-color: #174EA6;\n",
              "      --disabled-fill-color: #AAA;\n",
              "      --disabled-bg-color: #DDD;\n",
              "  }\n",
              "\n",
              "  [theme=dark] .colab-df-quickchart {\n",
              "      --bg-color: #3B4455;\n",
              "      --fill-color: #D2E3FC;\n",
              "      --hover-bg-color: #434B5C;\n",
              "      --hover-fill-color: #FFFFFF;\n",
              "      --disabled-bg-color: #3B4455;\n",
              "      --disabled-fill-color: #666;\n",
              "  }\n",
              "\n",
              "  .colab-df-quickchart {\n",
              "    background-color: var(--bg-color);\n",
              "    border: none;\n",
              "    border-radius: 50%;\n",
              "    cursor: pointer;\n",
              "    display: none;\n",
              "    fill: var(--fill-color);\n",
              "    height: 32px;\n",
              "    padding: 0;\n",
              "    width: 32px;\n",
              "  }\n",
              "\n",
              "  .colab-df-quickchart:hover {\n",
              "    background-color: var(--hover-bg-color);\n",
              "    box-shadow: 0 1px 2px rgba(60, 64, 67, 0.3), 0 1px 3px 1px rgba(60, 64, 67, 0.15);\n",
              "    fill: var(--button-hover-fill-color);\n",
              "  }\n",
              "\n",
              "  .colab-df-quickchart-complete:disabled,\n",
              "  .colab-df-quickchart-complete:disabled:hover {\n",
              "    background-color: var(--disabled-bg-color);\n",
              "    fill: var(--disabled-fill-color);\n",
              "    box-shadow: none;\n",
              "  }\n",
              "\n",
              "  .colab-df-spinner {\n",
              "    border: 2px solid var(--fill-color);\n",
              "    border-color: transparent;\n",
              "    border-bottom-color: var(--fill-color);\n",
              "    animation:\n",
              "      spin 1s steps(1) infinite;\n",
              "  }\n",
              "\n",
              "  @keyframes spin {\n",
              "    0% {\n",
              "      border-color: transparent;\n",
              "      border-bottom-color: var(--fill-color);\n",
              "      border-left-color: var(--fill-color);\n",
              "    }\n",
              "    20% {\n",
              "      border-color: transparent;\n",
              "      border-left-color: var(--fill-color);\n",
              "      border-top-color: var(--fill-color);\n",
              "    }\n",
              "    30% {\n",
              "      border-color: transparent;\n",
              "      border-left-color: var(--fill-color);\n",
              "      border-top-color: var(--fill-color);\n",
              "      border-right-color: var(--fill-color);\n",
              "    }\n",
              "    40% {\n",
              "      border-color: transparent;\n",
              "      border-right-color: var(--fill-color);\n",
              "      border-top-color: var(--fill-color);\n",
              "    }\n",
              "    60% {\n",
              "      border-color: transparent;\n",
              "      border-right-color: var(--fill-color);\n",
              "    }\n",
              "    80% {\n",
              "      border-color: transparent;\n",
              "      border-right-color: var(--fill-color);\n",
              "      border-bottom-color: var(--fill-color);\n",
              "    }\n",
              "    90% {\n",
              "      border-color: transparent;\n",
              "      border-bottom-color: var(--fill-color);\n",
              "    }\n",
              "  }\n",
              "</style>\n",
              "\n",
              "  <script>\n",
              "    async function quickchart(key) {\n",
              "      const quickchartButtonEl =\n",
              "        document.querySelector('#' + key + ' button');\n",
              "      quickchartButtonEl.disabled = true;  // To prevent multiple clicks.\n",
              "      quickchartButtonEl.classList.add('colab-df-spinner');\n",
              "      try {\n",
              "        const charts = await google.colab.kernel.invokeFunction(\n",
              "            'suggestCharts', [key], {});\n",
              "      } catch (error) {\n",
              "        console.error('Error during call to suggestCharts:', error);\n",
              "      }\n",
              "      quickchartButtonEl.classList.remove('colab-df-spinner');\n",
              "      quickchartButtonEl.classList.add('colab-df-quickchart-complete');\n",
              "    }\n",
              "    (() => {\n",
              "      let quickchartButtonEl =\n",
              "        document.querySelector('#df-0196bd24-d2be-4c89-97da-4fdfc2f3188f button');\n",
              "      quickchartButtonEl.style.display =\n",
              "        google.colab.kernel.accessAllowed ? 'block' : 'none';\n",
              "    })();\n",
              "  </script>\n",
              "</div>\n",
              "\n",
              "    </div>\n",
              "  </div>\n"
            ],
            "application/vnd.google.colaboratory.intrinsic+json": {
              "type": "dataframe",
              "repr_error": "0"
            }
          },
          "metadata": {},
          "execution_count": 521
        }
      ]
    },
    {
      "cell_type": "code",
      "source": [
        "missing_values = df.isnull().sum()\n",
        "print(missing_values)"
      ],
      "metadata": {
        "colab": {
          "base_uri": "https://localhost:8080/"
        },
        "id": "_Xg9vIwtbCZG",
        "outputId": "0a2b9e13-745b-408c-d21c-3655586f6f62"
      },
      "execution_count": 522,
      "outputs": [
        {
          "output_type": "stream",
          "name": "stdout",
          "text": [
            "No               0\n",
            "Product Name     0\n",
            "Tipe             0\n",
            "Art Code        23\n",
            "Merk             0\n",
            "Size             0\n",
            "Condition        0\n",
            "Deal             0\n",
            "Keluar           0\n",
            "Payment          0\n",
            "dtype: int64\n"
          ]
        }
      ]
    },
    {
      "cell_type": "code",
      "source": [
        "sales_report.drop(columns=['Unnamed: 6', 'Unnamed: 7'], inplace=True)"
      ],
      "metadata": {
        "id": "46Fr9R-kcCc6"
      },
      "execution_count": 523,
      "outputs": []
    },
    {
      "cell_type": "code",
      "source": [
        "sales_report.to_excel('SalesReport_Maret_April.xlsx',index=False)"
      ],
      "metadata": {
        "id": "oMIJXYZtcFDk"
      },
      "execution_count": 524,
      "outputs": []
    },
    {
      "cell_type": "code",
      "source": [
        "sales_report.head()"
      ],
      "metadata": {
        "colab": {
          "base_uri": "https://localhost:8080/",
          "height": 206
        },
        "id": "MyzmI7V3cHiQ",
        "outputId": "4d795a76-8b7a-49ed-d0e0-58a784062e9b"
      },
      "execution_count": 525,
      "outputs": [
        {
          "output_type": "execute_result",
          "data": {
            "text/plain": [
              "    No                                     Product Name Tipe    Art Code  \\\n",
              "0  NaN                                              NaN  NaN         NaN   \n",
              "1  1.0                Nike Air Force 1 Low Triple White  LOW  315122-111   \n",
              "2  2.0  Adidas Handball Spezial Grey Black Gum (carbon)  LOW      BD7635   \n",
              "3  3.0    Adidas Samba Vegan \"Cloud White & Core Black\"  LOW      FW2427   \n",
              "4  4.0                  Adidas Spezial Light Blue White  LOW      BD7632   \n",
              "\n",
              "     Merk    Size Condition    Deal     Keluar Payment  \n",
              "0     NaN    EURO       NaN     NaN        NaT     NaN  \n",
              "1    NIKE      42      0.95  550000 2024-03-01     NaN  \n",
              "2  ADIDAS      44      0.95  750000 2024-03-02     NaN  \n",
              "3  ADIDAS  43 1/3      0.95  800000 2024-03-02     NaN  \n",
              "4  ADIDAS      38      0.95  675000 2024-03-04    CASH  "
            ],
            "text/html": [
              "\n",
              "  <div id=\"df-24768ab2-0013-49a8-8e71-778df6accef9\" class=\"colab-df-container\">\n",
              "    <div>\n",
              "<style scoped>\n",
              "    .dataframe tbody tr th:only-of-type {\n",
              "        vertical-align: middle;\n",
              "    }\n",
              "\n",
              "    .dataframe tbody tr th {\n",
              "        vertical-align: top;\n",
              "    }\n",
              "\n",
              "    .dataframe thead th {\n",
              "        text-align: right;\n",
              "    }\n",
              "</style>\n",
              "<table border=\"1\" class=\"dataframe\">\n",
              "  <thead>\n",
              "    <tr style=\"text-align: right;\">\n",
              "      <th></th>\n",
              "      <th>No</th>\n",
              "      <th>Product Name</th>\n",
              "      <th>Tipe</th>\n",
              "      <th>Art Code</th>\n",
              "      <th>Merk</th>\n",
              "      <th>Size</th>\n",
              "      <th>Condition</th>\n",
              "      <th>Deal</th>\n",
              "      <th>Keluar</th>\n",
              "      <th>Payment</th>\n",
              "    </tr>\n",
              "  </thead>\n",
              "  <tbody>\n",
              "    <tr>\n",
              "      <th>0</th>\n",
              "      <td>NaN</td>\n",
              "      <td>NaN</td>\n",
              "      <td>NaN</td>\n",
              "      <td>NaN</td>\n",
              "      <td>NaN</td>\n",
              "      <td>EURO</td>\n",
              "      <td>NaN</td>\n",
              "      <td>NaN</td>\n",
              "      <td>NaT</td>\n",
              "      <td>NaN</td>\n",
              "    </tr>\n",
              "    <tr>\n",
              "      <th>1</th>\n",
              "      <td>1.0</td>\n",
              "      <td>Nike Air Force 1 Low Triple White</td>\n",
              "      <td>LOW</td>\n",
              "      <td>315122-111</td>\n",
              "      <td>NIKE</td>\n",
              "      <td>42</td>\n",
              "      <td>0.95</td>\n",
              "      <td>550000</td>\n",
              "      <td>2024-03-01</td>\n",
              "      <td>NaN</td>\n",
              "    </tr>\n",
              "    <tr>\n",
              "      <th>2</th>\n",
              "      <td>2.0</td>\n",
              "      <td>Adidas Handball Spezial Grey Black Gum (carbon)</td>\n",
              "      <td>LOW</td>\n",
              "      <td>BD7635</td>\n",
              "      <td>ADIDAS</td>\n",
              "      <td>44</td>\n",
              "      <td>0.95</td>\n",
              "      <td>750000</td>\n",
              "      <td>2024-03-02</td>\n",
              "      <td>NaN</td>\n",
              "    </tr>\n",
              "    <tr>\n",
              "      <th>3</th>\n",
              "      <td>3.0</td>\n",
              "      <td>Adidas Samba Vegan \"Cloud White &amp; Core Black\"</td>\n",
              "      <td>LOW</td>\n",
              "      <td>FW2427</td>\n",
              "      <td>ADIDAS</td>\n",
              "      <td>43 1/3</td>\n",
              "      <td>0.95</td>\n",
              "      <td>800000</td>\n",
              "      <td>2024-03-02</td>\n",
              "      <td>NaN</td>\n",
              "    </tr>\n",
              "    <tr>\n",
              "      <th>4</th>\n",
              "      <td>4.0</td>\n",
              "      <td>Adidas Spezial Light Blue White</td>\n",
              "      <td>LOW</td>\n",
              "      <td>BD7632</td>\n",
              "      <td>ADIDAS</td>\n",
              "      <td>38</td>\n",
              "      <td>0.95</td>\n",
              "      <td>675000</td>\n",
              "      <td>2024-03-04</td>\n",
              "      <td>CASH</td>\n",
              "    </tr>\n",
              "  </tbody>\n",
              "</table>\n",
              "</div>\n",
              "    <div class=\"colab-df-buttons\">\n",
              "\n",
              "  <div class=\"colab-df-container\">\n",
              "    <button class=\"colab-df-convert\" onclick=\"convertToInteractive('df-24768ab2-0013-49a8-8e71-778df6accef9')\"\n",
              "            title=\"Convert this dataframe to an interactive table.\"\n",
              "            style=\"display:none;\">\n",
              "\n",
              "  <svg xmlns=\"http://www.w3.org/2000/svg\" height=\"24px\" viewBox=\"0 -960 960 960\">\n",
              "    <path d=\"M120-120v-720h720v720H120Zm60-500h600v-160H180v160Zm220 220h160v-160H400v160Zm0 220h160v-160H400v160ZM180-400h160v-160H180v160Zm440 0h160v-160H620v160ZM180-180h160v-160H180v160Zm440 0h160v-160H620v160Z\"/>\n",
              "  </svg>\n",
              "    </button>\n",
              "\n",
              "  <style>\n",
              "    .colab-df-container {\n",
              "      display:flex;\n",
              "      gap: 12px;\n",
              "    }\n",
              "\n",
              "    .colab-df-convert {\n",
              "      background-color: #E8F0FE;\n",
              "      border: none;\n",
              "      border-radius: 50%;\n",
              "      cursor: pointer;\n",
              "      display: none;\n",
              "      fill: #1967D2;\n",
              "      height: 32px;\n",
              "      padding: 0 0 0 0;\n",
              "      width: 32px;\n",
              "    }\n",
              "\n",
              "    .colab-df-convert:hover {\n",
              "      background-color: #E2EBFA;\n",
              "      box-shadow: 0px 1px 2px rgba(60, 64, 67, 0.3), 0px 1px 3px 1px rgba(60, 64, 67, 0.15);\n",
              "      fill: #174EA6;\n",
              "    }\n",
              "\n",
              "    .colab-df-buttons div {\n",
              "      margin-bottom: 4px;\n",
              "    }\n",
              "\n",
              "    [theme=dark] .colab-df-convert {\n",
              "      background-color: #3B4455;\n",
              "      fill: #D2E3FC;\n",
              "    }\n",
              "\n",
              "    [theme=dark] .colab-df-convert:hover {\n",
              "      background-color: #434B5C;\n",
              "      box-shadow: 0px 1px 3px 1px rgba(0, 0, 0, 0.15);\n",
              "      filter: drop-shadow(0px 1px 2px rgba(0, 0, 0, 0.3));\n",
              "      fill: #FFFFFF;\n",
              "    }\n",
              "  </style>\n",
              "\n",
              "    <script>\n",
              "      const buttonEl =\n",
              "        document.querySelector('#df-24768ab2-0013-49a8-8e71-778df6accef9 button.colab-df-convert');\n",
              "      buttonEl.style.display =\n",
              "        google.colab.kernel.accessAllowed ? 'block' : 'none';\n",
              "\n",
              "      async function convertToInteractive(key) {\n",
              "        const element = document.querySelector('#df-24768ab2-0013-49a8-8e71-778df6accef9');\n",
              "        const dataTable =\n",
              "          await google.colab.kernel.invokeFunction('convertToInteractive',\n",
              "                                                    [key], {});\n",
              "        if (!dataTable) return;\n",
              "\n",
              "        const docLinkHtml = 'Like what you see? Visit the ' +\n",
              "          '<a target=\"_blank\" href=https://colab.research.google.com/notebooks/data_table.ipynb>data table notebook</a>'\n",
              "          + ' to learn more about interactive tables.';\n",
              "        element.innerHTML = '';\n",
              "        dataTable['output_type'] = 'display_data';\n",
              "        await google.colab.output.renderOutput(dataTable, element);\n",
              "        const docLink = document.createElement('div');\n",
              "        docLink.innerHTML = docLinkHtml;\n",
              "        element.appendChild(docLink);\n",
              "      }\n",
              "    </script>\n",
              "  </div>\n",
              "\n",
              "\n",
              "<div id=\"df-ccad87c2-2bb9-4a07-bbfd-112310bb9e74\">\n",
              "  <button class=\"colab-df-quickchart\" onclick=\"quickchart('df-ccad87c2-2bb9-4a07-bbfd-112310bb9e74')\"\n",
              "            title=\"Suggest charts\"\n",
              "            style=\"display:none;\">\n",
              "\n",
              "<svg xmlns=\"http://www.w3.org/2000/svg\" height=\"24px\"viewBox=\"0 0 24 24\"\n",
              "     width=\"24px\">\n",
              "    <g>\n",
              "        <path d=\"M19 3H5c-1.1 0-2 .9-2 2v14c0 1.1.9 2 2 2h14c1.1 0 2-.9 2-2V5c0-1.1-.9-2-2-2zM9 17H7v-7h2v7zm4 0h-2V7h2v10zm4 0h-2v-4h2v4z\"/>\n",
              "    </g>\n",
              "</svg>\n",
              "  </button>\n",
              "\n",
              "<style>\n",
              "  .colab-df-quickchart {\n",
              "      --bg-color: #E8F0FE;\n",
              "      --fill-color: #1967D2;\n",
              "      --hover-bg-color: #E2EBFA;\n",
              "      --hover-fill-color: #174EA6;\n",
              "      --disabled-fill-color: #AAA;\n",
              "      --disabled-bg-color: #DDD;\n",
              "  }\n",
              "\n",
              "  [theme=dark] .colab-df-quickchart {\n",
              "      --bg-color: #3B4455;\n",
              "      --fill-color: #D2E3FC;\n",
              "      --hover-bg-color: #434B5C;\n",
              "      --hover-fill-color: #FFFFFF;\n",
              "      --disabled-bg-color: #3B4455;\n",
              "      --disabled-fill-color: #666;\n",
              "  }\n",
              "\n",
              "  .colab-df-quickchart {\n",
              "    background-color: var(--bg-color);\n",
              "    border: none;\n",
              "    border-radius: 50%;\n",
              "    cursor: pointer;\n",
              "    display: none;\n",
              "    fill: var(--fill-color);\n",
              "    height: 32px;\n",
              "    padding: 0;\n",
              "    width: 32px;\n",
              "  }\n",
              "\n",
              "  .colab-df-quickchart:hover {\n",
              "    background-color: var(--hover-bg-color);\n",
              "    box-shadow: 0 1px 2px rgba(60, 64, 67, 0.3), 0 1px 3px 1px rgba(60, 64, 67, 0.15);\n",
              "    fill: var(--button-hover-fill-color);\n",
              "  }\n",
              "\n",
              "  .colab-df-quickchart-complete:disabled,\n",
              "  .colab-df-quickchart-complete:disabled:hover {\n",
              "    background-color: var(--disabled-bg-color);\n",
              "    fill: var(--disabled-fill-color);\n",
              "    box-shadow: none;\n",
              "  }\n",
              "\n",
              "  .colab-df-spinner {\n",
              "    border: 2px solid var(--fill-color);\n",
              "    border-color: transparent;\n",
              "    border-bottom-color: var(--fill-color);\n",
              "    animation:\n",
              "      spin 1s steps(1) infinite;\n",
              "  }\n",
              "\n",
              "  @keyframes spin {\n",
              "    0% {\n",
              "      border-color: transparent;\n",
              "      border-bottom-color: var(--fill-color);\n",
              "      border-left-color: var(--fill-color);\n",
              "    }\n",
              "    20% {\n",
              "      border-color: transparent;\n",
              "      border-left-color: var(--fill-color);\n",
              "      border-top-color: var(--fill-color);\n",
              "    }\n",
              "    30% {\n",
              "      border-color: transparent;\n",
              "      border-left-color: var(--fill-color);\n",
              "      border-top-color: var(--fill-color);\n",
              "      border-right-color: var(--fill-color);\n",
              "    }\n",
              "    40% {\n",
              "      border-color: transparent;\n",
              "      border-right-color: var(--fill-color);\n",
              "      border-top-color: var(--fill-color);\n",
              "    }\n",
              "    60% {\n",
              "      border-color: transparent;\n",
              "      border-right-color: var(--fill-color);\n",
              "    }\n",
              "    80% {\n",
              "      border-color: transparent;\n",
              "      border-right-color: var(--fill-color);\n",
              "      border-bottom-color: var(--fill-color);\n",
              "    }\n",
              "    90% {\n",
              "      border-color: transparent;\n",
              "      border-bottom-color: var(--fill-color);\n",
              "    }\n",
              "  }\n",
              "</style>\n",
              "\n",
              "  <script>\n",
              "    async function quickchart(key) {\n",
              "      const quickchartButtonEl =\n",
              "        document.querySelector('#' + key + ' button');\n",
              "      quickchartButtonEl.disabled = true;  // To prevent multiple clicks.\n",
              "      quickchartButtonEl.classList.add('colab-df-spinner');\n",
              "      try {\n",
              "        const charts = await google.colab.kernel.invokeFunction(\n",
              "            'suggestCharts', [key], {});\n",
              "      } catch (error) {\n",
              "        console.error('Error during call to suggestCharts:', error);\n",
              "      }\n",
              "      quickchartButtonEl.classList.remove('colab-df-spinner');\n",
              "      quickchartButtonEl.classList.add('colab-df-quickchart-complete');\n",
              "    }\n",
              "    (() => {\n",
              "      let quickchartButtonEl =\n",
              "        document.querySelector('#df-ccad87c2-2bb9-4a07-bbfd-112310bb9e74 button');\n",
              "      quickchartButtonEl.style.display =\n",
              "        google.colab.kernel.accessAllowed ? 'block' : 'none';\n",
              "    })();\n",
              "  </script>\n",
              "</div>\n",
              "\n",
              "    </div>\n",
              "  </div>\n"
            ],
            "application/vnd.google.colaboratory.intrinsic+json": {
              "type": "dataframe",
              "variable_name": "sales_report",
              "summary": "{\n  \"name\": \"sales_report\",\n  \"rows\": 234,\n  \"fields\": [\n    {\n      \"column\": \"No\",\n      \"properties\": {\n        \"dtype\": \"number\",\n        \"std\": 39.19902164049497,\n        \"min\": 1.0,\n        \"max\": 145.0,\n        \"num_unique_values\": 145,\n        \"samples\": [\n          71.0,\n          142.0,\n          29.0\n        ],\n        \"semantic_type\": \"\",\n        \"description\": \"\"\n      }\n    },\n    {\n      \"column\": \"Product Name\",\n      \"properties\": {\n        \"dtype\": \"category\",\n        \"num_unique_values\": 113,\n        \"samples\": [\n          \"Nike Undef Neon?\",\n          \"Adidsa Samba Rose Black\",\n          \"Adidas Samba OG White\"\n        ],\n        \"semantic_type\": \"\",\n        \"description\": \"\"\n      }\n    },\n    {\n      \"column\": \"Tipe\",\n      \"properties\": {\n        \"dtype\": \"category\",\n        \"num_unique_values\": 7,\n        \"samples\": [\n          \"LOW\",\n          \"HIGH\",\n          40\n        ],\n        \"semantic_type\": \"\",\n        \"description\": \"\"\n      }\n    },\n    {\n      \"column\": \"Art Code\",\n      \"properties\": {\n        \"dtype\": \"category\",\n        \"num_unique_values\": 77,\n        \"samples\": [\n          \"H01870\",\n          \"FX9042\",\n          \"DH7568-001\"\n        ],\n        \"semantic_type\": \"\",\n        \"description\": \"\"\n      }\n    },\n    {\n      \"column\": \"Merk\",\n      \"properties\": {\n        \"dtype\": \"category\",\n        \"num_unique_values\": 15,\n        \"samples\": [\n          \"salomon\",\n          \"DOCMART\",\n          \"NIKE\"\n        ],\n        \"semantic_type\": \"\",\n        \"description\": \"\"\n      }\n    },\n    {\n      \"column\": \"Size\",\n      \"properties\": {\n        \"dtype\": \"category\",\n        \"num_unique_values\": 25,\n        \"samples\": [\n          40,\n          \"muhrifqisaifullah\",\n          \"EURO\"\n        ],\n        \"semantic_type\": \"\",\n        \"description\": \"\"\n      }\n    },\n    {\n      \"column\": \"Condition\",\n      \"properties\": {\n        \"dtype\": \"category\",\n        \"num_unique_values\": 4,\n        \"samples\": [\n          \"done\",\n          0.950000000000001,\n          0.95\n        ],\n        \"semantic_type\": \"\",\n        \"description\": \"\"\n      }\n    },\n    {\n      \"column\": \"Deal\",\n      \"properties\": {\n        \"dtype\": \"category\",\n        \"num_unique_values\": 39,\n        \"samples\": [\n          2900000,\n          1800000,\n          725000\n        ],\n        \"semantic_type\": \"\",\n        \"description\": \"\"\n      }\n    },\n    {\n      \"column\": \"Keluar\",\n      \"properties\": {\n        \"dtype\": \"date\",\n        \"min\": \"2024-03-01 00:00:00\",\n        \"max\": \"2024-04-29 00:00:00\",\n        \"num_unique_values\": 45,\n        \"samples\": [\n          \"2024-04-24 00:00:00\",\n          \"2024-04-06 00:00:00\",\n          \"2024-04-07 00:00:00\"\n        ],\n        \"semantic_type\": \"\",\n        \"description\": \"\"\n      }\n    },\n    {\n      \"column\": \"Payment\",\n      \"properties\": {\n        \"dtype\": \"category\",\n        \"num_unique_values\": 11,\n        \"samples\": [\n          \"cash\",\n          \"CASH\",\n          \"cash 520 tf 1,1 ac\"\n        ],\n        \"semantic_type\": \"\",\n        \"description\": \"\"\n      }\n    }\n  ]\n}"
            }
          },
          "metadata": {},
          "execution_count": 525
        }
      ]
    },
    {
      "cell_type": "code",
      "source": [
        "missing_values = df.isnull().sum()\n",
        "print(missing_values)"
      ],
      "metadata": {
        "colab": {
          "base_uri": "https://localhost:8080/"
        },
        "id": "zXOCu_D-cKpR",
        "outputId": "6d5c14e5-5ea7-4dd5-bdef-d890c43a66b6"
      },
      "execution_count": 526,
      "outputs": [
        {
          "output_type": "stream",
          "name": "stdout",
          "text": [
            "No               0\n",
            "Product Name     0\n",
            "Tipe             0\n",
            "Art Code        23\n",
            "Merk             0\n",
            "Size             0\n",
            "Condition        0\n",
            "Deal             0\n",
            "Keluar           0\n",
            "Payment          0\n",
            "dtype: int64\n"
          ]
        }
      ]
    },
    {
      "cell_type": "markdown",
      "source": [
        "Preprocessing"
      ],
      "metadata": {
        "id": "rLvRaTvQfIJR"
      }
    },
    {
      "cell_type": "code",
      "source": [
        "sales_report = pd.read_excel('SalesReport_Maret_April.xlsx')\n",
        "sales_report.drop(index=0, inplace=True)"
      ],
      "metadata": {
        "id": "RvbiS1Iaf6Od"
      },
      "execution_count": 527,
      "outputs": []
    },
    {
      "cell_type": "code",
      "source": [
        "sales_report.to_excel('SalesReport_Maret_April.xlsx', index=False)"
      ],
      "metadata": {
        "id": "lyLjNtP3f-sE"
      },
      "execution_count": 528,
      "outputs": []
    },
    {
      "cell_type": "code",
      "source": [
        "sales_report.head()"
      ],
      "metadata": {
        "colab": {
          "base_uri": "https://localhost:8080/",
          "height": 206
        },
        "id": "9ZesiBV6gCzA",
        "outputId": "926037a1-5a71-4899-b00f-fe933803697e"
      },
      "execution_count": 529,
      "outputs": [
        {
          "output_type": "execute_result",
          "data": {
            "text/plain": [
              "    No                                     Product Name Tipe    Art Code  \\\n",
              "1  1.0                Nike Air Force 1 Low Triple White  LOW  315122-111   \n",
              "2  2.0  Adidas Handball Spezial Grey Black Gum (carbon)  LOW      BD7635   \n",
              "3  3.0    Adidas Samba Vegan \"Cloud White & Core Black\"  LOW      FW2427   \n",
              "4  4.0                  Adidas Spezial Light Blue White  LOW      BD7632   \n",
              "5  5.0                          Adidsa Samba Rose Black  LOW      H01870   \n",
              "\n",
              "     Merk    Size Condition    Deal     Keluar Payment  \n",
              "1    NIKE      42      0.95  550000 2024-03-01     NaN  \n",
              "2  ADIDAS      44      0.95  750000 2024-03-02     NaN  \n",
              "3  ADIDAS  43 1/3      0.95  800000 2024-03-02     NaN  \n",
              "4  ADIDAS      38      0.95  675000 2024-03-04    CASH  \n",
              "5  ADIDAS      36      0.95  725000 2024-03-04    CASH  "
            ],
            "text/html": [
              "\n",
              "  <div id=\"df-29b9353b-3912-4642-b6c1-d40f372ecf2f\" class=\"colab-df-container\">\n",
              "    <div>\n",
              "<style scoped>\n",
              "    .dataframe tbody tr th:only-of-type {\n",
              "        vertical-align: middle;\n",
              "    }\n",
              "\n",
              "    .dataframe tbody tr th {\n",
              "        vertical-align: top;\n",
              "    }\n",
              "\n",
              "    .dataframe thead th {\n",
              "        text-align: right;\n",
              "    }\n",
              "</style>\n",
              "<table border=\"1\" class=\"dataframe\">\n",
              "  <thead>\n",
              "    <tr style=\"text-align: right;\">\n",
              "      <th></th>\n",
              "      <th>No</th>\n",
              "      <th>Product Name</th>\n",
              "      <th>Tipe</th>\n",
              "      <th>Art Code</th>\n",
              "      <th>Merk</th>\n",
              "      <th>Size</th>\n",
              "      <th>Condition</th>\n",
              "      <th>Deal</th>\n",
              "      <th>Keluar</th>\n",
              "      <th>Payment</th>\n",
              "    </tr>\n",
              "  </thead>\n",
              "  <tbody>\n",
              "    <tr>\n",
              "      <th>1</th>\n",
              "      <td>1.0</td>\n",
              "      <td>Nike Air Force 1 Low Triple White</td>\n",
              "      <td>LOW</td>\n",
              "      <td>315122-111</td>\n",
              "      <td>NIKE</td>\n",
              "      <td>42</td>\n",
              "      <td>0.95</td>\n",
              "      <td>550000</td>\n",
              "      <td>2024-03-01</td>\n",
              "      <td>NaN</td>\n",
              "    </tr>\n",
              "    <tr>\n",
              "      <th>2</th>\n",
              "      <td>2.0</td>\n",
              "      <td>Adidas Handball Spezial Grey Black Gum (carbon)</td>\n",
              "      <td>LOW</td>\n",
              "      <td>BD7635</td>\n",
              "      <td>ADIDAS</td>\n",
              "      <td>44</td>\n",
              "      <td>0.95</td>\n",
              "      <td>750000</td>\n",
              "      <td>2024-03-02</td>\n",
              "      <td>NaN</td>\n",
              "    </tr>\n",
              "    <tr>\n",
              "      <th>3</th>\n",
              "      <td>3.0</td>\n",
              "      <td>Adidas Samba Vegan \"Cloud White &amp; Core Black\"</td>\n",
              "      <td>LOW</td>\n",
              "      <td>FW2427</td>\n",
              "      <td>ADIDAS</td>\n",
              "      <td>43 1/3</td>\n",
              "      <td>0.95</td>\n",
              "      <td>800000</td>\n",
              "      <td>2024-03-02</td>\n",
              "      <td>NaN</td>\n",
              "    </tr>\n",
              "    <tr>\n",
              "      <th>4</th>\n",
              "      <td>4.0</td>\n",
              "      <td>Adidas Spezial Light Blue White</td>\n",
              "      <td>LOW</td>\n",
              "      <td>BD7632</td>\n",
              "      <td>ADIDAS</td>\n",
              "      <td>38</td>\n",
              "      <td>0.95</td>\n",
              "      <td>675000</td>\n",
              "      <td>2024-03-04</td>\n",
              "      <td>CASH</td>\n",
              "    </tr>\n",
              "    <tr>\n",
              "      <th>5</th>\n",
              "      <td>5.0</td>\n",
              "      <td>Adidsa Samba Rose Black</td>\n",
              "      <td>LOW</td>\n",
              "      <td>H01870</td>\n",
              "      <td>ADIDAS</td>\n",
              "      <td>36</td>\n",
              "      <td>0.95</td>\n",
              "      <td>725000</td>\n",
              "      <td>2024-03-04</td>\n",
              "      <td>CASH</td>\n",
              "    </tr>\n",
              "  </tbody>\n",
              "</table>\n",
              "</div>\n",
              "    <div class=\"colab-df-buttons\">\n",
              "\n",
              "  <div class=\"colab-df-container\">\n",
              "    <button class=\"colab-df-convert\" onclick=\"convertToInteractive('df-29b9353b-3912-4642-b6c1-d40f372ecf2f')\"\n",
              "            title=\"Convert this dataframe to an interactive table.\"\n",
              "            style=\"display:none;\">\n",
              "\n",
              "  <svg xmlns=\"http://www.w3.org/2000/svg\" height=\"24px\" viewBox=\"0 -960 960 960\">\n",
              "    <path d=\"M120-120v-720h720v720H120Zm60-500h600v-160H180v160Zm220 220h160v-160H400v160Zm0 220h160v-160H400v160ZM180-400h160v-160H180v160Zm440 0h160v-160H620v160ZM180-180h160v-160H180v160Zm440 0h160v-160H620v160Z\"/>\n",
              "  </svg>\n",
              "    </button>\n",
              "\n",
              "  <style>\n",
              "    .colab-df-container {\n",
              "      display:flex;\n",
              "      gap: 12px;\n",
              "    }\n",
              "\n",
              "    .colab-df-convert {\n",
              "      background-color: #E8F0FE;\n",
              "      border: none;\n",
              "      border-radius: 50%;\n",
              "      cursor: pointer;\n",
              "      display: none;\n",
              "      fill: #1967D2;\n",
              "      height: 32px;\n",
              "      padding: 0 0 0 0;\n",
              "      width: 32px;\n",
              "    }\n",
              "\n",
              "    .colab-df-convert:hover {\n",
              "      background-color: #E2EBFA;\n",
              "      box-shadow: 0px 1px 2px rgba(60, 64, 67, 0.3), 0px 1px 3px 1px rgba(60, 64, 67, 0.15);\n",
              "      fill: #174EA6;\n",
              "    }\n",
              "\n",
              "    .colab-df-buttons div {\n",
              "      margin-bottom: 4px;\n",
              "    }\n",
              "\n",
              "    [theme=dark] .colab-df-convert {\n",
              "      background-color: #3B4455;\n",
              "      fill: #D2E3FC;\n",
              "    }\n",
              "\n",
              "    [theme=dark] .colab-df-convert:hover {\n",
              "      background-color: #434B5C;\n",
              "      box-shadow: 0px 1px 3px 1px rgba(0, 0, 0, 0.15);\n",
              "      filter: drop-shadow(0px 1px 2px rgba(0, 0, 0, 0.3));\n",
              "      fill: #FFFFFF;\n",
              "    }\n",
              "  </style>\n",
              "\n",
              "    <script>\n",
              "      const buttonEl =\n",
              "        document.querySelector('#df-29b9353b-3912-4642-b6c1-d40f372ecf2f button.colab-df-convert');\n",
              "      buttonEl.style.display =\n",
              "        google.colab.kernel.accessAllowed ? 'block' : 'none';\n",
              "\n",
              "      async function convertToInteractive(key) {\n",
              "        const element = document.querySelector('#df-29b9353b-3912-4642-b6c1-d40f372ecf2f');\n",
              "        const dataTable =\n",
              "          await google.colab.kernel.invokeFunction('convertToInteractive',\n",
              "                                                    [key], {});\n",
              "        if (!dataTable) return;\n",
              "\n",
              "        const docLinkHtml = 'Like what you see? Visit the ' +\n",
              "          '<a target=\"_blank\" href=https://colab.research.google.com/notebooks/data_table.ipynb>data table notebook</a>'\n",
              "          + ' to learn more about interactive tables.';\n",
              "        element.innerHTML = '';\n",
              "        dataTable['output_type'] = 'display_data';\n",
              "        await google.colab.output.renderOutput(dataTable, element);\n",
              "        const docLink = document.createElement('div');\n",
              "        docLink.innerHTML = docLinkHtml;\n",
              "        element.appendChild(docLink);\n",
              "      }\n",
              "    </script>\n",
              "  </div>\n",
              "\n",
              "\n",
              "<div id=\"df-e8064c3a-b884-42c8-bf6d-e4594f141231\">\n",
              "  <button class=\"colab-df-quickchart\" onclick=\"quickchart('df-e8064c3a-b884-42c8-bf6d-e4594f141231')\"\n",
              "            title=\"Suggest charts\"\n",
              "            style=\"display:none;\">\n",
              "\n",
              "<svg xmlns=\"http://www.w3.org/2000/svg\" height=\"24px\"viewBox=\"0 0 24 24\"\n",
              "     width=\"24px\">\n",
              "    <g>\n",
              "        <path d=\"M19 3H5c-1.1 0-2 .9-2 2v14c0 1.1.9 2 2 2h14c1.1 0 2-.9 2-2V5c0-1.1-.9-2-2-2zM9 17H7v-7h2v7zm4 0h-2V7h2v10zm4 0h-2v-4h2v4z\"/>\n",
              "    </g>\n",
              "</svg>\n",
              "  </button>\n",
              "\n",
              "<style>\n",
              "  .colab-df-quickchart {\n",
              "      --bg-color: #E8F0FE;\n",
              "      --fill-color: #1967D2;\n",
              "      --hover-bg-color: #E2EBFA;\n",
              "      --hover-fill-color: #174EA6;\n",
              "      --disabled-fill-color: #AAA;\n",
              "      --disabled-bg-color: #DDD;\n",
              "  }\n",
              "\n",
              "  [theme=dark] .colab-df-quickchart {\n",
              "      --bg-color: #3B4455;\n",
              "      --fill-color: #D2E3FC;\n",
              "      --hover-bg-color: #434B5C;\n",
              "      --hover-fill-color: #FFFFFF;\n",
              "      --disabled-bg-color: #3B4455;\n",
              "      --disabled-fill-color: #666;\n",
              "  }\n",
              "\n",
              "  .colab-df-quickchart {\n",
              "    background-color: var(--bg-color);\n",
              "    border: none;\n",
              "    border-radius: 50%;\n",
              "    cursor: pointer;\n",
              "    display: none;\n",
              "    fill: var(--fill-color);\n",
              "    height: 32px;\n",
              "    padding: 0;\n",
              "    width: 32px;\n",
              "  }\n",
              "\n",
              "  .colab-df-quickchart:hover {\n",
              "    background-color: var(--hover-bg-color);\n",
              "    box-shadow: 0 1px 2px rgba(60, 64, 67, 0.3), 0 1px 3px 1px rgba(60, 64, 67, 0.15);\n",
              "    fill: var(--button-hover-fill-color);\n",
              "  }\n",
              "\n",
              "  .colab-df-quickchart-complete:disabled,\n",
              "  .colab-df-quickchart-complete:disabled:hover {\n",
              "    background-color: var(--disabled-bg-color);\n",
              "    fill: var(--disabled-fill-color);\n",
              "    box-shadow: none;\n",
              "  }\n",
              "\n",
              "  .colab-df-spinner {\n",
              "    border: 2px solid var(--fill-color);\n",
              "    border-color: transparent;\n",
              "    border-bottom-color: var(--fill-color);\n",
              "    animation:\n",
              "      spin 1s steps(1) infinite;\n",
              "  }\n",
              "\n",
              "  @keyframes spin {\n",
              "    0% {\n",
              "      border-color: transparent;\n",
              "      border-bottom-color: var(--fill-color);\n",
              "      border-left-color: var(--fill-color);\n",
              "    }\n",
              "    20% {\n",
              "      border-color: transparent;\n",
              "      border-left-color: var(--fill-color);\n",
              "      border-top-color: var(--fill-color);\n",
              "    }\n",
              "    30% {\n",
              "      border-color: transparent;\n",
              "      border-left-color: var(--fill-color);\n",
              "      border-top-color: var(--fill-color);\n",
              "      border-right-color: var(--fill-color);\n",
              "    }\n",
              "    40% {\n",
              "      border-color: transparent;\n",
              "      border-right-color: var(--fill-color);\n",
              "      border-top-color: var(--fill-color);\n",
              "    }\n",
              "    60% {\n",
              "      border-color: transparent;\n",
              "      border-right-color: var(--fill-color);\n",
              "    }\n",
              "    80% {\n",
              "      border-color: transparent;\n",
              "      border-right-color: var(--fill-color);\n",
              "      border-bottom-color: var(--fill-color);\n",
              "    }\n",
              "    90% {\n",
              "      border-color: transparent;\n",
              "      border-bottom-color: var(--fill-color);\n",
              "    }\n",
              "  }\n",
              "</style>\n",
              "\n",
              "  <script>\n",
              "    async function quickchart(key) {\n",
              "      const quickchartButtonEl =\n",
              "        document.querySelector('#' + key + ' button');\n",
              "      quickchartButtonEl.disabled = true;  // To prevent multiple clicks.\n",
              "      quickchartButtonEl.classList.add('colab-df-spinner');\n",
              "      try {\n",
              "        const charts = await google.colab.kernel.invokeFunction(\n",
              "            'suggestCharts', [key], {});\n",
              "      } catch (error) {\n",
              "        console.error('Error during call to suggestCharts:', error);\n",
              "      }\n",
              "      quickchartButtonEl.classList.remove('colab-df-spinner');\n",
              "      quickchartButtonEl.classList.add('colab-df-quickchart-complete');\n",
              "    }\n",
              "    (() => {\n",
              "      let quickchartButtonEl =\n",
              "        document.querySelector('#df-e8064c3a-b884-42c8-bf6d-e4594f141231 button');\n",
              "      quickchartButtonEl.style.display =\n",
              "        google.colab.kernel.accessAllowed ? 'block' : 'none';\n",
              "    })();\n",
              "  </script>\n",
              "</div>\n",
              "\n",
              "    </div>\n",
              "  </div>\n"
            ],
            "application/vnd.google.colaboratory.intrinsic+json": {
              "type": "dataframe",
              "variable_name": "sales_report",
              "summary": "{\n  \"name\": \"sales_report\",\n  \"rows\": 233,\n  \"fields\": [\n    {\n      \"column\": \"No\",\n      \"properties\": {\n        \"dtype\": \"number\",\n        \"std\": 39.19902164049497,\n        \"min\": 1.0,\n        \"max\": 145.0,\n        \"num_unique_values\": 145,\n        \"samples\": [\n          71.0,\n          142.0,\n          29.0\n        ],\n        \"semantic_type\": \"\",\n        \"description\": \"\"\n      }\n    },\n    {\n      \"column\": \"Product Name\",\n      \"properties\": {\n        \"dtype\": \"category\",\n        \"num_unique_values\": 113,\n        \"samples\": [\n          \"Nike Undef Neon?\",\n          \"Adidsa Samba Rose Black\",\n          \"Adidas Samba OG White\"\n        ],\n        \"semantic_type\": \"\",\n        \"description\": \"\"\n      }\n    },\n    {\n      \"column\": \"Tipe\",\n      \"properties\": {\n        \"dtype\": \"category\",\n        \"num_unique_values\": 7,\n        \"samples\": [\n          \"LOW\",\n          \"HIGH\",\n          40\n        ],\n        \"semantic_type\": \"\",\n        \"description\": \"\"\n      }\n    },\n    {\n      \"column\": \"Art Code\",\n      \"properties\": {\n        \"dtype\": \"category\",\n        \"num_unique_values\": 77,\n        \"samples\": [\n          \"H01870\",\n          \"FX9042\",\n          \"DH7568-001\"\n        ],\n        \"semantic_type\": \"\",\n        \"description\": \"\"\n      }\n    },\n    {\n      \"column\": \"Merk\",\n      \"properties\": {\n        \"dtype\": \"category\",\n        \"num_unique_values\": 15,\n        \"samples\": [\n          \"salomon\",\n          \"DOCMART\",\n          \"NIKE\"\n        ],\n        \"semantic_type\": \"\",\n        \"description\": \"\"\n      }\n    },\n    {\n      \"column\": \"Size\",\n      \"properties\": {\n        \"dtype\": \"category\",\n        \"num_unique_values\": 25,\n        \"samples\": [\n          41.5,\n          \"hildamelatii\",\n          42\n        ],\n        \"semantic_type\": \"\",\n        \"description\": \"\"\n      }\n    },\n    {\n      \"column\": \"Condition\",\n      \"properties\": {\n        \"dtype\": \"category\",\n        \"num_unique_values\": 4,\n        \"samples\": [\n          \"done\",\n          0.950000000000001,\n          0.95\n        ],\n        \"semantic_type\": \"\",\n        \"description\": \"\"\n      }\n    },\n    {\n      \"column\": \"Deal\",\n      \"properties\": {\n        \"dtype\": \"category\",\n        \"num_unique_values\": 39,\n        \"samples\": [\n          2900000,\n          1800000,\n          725000\n        ],\n        \"semantic_type\": \"\",\n        \"description\": \"\"\n      }\n    },\n    {\n      \"column\": \"Keluar\",\n      \"properties\": {\n        \"dtype\": \"date\",\n        \"min\": \"2024-03-01 00:00:00\",\n        \"max\": \"2024-04-29 00:00:00\",\n        \"num_unique_values\": 45,\n        \"samples\": [\n          \"2024-04-24 00:00:00\",\n          \"2024-04-06 00:00:00\",\n          \"2024-04-07 00:00:00\"\n        ],\n        \"semantic_type\": \"\",\n        \"description\": \"\"\n      }\n    },\n    {\n      \"column\": \"Payment\",\n      \"properties\": {\n        \"dtype\": \"category\",\n        \"num_unique_values\": 11,\n        \"samples\": [\n          \"cash\",\n          \"CASH\",\n          \"cash 520 tf 1,1 ac\"\n        ],\n        \"semantic_type\": \"\",\n        \"description\": \"\"\n      }\n    }\n  ]\n}"
            }
          },
          "metadata": {},
          "execution_count": 529
        }
      ]
    },
    {
      "cell_type": "code",
      "source": [
        "sales_report.dropna(subset=['Product Name', 'Merk'], inplace=True)"
      ],
      "metadata": {
        "id": "cfLzpu1Rh4XV"
      },
      "execution_count": 530,
      "outputs": []
    },
    {
      "cell_type": "code",
      "source": [
        "sales_report.to_excel('SalesReport_Maret_April.xlsx', index=False)"
      ],
      "metadata": {
        "id": "umQkapeliX6b"
      },
      "execution_count": 531,
      "outputs": []
    },
    {
      "cell_type": "code",
      "source": [
        "sales_report.head()"
      ],
      "metadata": {
        "colab": {
          "base_uri": "https://localhost:8080/",
          "height": 206
        },
        "id": "Lz2AQ_mliddc",
        "outputId": "4d4a1148-770a-43d0-d287-637dec71c0a9"
      },
      "execution_count": 532,
      "outputs": [
        {
          "output_type": "execute_result",
          "data": {
            "text/plain": [
              "    No                                     Product Name Tipe    Art Code  \\\n",
              "1  1.0                Nike Air Force 1 Low Triple White  LOW  315122-111   \n",
              "2  2.0  Adidas Handball Spezial Grey Black Gum (carbon)  LOW      BD7635   \n",
              "3  3.0    Adidas Samba Vegan \"Cloud White & Core Black\"  LOW      FW2427   \n",
              "4  4.0                  Adidas Spezial Light Blue White  LOW      BD7632   \n",
              "5  5.0                          Adidsa Samba Rose Black  LOW      H01870   \n",
              "\n",
              "     Merk    Size Condition    Deal     Keluar Payment  \n",
              "1    NIKE      42      0.95  550000 2024-03-01     NaN  \n",
              "2  ADIDAS      44      0.95  750000 2024-03-02     NaN  \n",
              "3  ADIDAS  43 1/3      0.95  800000 2024-03-02     NaN  \n",
              "4  ADIDAS      38      0.95  675000 2024-03-04    CASH  \n",
              "5  ADIDAS      36      0.95  725000 2024-03-04    CASH  "
            ],
            "text/html": [
              "\n",
              "  <div id=\"df-198a4599-a93a-452d-b264-5e99b07234a7\" class=\"colab-df-container\">\n",
              "    <div>\n",
              "<style scoped>\n",
              "    .dataframe tbody tr th:only-of-type {\n",
              "        vertical-align: middle;\n",
              "    }\n",
              "\n",
              "    .dataframe tbody tr th {\n",
              "        vertical-align: top;\n",
              "    }\n",
              "\n",
              "    .dataframe thead th {\n",
              "        text-align: right;\n",
              "    }\n",
              "</style>\n",
              "<table border=\"1\" class=\"dataframe\">\n",
              "  <thead>\n",
              "    <tr style=\"text-align: right;\">\n",
              "      <th></th>\n",
              "      <th>No</th>\n",
              "      <th>Product Name</th>\n",
              "      <th>Tipe</th>\n",
              "      <th>Art Code</th>\n",
              "      <th>Merk</th>\n",
              "      <th>Size</th>\n",
              "      <th>Condition</th>\n",
              "      <th>Deal</th>\n",
              "      <th>Keluar</th>\n",
              "      <th>Payment</th>\n",
              "    </tr>\n",
              "  </thead>\n",
              "  <tbody>\n",
              "    <tr>\n",
              "      <th>1</th>\n",
              "      <td>1.0</td>\n",
              "      <td>Nike Air Force 1 Low Triple White</td>\n",
              "      <td>LOW</td>\n",
              "      <td>315122-111</td>\n",
              "      <td>NIKE</td>\n",
              "      <td>42</td>\n",
              "      <td>0.95</td>\n",
              "      <td>550000</td>\n",
              "      <td>2024-03-01</td>\n",
              "      <td>NaN</td>\n",
              "    </tr>\n",
              "    <tr>\n",
              "      <th>2</th>\n",
              "      <td>2.0</td>\n",
              "      <td>Adidas Handball Spezial Grey Black Gum (carbon)</td>\n",
              "      <td>LOW</td>\n",
              "      <td>BD7635</td>\n",
              "      <td>ADIDAS</td>\n",
              "      <td>44</td>\n",
              "      <td>0.95</td>\n",
              "      <td>750000</td>\n",
              "      <td>2024-03-02</td>\n",
              "      <td>NaN</td>\n",
              "    </tr>\n",
              "    <tr>\n",
              "      <th>3</th>\n",
              "      <td>3.0</td>\n",
              "      <td>Adidas Samba Vegan \"Cloud White &amp; Core Black\"</td>\n",
              "      <td>LOW</td>\n",
              "      <td>FW2427</td>\n",
              "      <td>ADIDAS</td>\n",
              "      <td>43 1/3</td>\n",
              "      <td>0.95</td>\n",
              "      <td>800000</td>\n",
              "      <td>2024-03-02</td>\n",
              "      <td>NaN</td>\n",
              "    </tr>\n",
              "    <tr>\n",
              "      <th>4</th>\n",
              "      <td>4.0</td>\n",
              "      <td>Adidas Spezial Light Blue White</td>\n",
              "      <td>LOW</td>\n",
              "      <td>BD7632</td>\n",
              "      <td>ADIDAS</td>\n",
              "      <td>38</td>\n",
              "      <td>0.95</td>\n",
              "      <td>675000</td>\n",
              "      <td>2024-03-04</td>\n",
              "      <td>CASH</td>\n",
              "    </tr>\n",
              "    <tr>\n",
              "      <th>5</th>\n",
              "      <td>5.0</td>\n",
              "      <td>Adidsa Samba Rose Black</td>\n",
              "      <td>LOW</td>\n",
              "      <td>H01870</td>\n",
              "      <td>ADIDAS</td>\n",
              "      <td>36</td>\n",
              "      <td>0.95</td>\n",
              "      <td>725000</td>\n",
              "      <td>2024-03-04</td>\n",
              "      <td>CASH</td>\n",
              "    </tr>\n",
              "  </tbody>\n",
              "</table>\n",
              "</div>\n",
              "    <div class=\"colab-df-buttons\">\n",
              "\n",
              "  <div class=\"colab-df-container\">\n",
              "    <button class=\"colab-df-convert\" onclick=\"convertToInteractive('df-198a4599-a93a-452d-b264-5e99b07234a7')\"\n",
              "            title=\"Convert this dataframe to an interactive table.\"\n",
              "            style=\"display:none;\">\n",
              "\n",
              "  <svg xmlns=\"http://www.w3.org/2000/svg\" height=\"24px\" viewBox=\"0 -960 960 960\">\n",
              "    <path d=\"M120-120v-720h720v720H120Zm60-500h600v-160H180v160Zm220 220h160v-160H400v160Zm0 220h160v-160H400v160ZM180-400h160v-160H180v160Zm440 0h160v-160H620v160ZM180-180h160v-160H180v160Zm440 0h160v-160H620v160Z\"/>\n",
              "  </svg>\n",
              "    </button>\n",
              "\n",
              "  <style>\n",
              "    .colab-df-container {\n",
              "      display:flex;\n",
              "      gap: 12px;\n",
              "    }\n",
              "\n",
              "    .colab-df-convert {\n",
              "      background-color: #E8F0FE;\n",
              "      border: none;\n",
              "      border-radius: 50%;\n",
              "      cursor: pointer;\n",
              "      display: none;\n",
              "      fill: #1967D2;\n",
              "      height: 32px;\n",
              "      padding: 0 0 0 0;\n",
              "      width: 32px;\n",
              "    }\n",
              "\n",
              "    .colab-df-convert:hover {\n",
              "      background-color: #E2EBFA;\n",
              "      box-shadow: 0px 1px 2px rgba(60, 64, 67, 0.3), 0px 1px 3px 1px rgba(60, 64, 67, 0.15);\n",
              "      fill: #174EA6;\n",
              "    }\n",
              "\n",
              "    .colab-df-buttons div {\n",
              "      margin-bottom: 4px;\n",
              "    }\n",
              "\n",
              "    [theme=dark] .colab-df-convert {\n",
              "      background-color: #3B4455;\n",
              "      fill: #D2E3FC;\n",
              "    }\n",
              "\n",
              "    [theme=dark] .colab-df-convert:hover {\n",
              "      background-color: #434B5C;\n",
              "      box-shadow: 0px 1px 3px 1px rgba(0, 0, 0, 0.15);\n",
              "      filter: drop-shadow(0px 1px 2px rgba(0, 0, 0, 0.3));\n",
              "      fill: #FFFFFF;\n",
              "    }\n",
              "  </style>\n",
              "\n",
              "    <script>\n",
              "      const buttonEl =\n",
              "        document.querySelector('#df-198a4599-a93a-452d-b264-5e99b07234a7 button.colab-df-convert');\n",
              "      buttonEl.style.display =\n",
              "        google.colab.kernel.accessAllowed ? 'block' : 'none';\n",
              "\n",
              "      async function convertToInteractive(key) {\n",
              "        const element = document.querySelector('#df-198a4599-a93a-452d-b264-5e99b07234a7');\n",
              "        const dataTable =\n",
              "          await google.colab.kernel.invokeFunction('convertToInteractive',\n",
              "                                                    [key], {});\n",
              "        if (!dataTable) return;\n",
              "\n",
              "        const docLinkHtml = 'Like what you see? Visit the ' +\n",
              "          '<a target=\"_blank\" href=https://colab.research.google.com/notebooks/data_table.ipynb>data table notebook</a>'\n",
              "          + ' to learn more about interactive tables.';\n",
              "        element.innerHTML = '';\n",
              "        dataTable['output_type'] = 'display_data';\n",
              "        await google.colab.output.renderOutput(dataTable, element);\n",
              "        const docLink = document.createElement('div');\n",
              "        docLink.innerHTML = docLinkHtml;\n",
              "        element.appendChild(docLink);\n",
              "      }\n",
              "    </script>\n",
              "  </div>\n",
              "\n",
              "\n",
              "<div id=\"df-34153be0-10f2-44ef-b09d-6e714c888e32\">\n",
              "  <button class=\"colab-df-quickchart\" onclick=\"quickchart('df-34153be0-10f2-44ef-b09d-6e714c888e32')\"\n",
              "            title=\"Suggest charts\"\n",
              "            style=\"display:none;\">\n",
              "\n",
              "<svg xmlns=\"http://www.w3.org/2000/svg\" height=\"24px\"viewBox=\"0 0 24 24\"\n",
              "     width=\"24px\">\n",
              "    <g>\n",
              "        <path d=\"M19 3H5c-1.1 0-2 .9-2 2v14c0 1.1.9 2 2 2h14c1.1 0 2-.9 2-2V5c0-1.1-.9-2-2-2zM9 17H7v-7h2v7zm4 0h-2V7h2v10zm4 0h-2v-4h2v4z\"/>\n",
              "    </g>\n",
              "</svg>\n",
              "  </button>\n",
              "\n",
              "<style>\n",
              "  .colab-df-quickchart {\n",
              "      --bg-color: #E8F0FE;\n",
              "      --fill-color: #1967D2;\n",
              "      --hover-bg-color: #E2EBFA;\n",
              "      --hover-fill-color: #174EA6;\n",
              "      --disabled-fill-color: #AAA;\n",
              "      --disabled-bg-color: #DDD;\n",
              "  }\n",
              "\n",
              "  [theme=dark] .colab-df-quickchart {\n",
              "      --bg-color: #3B4455;\n",
              "      --fill-color: #D2E3FC;\n",
              "      --hover-bg-color: #434B5C;\n",
              "      --hover-fill-color: #FFFFFF;\n",
              "      --disabled-bg-color: #3B4455;\n",
              "      --disabled-fill-color: #666;\n",
              "  }\n",
              "\n",
              "  .colab-df-quickchart {\n",
              "    background-color: var(--bg-color);\n",
              "    border: none;\n",
              "    border-radius: 50%;\n",
              "    cursor: pointer;\n",
              "    display: none;\n",
              "    fill: var(--fill-color);\n",
              "    height: 32px;\n",
              "    padding: 0;\n",
              "    width: 32px;\n",
              "  }\n",
              "\n",
              "  .colab-df-quickchart:hover {\n",
              "    background-color: var(--hover-bg-color);\n",
              "    box-shadow: 0 1px 2px rgba(60, 64, 67, 0.3), 0 1px 3px 1px rgba(60, 64, 67, 0.15);\n",
              "    fill: var(--button-hover-fill-color);\n",
              "  }\n",
              "\n",
              "  .colab-df-quickchart-complete:disabled,\n",
              "  .colab-df-quickchart-complete:disabled:hover {\n",
              "    background-color: var(--disabled-bg-color);\n",
              "    fill: var(--disabled-fill-color);\n",
              "    box-shadow: none;\n",
              "  }\n",
              "\n",
              "  .colab-df-spinner {\n",
              "    border: 2px solid var(--fill-color);\n",
              "    border-color: transparent;\n",
              "    border-bottom-color: var(--fill-color);\n",
              "    animation:\n",
              "      spin 1s steps(1) infinite;\n",
              "  }\n",
              "\n",
              "  @keyframes spin {\n",
              "    0% {\n",
              "      border-color: transparent;\n",
              "      border-bottom-color: var(--fill-color);\n",
              "      border-left-color: var(--fill-color);\n",
              "    }\n",
              "    20% {\n",
              "      border-color: transparent;\n",
              "      border-left-color: var(--fill-color);\n",
              "      border-top-color: var(--fill-color);\n",
              "    }\n",
              "    30% {\n",
              "      border-color: transparent;\n",
              "      border-left-color: var(--fill-color);\n",
              "      border-top-color: var(--fill-color);\n",
              "      border-right-color: var(--fill-color);\n",
              "    }\n",
              "    40% {\n",
              "      border-color: transparent;\n",
              "      border-right-color: var(--fill-color);\n",
              "      border-top-color: var(--fill-color);\n",
              "    }\n",
              "    60% {\n",
              "      border-color: transparent;\n",
              "      border-right-color: var(--fill-color);\n",
              "    }\n",
              "    80% {\n",
              "      border-color: transparent;\n",
              "      border-right-color: var(--fill-color);\n",
              "      border-bottom-color: var(--fill-color);\n",
              "    }\n",
              "    90% {\n",
              "      border-color: transparent;\n",
              "      border-bottom-color: var(--fill-color);\n",
              "    }\n",
              "  }\n",
              "</style>\n",
              "\n",
              "  <script>\n",
              "    async function quickchart(key) {\n",
              "      const quickchartButtonEl =\n",
              "        document.querySelector('#' + key + ' button');\n",
              "      quickchartButtonEl.disabled = true;  // To prevent multiple clicks.\n",
              "      quickchartButtonEl.classList.add('colab-df-spinner');\n",
              "      try {\n",
              "        const charts = await google.colab.kernel.invokeFunction(\n",
              "            'suggestCharts', [key], {});\n",
              "      } catch (error) {\n",
              "        console.error('Error during call to suggestCharts:', error);\n",
              "      }\n",
              "      quickchartButtonEl.classList.remove('colab-df-spinner');\n",
              "      quickchartButtonEl.classList.add('colab-df-quickchart-complete');\n",
              "    }\n",
              "    (() => {\n",
              "      let quickchartButtonEl =\n",
              "        document.querySelector('#df-34153be0-10f2-44ef-b09d-6e714c888e32 button');\n",
              "      quickchartButtonEl.style.display =\n",
              "        google.colab.kernel.accessAllowed ? 'block' : 'none';\n",
              "    })();\n",
              "  </script>\n",
              "</div>\n",
              "\n",
              "    </div>\n",
              "  </div>\n"
            ],
            "application/vnd.google.colaboratory.intrinsic+json": {
              "type": "dataframe",
              "variable_name": "sales_report",
              "summary": "{\n  \"name\": \"sales_report\",\n  \"rows\": 220,\n  \"fields\": [\n    {\n      \"column\": \"No\",\n      \"properties\": {\n        \"dtype\": \"number\",\n        \"std\": 39.08025610971176,\n        \"min\": 1.0,\n        \"max\": 145.0,\n        \"num_unique_values\": 142,\n        \"samples\": [\n          141.0,\n          20.0,\n          88.0\n        ],\n        \"semantic_type\": \"\",\n        \"description\": \"\"\n      }\n    },\n    {\n      \"column\": \"Product Name\",\n      \"properties\": {\n        \"dtype\": \"category\",\n        \"num_unique_values\": 104,\n        \"samples\": [\n          \"AF1 biru\",\n          \"New Balance 2002R Light Grey\",\n          \"Salomon Coklat\"\n        ],\n        \"semantic_type\": \"\",\n        \"description\": \"\"\n      }\n    },\n    {\n      \"column\": \"Tipe\",\n      \"properties\": {\n        \"dtype\": \"category\",\n        \"num_unique_values\": 6,\n        \"samples\": [\n          \"LOW\",\n          \"HIGH\",\n          40\n        ],\n        \"semantic_type\": \"\",\n        \"description\": \"\"\n      }\n    },\n    {\n      \"column\": \"Art Code\",\n      \"properties\": {\n        \"dtype\": \"category\",\n        \"num_unique_values\": 77,\n        \"samples\": [\n          \"H01870\",\n          \"FX9042\",\n          \"DH7568-001\"\n        ],\n        \"semantic_type\": \"\",\n        \"description\": \"\"\n      }\n    },\n    {\n      \"column\": \"Merk\",\n      \"properties\": {\n        \"dtype\": \"category\",\n        \"num_unique_values\": 15,\n        \"samples\": [\n          \"salomon\",\n          \"DOCMART\",\n          \"NIKE\"\n        ],\n        \"semantic_type\": \"\",\n        \"description\": \"\"\n      }\n    },\n    {\n      \"column\": \"Size\",\n      \"properties\": {\n        \"dtype\": \"category\",\n        \"num_unique_values\": 23,\n        \"samples\": [\n          \"muhrifqisaifullah\",\n          37.5,\n          42\n        ],\n        \"semantic_type\": \"\",\n        \"description\": \"\"\n      }\n    },\n    {\n      \"column\": \"Condition\",\n      \"properties\": {\n        \"dtype\": \"category\",\n        \"num_unique_values\": 4,\n        \"samples\": [\n          \"done\",\n          0.950000000000001,\n          0.95\n        ],\n        \"semantic_type\": \"\",\n        \"description\": \"\"\n      }\n    },\n    {\n      \"column\": \"Deal\",\n      \"properties\": {\n        \"dtype\": \"category\",\n        \"num_unique_values\": 38,\n        \"samples\": [\n          \"temen mama\",\n          1600000,\n          725000\n        ],\n        \"semantic_type\": \"\",\n        \"description\": \"\"\n      }\n    },\n    {\n      \"column\": \"Keluar\",\n      \"properties\": {\n        \"dtype\": \"date\",\n        \"min\": \"2024-03-01 00:00:00\",\n        \"max\": \"2024-04-29 00:00:00\",\n        \"num_unique_values\": 45,\n        \"samples\": [\n          \"2024-04-24 00:00:00\",\n          \"2024-04-06 00:00:00\",\n          \"2024-04-07 00:00:00\"\n        ],\n        \"semantic_type\": \"\",\n        \"description\": \"\"\n      }\n    },\n    {\n      \"column\": \"Payment\",\n      \"properties\": {\n        \"dtype\": \"category\",\n        \"num_unique_values\": 11,\n        \"samples\": [\n          \"tf BCA\",\n          \"CASH\",\n          \"cash 520 tf 1,1 ac\"\n        ],\n        \"semantic_type\": \"\",\n        \"description\": \"\"\n      }\n    }\n  ]\n}"
            }
          },
          "metadata": {},
          "execution_count": 532
        }
      ]
    },
    {
      "cell_type": "code",
      "source": [
        "missing_values = sales_report.isnull().sum()\n",
        "print(missing_values)"
      ],
      "metadata": {
        "colab": {
          "base_uri": "https://localhost:8080/"
        },
        "id": "lHMXtY39jCpW",
        "outputId": "f0b5f38e-3dfc-42c1-bfa2-83947aceb419"
      },
      "execution_count": 533,
      "outputs": [
        {
          "output_type": "stream",
          "name": "stdout",
          "text": [
            "No               0\n",
            "Product Name     0\n",
            "Tipe             2\n",
            "Art Code        23\n",
            "Merk             0\n",
            "Size             1\n",
            "Condition       40\n",
            "Deal             0\n",
            "Keluar           0\n",
            "Payment         24\n",
            "dtype: int64\n"
          ]
        }
      ]
    },
    {
      "cell_type": "code",
      "source": [
        "print(sales_report.dtypes)"
      ],
      "metadata": {
        "colab": {
          "base_uri": "https://localhost:8080/"
        },
        "id": "2CzQiiAxm3AT",
        "outputId": "ca1e6000-b374-4afd-f0bf-12911c892d4c"
      },
      "execution_count": 534,
      "outputs": [
        {
          "output_type": "stream",
          "name": "stdout",
          "text": [
            "No                     float64\n",
            "Product Name            object\n",
            "Tipe                    object\n",
            "Art Code                object\n",
            "Merk                    object\n",
            "Size                    object\n",
            "Condition               object\n",
            "Deal                    object\n",
            "Keluar          datetime64[ns]\n",
            "Payment                 object\n",
            "dtype: object\n"
          ]
        }
      ]
    },
    {
      "cell_type": "code",
      "source": [
        "sales_report['No'] = sales_report['No'].astype('float64')\n",
        "sales_report['Product Name'] = sales_report['Product Name'].astype('object')\n",
        "sales_report['Tipe'] = sales_report['Tipe'].astype('object')\n",
        "sales_report['Art Code'] = sales_report['Art Code'].astype('object')\n",
        "sales_report['Merk'] = sales_report['Merk'].astype('object')\n",
        "sales_report['Size'] = pd.to_numeric(sales_report['Size'], errors='coerce')\n",
        "sales_report['Condition'] = sales_report['Condition'].astype('object')\n",
        "sales_report['Deal'] = pd.to_numeric(sales_report['Deal'], errors='coerce')\n",
        "sales_report['Payment'] = sales_report['Payment'].astype('object')"
      ],
      "metadata": {
        "id": "C247bboKoLh2"
      },
      "execution_count": 558,
      "outputs": []
    },
    {
      "cell_type": "code",
      "source": [
        "sales_report.to_excel('SalesReport_Maret_April_Updated.xlsx', index=False)"
      ],
      "metadata": {
        "id": "11_52OOFoY_z"
      },
      "execution_count": 559,
      "outputs": []
    },
    {
      "cell_type": "code",
      "source": [
        "print(sales_report.dtypes)"
      ],
      "metadata": {
        "colab": {
          "base_uri": "https://localhost:8080/"
        },
        "id": "S2KWKrYfoc0y",
        "outputId": "895c5501-ad46-4fb0-d660-9b5a7440a7e9"
      },
      "execution_count": 560,
      "outputs": [
        {
          "output_type": "stream",
          "name": "stdout",
          "text": [
            "No              float64\n",
            "Product Name     object\n",
            "Tipe             object\n",
            "Art Code         object\n",
            "Merk             object\n",
            "Size            float64\n",
            "Condition        object\n",
            "Deal            float64\n",
            "Keluar            int64\n",
            "Payment          object\n",
            "dtype: object\n"
          ]
        }
      ]
    },
    {
      "cell_type": "code",
      "source": [
        "sales_report['Size'] = sales_report['Size'].fillna(sales_report['Size'].mean())\n"
      ],
      "metadata": {
        "id": "EZ-P8j5sovhz"
      },
      "execution_count": 561,
      "outputs": []
    },
    {
      "cell_type": "code",
      "source": [
        "sales_report.to_excel('SalesReport_Maret_April_Updated.xlsx', index=False)\n"
      ],
      "metadata": {
        "id": "VQRds9eOo31L"
      },
      "execution_count": 562,
      "outputs": []
    },
    {
      "cell_type": "code",
      "source": [
        "sales_report['Condition'] = sales_report['Condition'].fillna(sales_report['Condition'].mode()[0])\n"
      ],
      "metadata": {
        "id": "SbY_wWHbpR1V"
      },
      "execution_count": 563,
      "outputs": []
    },
    {
      "cell_type": "code",
      "source": [
        "sales_report.to_excel('SalesReport_Maret_April_Updated.xlsx', index=False)"
      ],
      "metadata": {
        "id": "gXn6gQ2ppdKM"
      },
      "execution_count": 564,
      "outputs": []
    },
    {
      "cell_type": "code",
      "source": [
        "missing_values = sales_report.isnull().sum()\n",
        "print(missing_values)"
      ],
      "metadata": {
        "id": "WW7tXvJIpfib",
        "colab": {
          "base_uri": "https://localhost:8080/"
        },
        "outputId": "35eb8631-74cf-4094-e6da-34dcb2505469"
      },
      "execution_count": 565,
      "outputs": [
        {
          "output_type": "stream",
          "name": "stdout",
          "text": [
            "No               0\n",
            "Product Name     0\n",
            "Tipe             0\n",
            "Art Code        23\n",
            "Merk             0\n",
            "Size             0\n",
            "Condition        0\n",
            "Deal             4\n",
            "Keluar           0\n",
            "Payment          0\n",
            "dtype: int64\n"
          ]
        }
      ]
    },
    {
      "cell_type": "code",
      "source": [
        "def fill_mode(x):\n",
        "    mode_val = x.mode()\n",
        "    if not mode_val.empty:\n",
        "        return x.fillna(mode_val[0])\n",
        "    else:\n",
        "        return x.fillna('Unknown')\n",
        "\n",
        "sales_report['Tipe'] = sales_report.groupby('Product Name')['Tipe'].transform(fill_mode)\n",
        "print(sales_report.isna().sum())\n",
        "sales_report.to_excel('SalesReport_Maret_April_Updated.xlsx', index=False)"
      ],
      "metadata": {
        "colab": {
          "base_uri": "https://localhost:8080/"
        },
        "id": "qOWhN4gsrf6s",
        "outputId": "5464b88b-b789-496a-b116-19aff57cc884"
      },
      "execution_count": 567,
      "outputs": [
        {
          "output_type": "stream",
          "name": "stdout",
          "text": [
            "No               0\n",
            "Product Name     0\n",
            "Tipe             0\n",
            "Art Code        23\n",
            "Merk             0\n",
            "Size             0\n",
            "Condition        0\n",
            "Deal             4\n",
            "Keluar           0\n",
            "Payment          0\n",
            "dtype: int64\n"
          ]
        },
        {
          "output_type": "stream",
          "name": "stderr",
          "text": [
            "<ipython-input-567-d26e46443565>:4: FutureWarning: Downcasting object dtype arrays on .fillna, .ffill, .bfill is deprecated and will change in a future version. Call result.infer_objects(copy=False) instead. To opt-in to the future behavior, set `pd.set_option('future.no_silent_downcasting', True)`\n",
            "  return x.fillna(mode_val[0])\n"
          ]
        }
      ]
    },
    {
      "cell_type": "code",
      "source": [
        "# Fungsi untuk mengisi missing value di kolom 'Payment' dengan mode (nilai yang paling sering muncul) berdasarkan 'Product Name'\n",
        "sales_report['Payment'] = sales_report.groupby('Product Name')['Payment'].transform(lambda x: x.fillna(x.mode()[0] if not x.mode().empty else 'Unknown'))\n",
        "\n",
        "print(sales_report.isna().sum())\n",
        "sales_report.to_excel('SalesReport_Maret_April_Updated.xlsx', index=False)"
      ],
      "metadata": {
        "id": "iGkbNs2GuEVS",
        "outputId": "246b7683-f0cf-4eb1-fba4-d627087a1969",
        "colab": {
          "base_uri": "https://localhost:8080/"
        }
      },
      "execution_count": 546,
      "outputs": [
        {
          "output_type": "stream",
          "name": "stdout",
          "text": [
            "No               0\n",
            "Product Name     0\n",
            "Tipe             0\n",
            "Art Code        23\n",
            "Merk             0\n",
            "Size             0\n",
            "Condition        0\n",
            "Deal             4\n",
            "Keluar           0\n",
            "Payment          0\n",
            "dtype: int64\n"
          ]
        }
      ]
    },
    {
      "cell_type": "code",
      "source": [
        "sales_report['Keluar'] = sales_report['Keluar'].fillna(sales_report['Keluar'].median())\n",
        "sales_report.to_excel('SalesReport_Maret_April_Updated.xlsx', index=False)"
      ],
      "metadata": {
        "id": "mfGdYFuYvIZN"
      },
      "execution_count": 568,
      "outputs": []
    },
    {
      "cell_type": "code",
      "source": [
        "print(sales_report.isna().sum())"
      ],
      "metadata": {
        "colab": {
          "base_uri": "https://localhost:8080/"
        },
        "id": "k0S2xsIOwRCd",
        "outputId": "86d9d3e1-bb9c-4afd-c21a-d5bd6ff1ae6e"
      },
      "execution_count": 569,
      "outputs": [
        {
          "output_type": "stream",
          "name": "stdout",
          "text": [
            "No               0\n",
            "Product Name     0\n",
            "Tipe             0\n",
            "Art Code        23\n",
            "Merk             0\n",
            "Size             0\n",
            "Condition        0\n",
            "Deal             4\n",
            "Keluar           0\n",
            "Payment          0\n",
            "dtype: int64\n"
          ]
        }
      ]
    },
    {
      "cell_type": "code",
      "source": [
        "print(df['Deal'].dtype)"
      ],
      "metadata": {
        "colab": {
          "base_uri": "https://localhost:8080/"
        },
        "id": "XpYcytupiXA5",
        "outputId": "5cd92cb8-9682-4e1f-f258-993763efeba0"
      },
      "execution_count": 570,
      "outputs": [
        {
          "output_type": "stream",
          "name": "stdout",
          "text": [
            "float64\n"
          ]
        }
      ]
    },
    {
      "cell_type": "code",
      "source": [
        "file_path = \"SalesReport_Maret_April_Updated.xlsx\"\n",
        "df = pd.read_excel(file_path)\n",
        "non_numeric = df['Deal'][pd.to_numeric(df['Deal'], errors='coerce').isna()]\n",
        "print(\"Nilai non-numerik dalam kolom Deal:\")\n",
        "print(non_numeric)"
      ],
      "metadata": {
        "colab": {
          "base_uri": "https://localhost:8080/"
        },
        "id": "ZwpNUXgijCBk",
        "outputId": "b7c0fca9-75ff-4f4f-ff3f-07652775e5fb"
      },
      "execution_count": 571,
      "outputs": [
        {
          "output_type": "stream",
          "name": "stdout",
          "text": [
            "Nilai non-numerik dalam kolom Deal:\n",
            "58    NaN\n",
            "69    NaN\n",
            "70    NaN\n",
            "174   NaN\n",
            "Name: Deal, dtype: float64\n"
          ]
        }
      ]
    },
    {
      "cell_type": "code",
      "source": [
        "df['Deal'] = df['Deal'].fillna(df['Deal'].mean())\n",
        "\n",
        "output_file = \"SalesReport_Maret_April_Updated.xlsx\"\n",
        "df.to_excel(output_file, index=False)"
      ],
      "metadata": {
        "id": "RXs3gKifkR8n"
      },
      "execution_count": 572,
      "outputs": []
    },
    {
      "cell_type": "code",
      "source": [
        "print(\"Jumlah nilai NaN di kolom Deal setelah pengisian:\", df['Deal'].isna().sum())"
      ],
      "metadata": {
        "colab": {
          "base_uri": "https://localhost:8080/"
        },
        "id": "EPIoKzILkaeu",
        "outputId": "85c40649-1fc5-4339-e0fc-8df30626ecf5"
      },
      "execution_count": 573,
      "outputs": [
        {
          "output_type": "stream",
          "name": "stdout",
          "text": [
            "Jumlah nilai NaN di kolom Deal setelah pengisian: 0\n"
          ]
        }
      ]
    },
    {
      "cell_type": "code",
      "source": [
        "print(df.shape)"
      ],
      "metadata": {
        "colab": {
          "base_uri": "https://localhost:8080/"
        },
        "id": "Q8o_fFs-l7zm",
        "outputId": "3f230529-f76b-4bb3-aeb6-eea9090df1a4"
      },
      "execution_count": 574,
      "outputs": [
        {
          "output_type": "stream",
          "name": "stdout",
          "text": [
            "(220, 10)\n"
          ]
        }
      ]
    },
    {
      "cell_type": "code",
      "source": [
        "df.head()"
      ],
      "metadata": {
        "colab": {
          "base_uri": "https://localhost:8080/",
          "height": 206
        },
        "id": "xQAm16RdmCla",
        "outputId": "c45ee52d-519b-4b52-9936-11bf2ce9ee7d"
      },
      "execution_count": 575,
      "outputs": [
        {
          "output_type": "execute_result",
          "data": {
            "text/plain": [
              "   No                                     Product Name Tipe    Art Code  \\\n",
              "0   1                Nike Air Force 1 Low Triple White  LOW  315122-111   \n",
              "1   2  Adidas Handball Spezial Grey Black Gum (carbon)  LOW      BD7635   \n",
              "2   3    Adidas Samba Vegan \"Cloud White & Core Black\"  LOW      FW2427   \n",
              "3   4                  Adidas Spezial Light Blue White  LOW      BD7632   \n",
              "4   5                          Adidsa Samba Rose Black  LOW      H01870   \n",
              "\n",
              "     Merk       Size Condition      Deal               Keluar   Payment  \n",
              "0    NIKE  42.000000      0.95  550000.0  1709251200000000000      cash  \n",
              "1  ADIDAS  44.000000      0.95  750000.0  1709337600000000000  QRIS BCA  \n",
              "2  ADIDAS  41.391813      0.95  800000.0  1709337600000000000    TF BCA  \n",
              "3  ADIDAS  38.000000      0.95  675000.0  1709510400000000000      CASH  \n",
              "4  ADIDAS  36.000000      0.95  725000.0  1709510400000000000      CASH  "
            ],
            "text/html": [
              "\n",
              "  <div id=\"df-42293a2c-0754-486b-8f06-15021135c0a8\" class=\"colab-df-container\">\n",
              "    <div>\n",
              "<style scoped>\n",
              "    .dataframe tbody tr th:only-of-type {\n",
              "        vertical-align: middle;\n",
              "    }\n",
              "\n",
              "    .dataframe tbody tr th {\n",
              "        vertical-align: top;\n",
              "    }\n",
              "\n",
              "    .dataframe thead th {\n",
              "        text-align: right;\n",
              "    }\n",
              "</style>\n",
              "<table border=\"1\" class=\"dataframe\">\n",
              "  <thead>\n",
              "    <tr style=\"text-align: right;\">\n",
              "      <th></th>\n",
              "      <th>No</th>\n",
              "      <th>Product Name</th>\n",
              "      <th>Tipe</th>\n",
              "      <th>Art Code</th>\n",
              "      <th>Merk</th>\n",
              "      <th>Size</th>\n",
              "      <th>Condition</th>\n",
              "      <th>Deal</th>\n",
              "      <th>Keluar</th>\n",
              "      <th>Payment</th>\n",
              "    </tr>\n",
              "  </thead>\n",
              "  <tbody>\n",
              "    <tr>\n",
              "      <th>0</th>\n",
              "      <td>1</td>\n",
              "      <td>Nike Air Force 1 Low Triple White</td>\n",
              "      <td>LOW</td>\n",
              "      <td>315122-111</td>\n",
              "      <td>NIKE</td>\n",
              "      <td>42.000000</td>\n",
              "      <td>0.95</td>\n",
              "      <td>550000.0</td>\n",
              "      <td>1709251200000000000</td>\n",
              "      <td>cash</td>\n",
              "    </tr>\n",
              "    <tr>\n",
              "      <th>1</th>\n",
              "      <td>2</td>\n",
              "      <td>Adidas Handball Spezial Grey Black Gum (carbon)</td>\n",
              "      <td>LOW</td>\n",
              "      <td>BD7635</td>\n",
              "      <td>ADIDAS</td>\n",
              "      <td>44.000000</td>\n",
              "      <td>0.95</td>\n",
              "      <td>750000.0</td>\n",
              "      <td>1709337600000000000</td>\n",
              "      <td>QRIS BCA</td>\n",
              "    </tr>\n",
              "    <tr>\n",
              "      <th>2</th>\n",
              "      <td>3</td>\n",
              "      <td>Adidas Samba Vegan \"Cloud White &amp; Core Black\"</td>\n",
              "      <td>LOW</td>\n",
              "      <td>FW2427</td>\n",
              "      <td>ADIDAS</td>\n",
              "      <td>41.391813</td>\n",
              "      <td>0.95</td>\n",
              "      <td>800000.0</td>\n",
              "      <td>1709337600000000000</td>\n",
              "      <td>TF BCA</td>\n",
              "    </tr>\n",
              "    <tr>\n",
              "      <th>3</th>\n",
              "      <td>4</td>\n",
              "      <td>Adidas Spezial Light Blue White</td>\n",
              "      <td>LOW</td>\n",
              "      <td>BD7632</td>\n",
              "      <td>ADIDAS</td>\n",
              "      <td>38.000000</td>\n",
              "      <td>0.95</td>\n",
              "      <td>675000.0</td>\n",
              "      <td>1709510400000000000</td>\n",
              "      <td>CASH</td>\n",
              "    </tr>\n",
              "    <tr>\n",
              "      <th>4</th>\n",
              "      <td>5</td>\n",
              "      <td>Adidsa Samba Rose Black</td>\n",
              "      <td>LOW</td>\n",
              "      <td>H01870</td>\n",
              "      <td>ADIDAS</td>\n",
              "      <td>36.000000</td>\n",
              "      <td>0.95</td>\n",
              "      <td>725000.0</td>\n",
              "      <td>1709510400000000000</td>\n",
              "      <td>CASH</td>\n",
              "    </tr>\n",
              "  </tbody>\n",
              "</table>\n",
              "</div>\n",
              "    <div class=\"colab-df-buttons\">\n",
              "\n",
              "  <div class=\"colab-df-container\">\n",
              "    <button class=\"colab-df-convert\" onclick=\"convertToInteractive('df-42293a2c-0754-486b-8f06-15021135c0a8')\"\n",
              "            title=\"Convert this dataframe to an interactive table.\"\n",
              "            style=\"display:none;\">\n",
              "\n",
              "  <svg xmlns=\"http://www.w3.org/2000/svg\" height=\"24px\" viewBox=\"0 -960 960 960\">\n",
              "    <path d=\"M120-120v-720h720v720H120Zm60-500h600v-160H180v160Zm220 220h160v-160H400v160Zm0 220h160v-160H400v160ZM180-400h160v-160H180v160Zm440 0h160v-160H620v160ZM180-180h160v-160H180v160Zm440 0h160v-160H620v160Z\"/>\n",
              "  </svg>\n",
              "    </button>\n",
              "\n",
              "  <style>\n",
              "    .colab-df-container {\n",
              "      display:flex;\n",
              "      gap: 12px;\n",
              "    }\n",
              "\n",
              "    .colab-df-convert {\n",
              "      background-color: #E8F0FE;\n",
              "      border: none;\n",
              "      border-radius: 50%;\n",
              "      cursor: pointer;\n",
              "      display: none;\n",
              "      fill: #1967D2;\n",
              "      height: 32px;\n",
              "      padding: 0 0 0 0;\n",
              "      width: 32px;\n",
              "    }\n",
              "\n",
              "    .colab-df-convert:hover {\n",
              "      background-color: #E2EBFA;\n",
              "      box-shadow: 0px 1px 2px rgba(60, 64, 67, 0.3), 0px 1px 3px 1px rgba(60, 64, 67, 0.15);\n",
              "      fill: #174EA6;\n",
              "    }\n",
              "\n",
              "    .colab-df-buttons div {\n",
              "      margin-bottom: 4px;\n",
              "    }\n",
              "\n",
              "    [theme=dark] .colab-df-convert {\n",
              "      background-color: #3B4455;\n",
              "      fill: #D2E3FC;\n",
              "    }\n",
              "\n",
              "    [theme=dark] .colab-df-convert:hover {\n",
              "      background-color: #434B5C;\n",
              "      box-shadow: 0px 1px 3px 1px rgba(0, 0, 0, 0.15);\n",
              "      filter: drop-shadow(0px 1px 2px rgba(0, 0, 0, 0.3));\n",
              "      fill: #FFFFFF;\n",
              "    }\n",
              "  </style>\n",
              "\n",
              "    <script>\n",
              "      const buttonEl =\n",
              "        document.querySelector('#df-42293a2c-0754-486b-8f06-15021135c0a8 button.colab-df-convert');\n",
              "      buttonEl.style.display =\n",
              "        google.colab.kernel.accessAllowed ? 'block' : 'none';\n",
              "\n",
              "      async function convertToInteractive(key) {\n",
              "        const element = document.querySelector('#df-42293a2c-0754-486b-8f06-15021135c0a8');\n",
              "        const dataTable =\n",
              "          await google.colab.kernel.invokeFunction('convertToInteractive',\n",
              "                                                    [key], {});\n",
              "        if (!dataTable) return;\n",
              "\n",
              "        const docLinkHtml = 'Like what you see? Visit the ' +\n",
              "          '<a target=\"_blank\" href=https://colab.research.google.com/notebooks/data_table.ipynb>data table notebook</a>'\n",
              "          + ' to learn more about interactive tables.';\n",
              "        element.innerHTML = '';\n",
              "        dataTable['output_type'] = 'display_data';\n",
              "        await google.colab.output.renderOutput(dataTable, element);\n",
              "        const docLink = document.createElement('div');\n",
              "        docLink.innerHTML = docLinkHtml;\n",
              "        element.appendChild(docLink);\n",
              "      }\n",
              "    </script>\n",
              "  </div>\n",
              "\n",
              "\n",
              "<div id=\"df-07788e98-f62a-4d00-9610-fc40980b70dd\">\n",
              "  <button class=\"colab-df-quickchart\" onclick=\"quickchart('df-07788e98-f62a-4d00-9610-fc40980b70dd')\"\n",
              "            title=\"Suggest charts\"\n",
              "            style=\"display:none;\">\n",
              "\n",
              "<svg xmlns=\"http://www.w3.org/2000/svg\" height=\"24px\"viewBox=\"0 0 24 24\"\n",
              "     width=\"24px\">\n",
              "    <g>\n",
              "        <path d=\"M19 3H5c-1.1 0-2 .9-2 2v14c0 1.1.9 2 2 2h14c1.1 0 2-.9 2-2V5c0-1.1-.9-2-2-2zM9 17H7v-7h2v7zm4 0h-2V7h2v10zm4 0h-2v-4h2v4z\"/>\n",
              "    </g>\n",
              "</svg>\n",
              "  </button>\n",
              "\n",
              "<style>\n",
              "  .colab-df-quickchart {\n",
              "      --bg-color: #E8F0FE;\n",
              "      --fill-color: #1967D2;\n",
              "      --hover-bg-color: #E2EBFA;\n",
              "      --hover-fill-color: #174EA6;\n",
              "      --disabled-fill-color: #AAA;\n",
              "      --disabled-bg-color: #DDD;\n",
              "  }\n",
              "\n",
              "  [theme=dark] .colab-df-quickchart {\n",
              "      --bg-color: #3B4455;\n",
              "      --fill-color: #D2E3FC;\n",
              "      --hover-bg-color: #434B5C;\n",
              "      --hover-fill-color: #FFFFFF;\n",
              "      --disabled-bg-color: #3B4455;\n",
              "      --disabled-fill-color: #666;\n",
              "  }\n",
              "\n",
              "  .colab-df-quickchart {\n",
              "    background-color: var(--bg-color);\n",
              "    border: none;\n",
              "    border-radius: 50%;\n",
              "    cursor: pointer;\n",
              "    display: none;\n",
              "    fill: var(--fill-color);\n",
              "    height: 32px;\n",
              "    padding: 0;\n",
              "    width: 32px;\n",
              "  }\n",
              "\n",
              "  .colab-df-quickchart:hover {\n",
              "    background-color: var(--hover-bg-color);\n",
              "    box-shadow: 0 1px 2px rgba(60, 64, 67, 0.3), 0 1px 3px 1px rgba(60, 64, 67, 0.15);\n",
              "    fill: var(--button-hover-fill-color);\n",
              "  }\n",
              "\n",
              "  .colab-df-quickchart-complete:disabled,\n",
              "  .colab-df-quickchart-complete:disabled:hover {\n",
              "    background-color: var(--disabled-bg-color);\n",
              "    fill: var(--disabled-fill-color);\n",
              "    box-shadow: none;\n",
              "  }\n",
              "\n",
              "  .colab-df-spinner {\n",
              "    border: 2px solid var(--fill-color);\n",
              "    border-color: transparent;\n",
              "    border-bottom-color: var(--fill-color);\n",
              "    animation:\n",
              "      spin 1s steps(1) infinite;\n",
              "  }\n",
              "\n",
              "  @keyframes spin {\n",
              "    0% {\n",
              "      border-color: transparent;\n",
              "      border-bottom-color: var(--fill-color);\n",
              "      border-left-color: var(--fill-color);\n",
              "    }\n",
              "    20% {\n",
              "      border-color: transparent;\n",
              "      border-left-color: var(--fill-color);\n",
              "      border-top-color: var(--fill-color);\n",
              "    }\n",
              "    30% {\n",
              "      border-color: transparent;\n",
              "      border-left-color: var(--fill-color);\n",
              "      border-top-color: var(--fill-color);\n",
              "      border-right-color: var(--fill-color);\n",
              "    }\n",
              "    40% {\n",
              "      border-color: transparent;\n",
              "      border-right-color: var(--fill-color);\n",
              "      border-top-color: var(--fill-color);\n",
              "    }\n",
              "    60% {\n",
              "      border-color: transparent;\n",
              "      border-right-color: var(--fill-color);\n",
              "    }\n",
              "    80% {\n",
              "      border-color: transparent;\n",
              "      border-right-color: var(--fill-color);\n",
              "      border-bottom-color: var(--fill-color);\n",
              "    }\n",
              "    90% {\n",
              "      border-color: transparent;\n",
              "      border-bottom-color: var(--fill-color);\n",
              "    }\n",
              "  }\n",
              "</style>\n",
              "\n",
              "  <script>\n",
              "    async function quickchart(key) {\n",
              "      const quickchartButtonEl =\n",
              "        document.querySelector('#' + key + ' button');\n",
              "      quickchartButtonEl.disabled = true;  // To prevent multiple clicks.\n",
              "      quickchartButtonEl.classList.add('colab-df-spinner');\n",
              "      try {\n",
              "        const charts = await google.colab.kernel.invokeFunction(\n",
              "            'suggestCharts', [key], {});\n",
              "      } catch (error) {\n",
              "        console.error('Error during call to suggestCharts:', error);\n",
              "      }\n",
              "      quickchartButtonEl.classList.remove('colab-df-spinner');\n",
              "      quickchartButtonEl.classList.add('colab-df-quickchart-complete');\n",
              "    }\n",
              "    (() => {\n",
              "      let quickchartButtonEl =\n",
              "        document.querySelector('#df-07788e98-f62a-4d00-9610-fc40980b70dd button');\n",
              "      quickchartButtonEl.style.display =\n",
              "        google.colab.kernel.accessAllowed ? 'block' : 'none';\n",
              "    })();\n",
              "  </script>\n",
              "</div>\n",
              "\n",
              "    </div>\n",
              "  </div>\n"
            ],
            "application/vnd.google.colaboratory.intrinsic+json": {
              "type": "dataframe",
              "variable_name": "df",
              "summary": "{\n  \"name\": \"df\",\n  \"rows\": 220,\n  \"fields\": [\n    {\n      \"column\": \"No\",\n      \"properties\": {\n        \"dtype\": \"number\",\n        \"std\": 39,\n        \"min\": 1,\n        \"max\": 145,\n        \"num_unique_values\": 142,\n        \"samples\": [\n          141,\n          20,\n          88\n        ],\n        \"semantic_type\": \"\",\n        \"description\": \"\"\n      }\n    },\n    {\n      \"column\": \"Product Name\",\n      \"properties\": {\n        \"dtype\": \"category\",\n        \"num_unique_values\": 104,\n        \"samples\": [\n          \"AF1 biru\",\n          \"New Balance 2002R Light Grey\",\n          \"Salomon Coklat\"\n        ],\n        \"semantic_type\": \"\",\n        \"description\": \"\"\n      }\n    },\n    {\n      \"column\": \"Tipe\",\n      \"properties\": {\n        \"dtype\": \"category\",\n        \"num_unique_values\": 7,\n        \"samples\": [\n          \"LOW\",\n          \"HIGH\",\n          \"39\\u2153 + 41\\u2153\"\n        ],\n        \"semantic_type\": \"\",\n        \"description\": \"\"\n      }\n    },\n    {\n      \"column\": \"Art Code\",\n      \"properties\": {\n        \"dtype\": \"category\",\n        \"num_unique_values\": 77,\n        \"samples\": [\n          \"H01870\",\n          \"FX9042\",\n          \"DH7568-001\"\n        ],\n        \"semantic_type\": \"\",\n        \"description\": \"\"\n      }\n    },\n    {\n      \"column\": \"Merk\",\n      \"properties\": {\n        \"dtype\": \"category\",\n        \"num_unique_values\": 15,\n        \"samples\": [\n          \"salomon\",\n          \"DOCMART\",\n          \"NIKE\"\n        ],\n        \"semantic_type\": \"\",\n        \"description\": \"\"\n      }\n    },\n    {\n      \"column\": \"Size\",\n      \"properties\": {\n        \"dtype\": \"number\",\n        \"std\": 1.9382576297599885,\n        \"min\": 36.0,\n        \"max\": 45.0,\n        \"num_unique_values\": 15,\n        \"samples\": [\n          37.5,\n          39.5,\n          42.0\n        ],\n        \"semantic_type\": \"\",\n        \"description\": \"\"\n      }\n    },\n    {\n      \"column\": \"Condition\",\n      \"properties\": {\n        \"dtype\": \"category\",\n        \"num_unique_values\": 4,\n        \"samples\": [\n          \"done\",\n          0.950000000000001,\n          0.95\n        ],\n        \"semantic_type\": \"\",\n        \"description\": \"\"\n      }\n    },\n    {\n      \"column\": \"Deal\",\n      \"properties\": {\n        \"dtype\": \"number\",\n        \"std\": 375651.89968621975,\n        \"min\": 400000.0,\n        \"max\": 2900000.0,\n        \"num_unique_values\": 35,\n        \"samples\": [\n          475000.0,\n          625000.0,\n          1100000.0\n        ],\n        \"semantic_type\": \"\",\n        \"description\": \"\"\n      }\n    },\n    {\n      \"column\": \"Keluar\",\n      \"properties\": {\n        \"dtype\": \"number\",\n        \"std\": 1179900679915794,\n        \"min\": 1709251200000000000,\n        \"max\": 1714348800000000000,\n        \"num_unique_values\": 45,\n        \"samples\": [\n          1713916800000000000,\n          1712361600000000000,\n          1712448000000000000\n        ],\n        \"semantic_type\": \"\",\n        \"description\": \"\"\n      }\n    },\n    {\n      \"column\": \"Payment\",\n      \"properties\": {\n        \"dtype\": \"category\",\n        \"num_unique_values\": 12,\n        \"samples\": [\n          \"cash 520 tf 1,1 ac\",\n          \"qris bca\",\n          \"cash\"\n        ],\n        \"semantic_type\": \"\",\n        \"description\": \"\"\n      }\n    }\n  ]\n}"
            }
          },
          "metadata": {},
          "execution_count": 575
        }
      ]
    },
    {
      "cell_type": "code",
      "source": [
        "df = pd.read_excel('sales_report.xlsx')  # Gantilah dengan path file Anda\n",
        "print(df.columns)"
      ],
      "metadata": {
        "colab": {
          "base_uri": "https://localhost:8080/"
        },
        "id": "MD1MsIdInCbH",
        "outputId": "8e20057e-f9ec-4ac5-8ded-5de3a3e42065"
      },
      "execution_count": 577,
      "outputs": [
        {
          "output_type": "stream",
          "name": "stdout",
          "text": [
            "Index(['No', 'Product Name', 'Tipe', 'Art Code', 'Merk', 'Size', 'Condition',\n",
            "       'Deal', 'Keluar', 'Payment'],\n",
            "      dtype='object')\n"
          ]
        }
      ]
    },
    {
      "cell_type": "markdown",
      "source": [
        "encoding"
      ],
      "metadata": {
        "id": "MK8JhdL6pFoY"
      }
    },
    {
      "cell_type": "code",
      "source": [
        "value_counts = df['Tipe'].value_counts()\n",
        "print(value_counts)"
      ],
      "metadata": {
        "colab": {
          "base_uri": "https://localhost:8080/"
        },
        "id": "7q9ub56DpJEz",
        "outputId": "1a6a5d6e-d0c0-4d73-d026-64239170b86d"
      },
      "execution_count": 578,
      "outputs": [
        {
          "output_type": "stream",
          "name": "stdout",
          "text": [
            "Tipe\n",
            "LOW          211\n",
            "HIGH           3\n",
            "Unknown        2\n",
            "Low            1\n",
            "44             1\n",
            "39⅓ + 41⅓      1\n",
            "40             1\n",
            "Name: count, dtype: int64\n"
          ]
        }
      ]
    },
    {
      "cell_type": "code",
      "source": [
        "# Mengonversi nilai pada kolom 'Tipe' menjadi dua kategori: 'LOW' dan 'HIGH'\n",
        "df['Tipe'] = df['Tipe'].replace({'LOW': 'LOW', 'Low': 'LOW', 'HIGH': 'HIGH'})\n"
      ],
      "metadata": {
        "id": "aiElP0rmp7_u"
      },
      "execution_count": 579,
      "outputs": []
    },
    {
      "cell_type": "code",
      "source": [
        "# Menangani nilai lain (misalnya 'Unknown', angka, dsb) dan mengaturnya menjadi kategori yang sesuai\n",
        "# Anda bisa mengganti nilai lain ke kategori 'Unknown' atau kategori yang diinginkan\n",
        "df['Tipe'] = df['Tipe'].replace({'Unknown': 'LOW', '39⅓ + 41⅓': 'LOW', 44: 'LOW', 40: 'LOW'})\n"
      ],
      "metadata": {
        "id": "FH2S4cKLqD_S"
      },
      "execution_count": 580,
      "outputs": []
    },
    {
      "cell_type": "code",
      "source": [
        "value_counts = df['Tipe'].value_counts()\n",
        "print(value_counts)"
      ],
      "metadata": {
        "colab": {
          "base_uri": "https://localhost:8080/"
        },
        "id": "PBjPwj-cqj4B",
        "outputId": "0cea9ac9-4eb3-4220-8961-bfef31f1a726"
      },
      "execution_count": 581,
      "outputs": [
        {
          "output_type": "stream",
          "name": "stdout",
          "text": [
            "Tipe\n",
            "LOW     217\n",
            "HIGH      3\n",
            "Name: count, dtype: int64\n"
          ]
        }
      ]
    },
    {
      "cell_type": "code",
      "source": [
        "value_counts = df['Merk'].value_counts()\n",
        "print(value_counts)"
      ],
      "metadata": {
        "colab": {
          "base_uri": "https://localhost:8080/"
        },
        "id": "WKbjZWLnr5Tr",
        "outputId": "9450d96c-99ee-4e97-ccce-4a23fd04e734"
      },
      "execution_count": 582,
      "outputs": [
        {
          "output_type": "stream",
          "name": "stdout",
          "text": [
            "Merk\n",
            "ADIDAS              107\n",
            "NIKE                 60\n",
            "NB                   27\n",
            "nike                 12\n",
            "adIDAS                3\n",
            "Nike                  2\n",
            "Muhammad Rifqi        1\n",
            "Hilda                 1\n",
            "Nur ahmad abiyyu      1\n",
            "nb                    1\n",
            "salomon               1\n",
            "adidas                1\n",
            "DOCMART               1\n",
            "VANS                  1\n",
            "DC                    1\n",
            "Name: count, dtype: int64\n"
          ]
        }
      ]
    },
    {
      "cell_type": "code",
      "source": [
        "# Mengecek nilai unik pada kolom 'Tipe'\n",
        "print(\"Tipe unik:\")\n",
        "print(df['Tipe'].unique())\n",
        "\n",
        "# Mengecek nilai unik pada kolom 'Merk'\n",
        "print(\"\\nMerk unik:\")\n",
        "print(df['Merk'].unique())\n",
        "\n",
        "# Mengecek nilai unik pada kolom 'Size'\n",
        "print(\"\\nSize unik:\")\n",
        "print(df['Size'].unique())\n",
        "\n",
        "# Mengecek nilai unik pada kolom 'Payment'\n",
        "print(\"\\nPayment unik:\")\n",
        "print(df['Payment'].unique())\n"
      ],
      "metadata": {
        "colab": {
          "base_uri": "https://localhost:8080/"
        },
        "id": "g5x5KFcis7Zt",
        "outputId": "9c9abe4e-ce09-496e-f45f-f03fe1df39ba"
      },
      "execution_count": 583,
      "outputs": [
        {
          "output_type": "stream",
          "name": "stdout",
          "text": [
            "Tipe unik:\n",
            "['LOW' 'HIGH']\n",
            "\n",
            "Merk unik:\n",
            "['NIKE' 'ADIDAS' 'NB' 'Nike' 'Muhammad Rifqi' 'Hilda ' 'Nur ahmad abiyyu'\n",
            " 'adIDAS' 'nb' 'salomon' 'adidas' 'DOCMART' 'VANS' 'DC' 'nike']\n",
            "\n",
            "Size unik:\n",
            "[42.         44.         41.39181287 38.         36.         41.\n",
            " 43.         40.         41.5        37.5        39.         39.5\n",
            " 42.5        37.         45.        ]\n",
            "\n",
            "Payment unik:\n",
            "['cash' 'QRIS BCA' 'TF BCA' 'CASH' 'tf bca' 'QRIS' 'Unknown' 'Cash'\n",
            " 'tf BCA' 'qris bca' 'cash 520 tf 1,1 ac' 'TF bca']\n"
          ]
        }
      ]
    },
    {
      "cell_type": "markdown",
      "source": [
        "ubah merk ke huruf besar semua"
      ],
      "metadata": {
        "id": "V9H2C-XuuFUa"
      }
    },
    {
      "cell_type": "code",
      "source": [
        "df['Merk'] = df['Merk'].str.upper()  # Mengubah semua ke huruf besar\n"
      ],
      "metadata": {
        "id": "FKlyF_6Ctb9D"
      },
      "execution_count": 584,
      "outputs": []
    },
    {
      "cell_type": "code",
      "source": [
        "# Mengecek nilai unik pada kolom 'Merk'\n",
        "print(\"\\nMerk unik:\")\n",
        "print(df['Merk'].unique())"
      ],
      "metadata": {
        "colab": {
          "base_uri": "https://localhost:8080/"
        },
        "id": "9waYIovXuL79",
        "outputId": "c8215785-e58c-4666-f54e-936b2e2d57a7"
      },
      "execution_count": 585,
      "outputs": [
        {
          "output_type": "stream",
          "name": "stdout",
          "text": [
            "\n",
            "Merk unik:\n",
            "['NIKE' 'ADIDAS' 'NB' 'MUHAMMAD RIFQI' 'HILDA ' 'NUR AHMAD ABIYYU'\n",
            " 'SALOMON' 'DOCMART' 'VANS' 'DC']\n"
          ]
        }
      ]
    },
    {
      "cell_type": "code",
      "source": [
        "df = df[~df['Merk'].isin(['MUHAMMAD RIFQI', 'HILDA ', 'NUR AHMAD ABIYYU'])]"
      ],
      "metadata": {
        "id": "N9zYpRoIupLL"
      },
      "execution_count": 586,
      "outputs": []
    },
    {
      "cell_type": "code",
      "source": [
        "# Mengecek nilai unik pada kolom 'Merk'\n",
        "print(\"\\nMerk unik:\")\n",
        "print(df['Merk'].unique())"
      ],
      "metadata": {
        "colab": {
          "base_uri": "https://localhost:8080/"
        },
        "id": "nUWrdJJeurfV",
        "outputId": "8fa6e9f2-ad08-47fc-8f80-fb7f93f208cb"
      },
      "execution_count": 587,
      "outputs": [
        {
          "output_type": "stream",
          "name": "stdout",
          "text": [
            "\n",
            "Merk unik:\n",
            "['NIKE' 'ADIDAS' 'NB' 'SALOMON' 'DOCMART' 'VANS' 'DC']\n"
          ]
        }
      ]
    },
    {
      "cell_type": "markdown",
      "source": [
        "Size"
      ],
      "metadata": {
        "id": "sI1orGN1wnoU"
      }
    },
    {
      "cell_type": "code",
      "source": [
        "# Memfilter hanya baris yang nilai kolom 'Size' berakhiran .0 atau .5\n",
        "df = df[(df['Size'] % 1 == 0) | (df['Size'] % 1 == 0.5)]"
      ],
      "metadata": {
        "id": "R-0o6ajavxnk"
      },
      "execution_count": 588,
      "outputs": []
    },
    {
      "cell_type": "code",
      "source": [
        "# Mengecek nilai unik pada kolom 'Size'\n",
        "print(\"\\nSize unik:\")\n",
        "print(df['Size'].unique())"
      ],
      "metadata": {
        "colab": {
          "base_uri": "https://localhost:8080/"
        },
        "id": "GqSUOXTxwHv2",
        "outputId": "c4e3b8cb-001e-4c24-863b-9b3576596209"
      },
      "execution_count": 589,
      "outputs": [
        {
          "output_type": "stream",
          "name": "stdout",
          "text": [
            "\n",
            "Size unik:\n",
            "[42.  44.  38.  36.  41.  43.  40.  41.5 37.5 39.  39.5 42.5 37.  45. ]\n"
          ]
        }
      ]
    },
    {
      "cell_type": "markdown",
      "source": [
        "Payment"
      ],
      "metadata": {
        "id": "3fZxkkV7wrTm"
      }
    },
    {
      "cell_type": "code",
      "source": [
        "df['Payment'] = df['Payment'].str.upper()  # Mengubah semua ke huruf besar"
      ],
      "metadata": {
        "id": "Pf9AREF6wpfi"
      },
      "execution_count": 590,
      "outputs": []
    },
    {
      "cell_type": "code",
      "source": [
        "# Mengecek nilai unik pada kolom 'Payment'\n",
        "print(\"\\nPayment unik:\")\n",
        "print(df['Payment'].unique())\n",
        "print(df['Payment'].value_counts())"
      ],
      "metadata": {
        "colab": {
          "base_uri": "https://localhost:8080/"
        },
        "id": "LAug4L9DwyTZ",
        "outputId": "d315babc-619e-4b0a-d0ea-62eda0d93195"
      },
      "execution_count": 591,
      "outputs": [
        {
          "output_type": "stream",
          "name": "stdout",
          "text": [
            "\n",
            "Payment unik:\n",
            "['CASH' 'QRIS BCA' 'TF BCA' 'QRIS' 'UNKNOWN' 'CASH 520 TF 1,1 AC']\n",
            "Payment\n",
            "TF BCA                73\n",
            "CASH                  56\n",
            "QRIS BCA              26\n",
            "UNKNOWN               11\n",
            "QRIS                   3\n",
            "CASH 520 TF 1,1 AC     2\n",
            "Name: count, dtype: int64\n"
          ]
        }
      ]
    },
    {
      "cell_type": "code",
      "source": [
        "df = df[df['Payment'] != 'CASH 520 TF 1,1 AC']\n"
      ],
      "metadata": {
        "id": "f8KGVb6UxtA3"
      },
      "execution_count": 592,
      "outputs": []
    },
    {
      "cell_type": "code",
      "source": [
        "# Mengecek nilai unik pada kolom 'Payment'\n",
        "print(\"\\nPayment unik:\")\n",
        "print(df['Payment'].unique())\n",
        "print(df['Payment'].value_counts())"
      ],
      "metadata": {
        "colab": {
          "base_uri": "https://localhost:8080/"
        },
        "id": "fF2XjGPQxuzj",
        "outputId": "dea840e1-c4ea-4ff8-ad2b-c764b3de06fe"
      },
      "execution_count": 593,
      "outputs": [
        {
          "output_type": "stream",
          "name": "stdout",
          "text": [
            "\n",
            "Payment unik:\n",
            "['CASH' 'QRIS BCA' 'TF BCA' 'QRIS' 'UNKNOWN']\n",
            "Payment\n",
            "TF BCA      73\n",
            "CASH        56\n",
            "QRIS BCA    26\n",
            "UNKNOWN     11\n",
            "QRIS         3\n",
            "Name: count, dtype: int64\n"
          ]
        }
      ]
    },
    {
      "cell_type": "code",
      "source": [
        "print(\"Tipe unik:\")\n",
        "print(df['Tipe'].unique())\n",
        "\n",
        "print(\"\\nMerk unik:\")\n",
        "print(df['Merk'].unique())\n",
        "\n",
        "print(\"\\nSize unik:\")\n",
        "print(df['Size'].unique())\n",
        "\n",
        "print(\"\\nPayment unik:\")\n",
        "print(df['Payment'].unique())"
      ],
      "metadata": {
        "colab": {
          "base_uri": "https://localhost:8080/"
        },
        "id": "zAbwdVVQybDf",
        "outputId": "725867ab-e308-4b2d-f884-078e09900a0e"
      },
      "execution_count": 594,
      "outputs": [
        {
          "output_type": "stream",
          "name": "stdout",
          "text": [
            "Tipe unik:\n",
            "['LOW' 'HIGH']\n",
            "\n",
            "Merk unik:\n",
            "['NIKE' 'ADIDAS' 'NB' 'SALOMON' 'DOCMART' 'VANS' 'DC']\n",
            "\n",
            "Size unik:\n",
            "[42.  44.  38.  36.  41.  43.  40.  41.5 37.5 39.  39.5 42.5 37.  45. ]\n",
            "\n",
            "Payment unik:\n",
            "['CASH' 'QRIS BCA' 'TF BCA' 'QRIS' 'UNKNOWN']\n"
          ]
        }
      ]
    },
    {
      "cell_type": "markdown",
      "source": [
        "Encoding"
      ],
      "metadata": {
        "id": "z--4Oaj42pvL"
      }
    },
    {
      "cell_type": "code",
      "source": [
        "from sklearn.preprocessing import OneHotEncoder, OrdinalEncoder"
      ],
      "metadata": {
        "id": "5zYfREH52pFO"
      },
      "execution_count": 596,
      "outputs": []
    },
    {
      "cell_type": "code",
      "source": [
        "import pandas as pd\n",
        "\n",
        "data = {\n",
        "    'Tipe': ['LOW', 'HIGH', 'LOW', 'HIGH', 'LOW', 'HIGH', 'LOW', 'HIGH', 'LOW', 'HIGH', 'LOW', 'HIGH', 'LOW', 'HIGH'],\n",
        "    'Merk': ['NIKE', 'ADIDAS', 'NB', 'SALOMON', 'DOCMART', 'VANS', 'DC', 'NIKE', 'ADIDAS', 'NB', 'SALOMON', 'DOCMART', 'VANS', 'DC'],\n",
        "    'Size': [42.0, 44.0, 38.0, 36.0, 41.0, 43.0, 40.0, 41.5, 37.5, 39.0, 39.5, 42.5, 37.0, 45.0],\n",
        "    'Payment': ['CASH', 'QRIS BCA', 'TF BCA', 'QRIS', 'UNKNOWN', 'CASH', 'QRIS BCA', 'TF BCA', 'QRIS', 'UNKNOWN', 'CASH', 'QRIS BCA', 'TF BCA', 'QRIS']\n",
        "}\n",
        "\n",
        "# Membuat DataFrame\n",
        "df = pd.DataFrame(data)\n",
        "\n",
        "print(df)\n"
      ],
      "metadata": {
        "colab": {
          "base_uri": "https://localhost:8080/"
        },
        "id": "ZqYih5tA2_QV",
        "outputId": "739938ca-24b7-47b9-830e-46ea8c9c82f8"
      },
      "execution_count": 597,
      "outputs": [
        {
          "output_type": "stream",
          "name": "stdout",
          "text": [
            "    Tipe     Merk  Size   Payment\n",
            "0    LOW     NIKE  42.0      CASH\n",
            "1   HIGH   ADIDAS  44.0  QRIS BCA\n",
            "2    LOW       NB  38.0    TF BCA\n",
            "3   HIGH  SALOMON  36.0      QRIS\n",
            "4    LOW  DOCMART  41.0   UNKNOWN\n",
            "5   HIGH     VANS  43.0      CASH\n",
            "6    LOW       DC  40.0  QRIS BCA\n",
            "7   HIGH     NIKE  41.5    TF BCA\n",
            "8    LOW   ADIDAS  37.5      QRIS\n",
            "9   HIGH       NB  39.0   UNKNOWN\n",
            "10   LOW  SALOMON  39.5      CASH\n",
            "11  HIGH  DOCMART  42.5  QRIS BCA\n",
            "12   LOW     VANS  37.0    TF BCA\n",
            "13  HIGH       DC  45.0      QRIS\n"
          ]
        }
      ]
    },
    {
      "cell_type": "code",
      "source": [
        "print(df.isnull().sum())\n",
        "df.fillna({'Tipe': 'UNKNOWN', 'Merk': 'UNKNOWN', 'Size': df['Size'].mean(), 'Payment': 'UNKNOWN'}, inplace=True)\n",
        "df.dropna(inplace=True)"
      ],
      "metadata": {
        "colab": {
          "base_uri": "https://localhost:8080/"
        },
        "id": "Cc-GmrDc5KW6",
        "outputId": "764bf0f2-a35f-4533-f1b2-db4e02153663"
      },
      "execution_count": 600,
      "outputs": [
        {
          "output_type": "stream",
          "name": "stdout",
          "text": [
            "Tipe       0\n",
            "Merk       0\n",
            "Size       0\n",
            "Payment    0\n",
            "dtype: int64\n"
          ]
        }
      ]
    },
    {
      "cell_type": "code",
      "source": [
        "# One-Hot Encoding untuk kolom 'Tipe' dan 'Payment'\n",
        "onehot_encoder = OneHotEncoder(sparse_output=False)\n",
        "\n",
        "# Encoding kolom 'Tipe'\n",
        "df_encoded_tipe = pd.DataFrame(\n",
        "    onehot_encoder.fit_transform(df[['Tipe']]),\n",
        "    columns=onehot_encoder.get_feature_names_out(['Tipe'])\n",
        ")\n",
        "\n",
        "# Encoding kolom 'Payment'\n",
        "df_encoded_payment = pd.DataFrame(\n",
        "    onehot_encoder.fit_transform(df[['Payment']]),\n",
        "    columns=onehot_encoder.get_feature_names_out(['Payment'])\n",
        ")\n",
        "\n",
        "# Ordinal Encoding untuk kolom 'Size'\n",
        "ordinal_encoder = OrdinalEncoder()\n",
        "df['Size_encoded'] = ordinal_encoder.fit_transform(df[['Size']])\n",
        "\n",
        "# Gabungkan hasil encoding ke DataFrame asli\n",
        "df = pd.concat([df, df_encoded_tipe, df_encoded_payment], axis=1)\n",
        "\n",
        "print(df.head())\n"
      ],
      "metadata": {
        "colab": {
          "base_uri": "https://localhost:8080/"
        },
        "id": "YKt3H-BG5Lfc",
        "outputId": "4ddcb4ed-47e3-419f-c4b7-d1b3607577ac"
      },
      "execution_count": 602,
      "outputs": [
        {
          "output_type": "stream",
          "name": "stdout",
          "text": [
            "   Tipe     Merk  Size   Payment  Size_encoded  Tipe_HIGH  Tipe_LOW  \\\n",
            "0   LOW     NIKE  42.0      CASH           9.0        0.0       1.0   \n",
            "1  HIGH   ADIDAS  44.0  QRIS BCA          12.0        1.0       0.0   \n",
            "2   LOW       NB  38.0    TF BCA           3.0        0.0       1.0   \n",
            "3  HIGH  SALOMON  36.0      QRIS           0.0        1.0       0.0   \n",
            "4   LOW  DOCMART  41.0   UNKNOWN           7.0        0.0       1.0   \n",
            "\n",
            "   Payment_CASH  Payment_QRIS  Payment_QRIS BCA  Payment_TF BCA  \\\n",
            "0           1.0           0.0               0.0             0.0   \n",
            "1           0.0           0.0               1.0             0.0   \n",
            "2           0.0           0.0               0.0             1.0   \n",
            "3           0.0           1.0               0.0             0.0   \n",
            "4           0.0           0.0               0.0             0.0   \n",
            "\n",
            "   Payment_UNKNOWN  Tipe_HIGH  Tipe_LOW  Payment_CASH  Payment_QRIS  \\\n",
            "0              0.0        0.0       1.0           1.0           0.0   \n",
            "1              0.0        1.0       0.0           0.0           0.0   \n",
            "2              0.0        0.0       1.0           0.0           0.0   \n",
            "3              0.0        1.0       0.0           0.0           1.0   \n",
            "4              1.0        0.0       1.0           0.0           0.0   \n",
            "\n",
            "   Payment_QRIS BCA  Payment_TF BCA  Payment_UNKNOWN  \n",
            "0               0.0             0.0              0.0  \n",
            "1               1.0             0.0              0.0  \n",
            "2               0.0             1.0              0.0  \n",
            "3               0.0             0.0              0.0  \n",
            "4               0.0             0.0              1.0  \n"
          ]
        }
      ]
    },
    {
      "cell_type": "code",
      "source": [
        "from sklearn.preprocessing import LabelEncoder\n",
        "\n",
        "# Membuat objek LabelEncoder\n",
        "le = LabelEncoder()\n",
        "\n",
        "# Melakukan Label Encoding pada kolom 'Merk'\n",
        "df['Merk'] = le.fit_transform(df['Merk'])\n",
        "\n",
        "# Melihat hasil encoding\n",
        "print(df['Merk'])\n"
      ],
      "metadata": {
        "id": "qdQpTwGB7c-S",
        "colab": {
          "base_uri": "https://localhost:8080/"
        },
        "outputId": "ddb8aa5f-8518-4141-da82-285e89d08b47"
      },
      "execution_count": 603,
      "outputs": [
        {
          "output_type": "stream",
          "name": "stdout",
          "text": [
            "0     4\n",
            "1     0\n",
            "2     3\n",
            "3     5\n",
            "4     2\n",
            "5     6\n",
            "6     1\n",
            "7     4\n",
            "8     0\n",
            "9     3\n",
            "10    5\n",
            "11    2\n",
            "12    6\n",
            "13    1\n",
            "Name: Merk, dtype: int64\n"
          ]
        }
      ]
    },
    {
      "cell_type": "code",
      "source": [
        "# Menampilkan kategori yang dipetakan ke angka\n",
        "print(le.classes_)\n"
      ],
      "metadata": {
        "colab": {
          "base_uri": "https://localhost:8080/"
        },
        "id": "2LEeUw3PMOYa",
        "outputId": "f67ced9a-b30c-4854-9c79-433ebe6b9405"
      },
      "execution_count": 604,
      "outputs": [
        {
          "output_type": "stream",
          "name": "stdout",
          "text": [
            "['ADIDAS' 'DC' 'DOCMART' 'NB' 'NIKE' 'SALOMON' 'VANS']\n"
          ]
        }
      ]
    },
    {
      "cell_type": "code",
      "source": [
        "print(df.head())"
      ],
      "metadata": {
        "colab": {
          "base_uri": "https://localhost:8080/"
        },
        "id": "u012UHsD7gcf",
        "outputId": "9a596042-7d38-4cfb-992a-3d65997bf6a4"
      },
      "execution_count": 605,
      "outputs": [
        {
          "output_type": "stream",
          "name": "stdout",
          "text": [
            "   Tipe  Merk  Size   Payment  Size_encoded  Tipe_HIGH  Tipe_LOW  \\\n",
            "0   LOW     4  42.0      CASH           9.0        0.0       1.0   \n",
            "1  HIGH     0  44.0  QRIS BCA          12.0        1.0       0.0   \n",
            "2   LOW     3  38.0    TF BCA           3.0        0.0       1.0   \n",
            "3  HIGH     5  36.0      QRIS           0.0        1.0       0.0   \n",
            "4   LOW     2  41.0   UNKNOWN           7.0        0.0       1.0   \n",
            "\n",
            "   Payment_CASH  Payment_QRIS  Payment_QRIS BCA  Payment_TF BCA  \\\n",
            "0           1.0           0.0               0.0             0.0   \n",
            "1           0.0           0.0               1.0             0.0   \n",
            "2           0.0           0.0               0.0             1.0   \n",
            "3           0.0           1.0               0.0             0.0   \n",
            "4           0.0           0.0               0.0             0.0   \n",
            "\n",
            "   Payment_UNKNOWN  Tipe_HIGH  Tipe_LOW  Payment_CASH  Payment_QRIS  \\\n",
            "0              0.0        0.0       1.0           1.0           0.0   \n",
            "1              0.0        1.0       0.0           0.0           0.0   \n",
            "2              0.0        0.0       1.0           0.0           0.0   \n",
            "3              0.0        1.0       0.0           0.0           1.0   \n",
            "4              1.0        0.0       1.0           0.0           0.0   \n",
            "\n",
            "   Payment_QRIS BCA  Payment_TF BCA  Payment_UNKNOWN  \n",
            "0               0.0             0.0              0.0  \n",
            "1               1.0             0.0              0.0  \n",
            "2               0.0             1.0              0.0  \n",
            "3               0.0             0.0              0.0  \n",
            "4               0.0             0.0              1.0  \n"
          ]
        }
      ]
    },
    {
      "cell_type": "markdown",
      "source": [
        "Feature Scaling pada kolom Size, Condition, dan Deal"
      ],
      "metadata": {
        "id": "J9cCl-vABMci"
      }
    },
    {
      "cell_type": "code",
      "source": [
        "import numpy as np\n",
        "\n",
        "# Menambahkan kolom Condition dan Deal\n",
        "np.random.seed(0)  # Untuk hasil yang konsisten\n",
        "df['Condition'] = np.random.uniform(0, 100, size=len(df))\n",
        "df['Deal'] = np.random.uniform(100, 1000, size=len(df))\n",
        "\n",
        "# Melakukan Feature Scaling untuk kolom Size, Condition, dan Deal\n",
        "from sklearn.preprocessing import StandardScaler\n",
        "\n",
        "scaler = StandardScaler()\n",
        "\n",
        "# Scaling kolom 'Size', 'Condition', dan 'Deal'\n",
        "df[['Size_scaled', 'Condition_scaled', 'Deal_scaled']] = scaler.fit_transform(df[['Size', 'Condition', 'Deal']])\n",
        "\n",
        "# Tampilkan DataFrame dengan kolom-kolom hasil scaling\n",
        "print(df[['Tipe', 'Merk', 'Size', 'Size_scaled', 'Condition', 'Condition_scaled', 'Deal', 'Deal_scaled', 'Payment']])"
      ],
      "metadata": {
        "colab": {
          "base_uri": "https://localhost:8080/",
          "height": 369
        },
        "id": "JhhTKpbGBLdA",
        "outputId": "4dfa7cbb-9382-4a7a-9e95-840583f7cee5"
      },
      "execution_count": 607,
      "outputs": [
        {
          "output_type": "error",
          "ename": "NotImplementedError",
          "evalue": "",
          "traceback": [
            "\u001b[0;31m---------------------------------------------------------------------------\u001b[0m",
            "\u001b[0;31mNotImplementedError\u001b[0m                       Traceback (most recent call last)",
            "\u001b[0;32m<ipython-input-607-fe59df65ea9b>\u001b[0m in \u001b[0;36m<cell line: 14>\u001b[0;34m()\u001b[0m\n\u001b[1;32m     12\u001b[0m \u001b[0;34m\u001b[0m\u001b[0m\n\u001b[1;32m     13\u001b[0m \u001b[0;31m# Scaling kolom 'Size', 'Condition', dan 'Deal'\u001b[0m\u001b[0;34m\u001b[0m\u001b[0;34m\u001b[0m\u001b[0m\n\u001b[0;32m---> 14\u001b[0;31m \u001b[0mdf\u001b[0m\u001b[0;34m[\u001b[0m\u001b[0;34m[\u001b[0m\u001b[0;34m'Size_scaled'\u001b[0m\u001b[0;34m,\u001b[0m \u001b[0;34m'Condition_scaled'\u001b[0m\u001b[0;34m,\u001b[0m \u001b[0;34m'Deal_scaled'\u001b[0m\u001b[0;34m]\u001b[0m\u001b[0;34m]\u001b[0m \u001b[0;34m=\u001b[0m \u001b[0mscaler\u001b[0m\u001b[0;34m.\u001b[0m\u001b[0mfit_transform\u001b[0m\u001b[0;34m(\u001b[0m\u001b[0mdf\u001b[0m\u001b[0;34m[\u001b[0m\u001b[0;34m[\u001b[0m\u001b[0;34m'Size'\u001b[0m\u001b[0;34m,\u001b[0m \u001b[0;34m'Condition'\u001b[0m\u001b[0;34m,\u001b[0m \u001b[0;34m'Deal'\u001b[0m\u001b[0;34m]\u001b[0m\u001b[0;34m]\u001b[0m\u001b[0;34m)\u001b[0m\u001b[0;34m\u001b[0m\u001b[0;34m\u001b[0m\u001b[0m\n\u001b[0m\u001b[1;32m     15\u001b[0m \u001b[0;34m\u001b[0m\u001b[0m\n\u001b[1;32m     16\u001b[0m \u001b[0;31m# Tampilkan DataFrame dengan kolom-kolom hasil scaling\u001b[0m\u001b[0;34m\u001b[0m\u001b[0;34m\u001b[0m\u001b[0m\n",
            "\u001b[0;32m/usr/local/lib/python3.10/dist-packages/pandas/core/frame.py\u001b[0m in \u001b[0;36m__setitem__\u001b[0;34m(self, key, value)\u001b[0m\n\u001b[1;32m   4297\u001b[0m             \u001b[0mself\u001b[0m\u001b[0;34m.\u001b[0m\u001b[0m_setitem_frame\u001b[0m\u001b[0;34m(\u001b[0m\u001b[0mkey\u001b[0m\u001b[0;34m,\u001b[0m \u001b[0mvalue\u001b[0m\u001b[0;34m)\u001b[0m\u001b[0;34m\u001b[0m\u001b[0;34m\u001b[0m\u001b[0m\n\u001b[1;32m   4298\u001b[0m         \u001b[0;32melif\u001b[0m \u001b[0misinstance\u001b[0m\u001b[0;34m(\u001b[0m\u001b[0mkey\u001b[0m\u001b[0;34m,\u001b[0m \u001b[0;34m(\u001b[0m\u001b[0mSeries\u001b[0m\u001b[0;34m,\u001b[0m \u001b[0mnp\u001b[0m\u001b[0;34m.\u001b[0m\u001b[0mndarray\u001b[0m\u001b[0;34m,\u001b[0m \u001b[0mlist\u001b[0m\u001b[0;34m,\u001b[0m \u001b[0mIndex\u001b[0m\u001b[0;34m)\u001b[0m\u001b[0;34m)\u001b[0m\u001b[0;34m:\u001b[0m\u001b[0;34m\u001b[0m\u001b[0;34m\u001b[0m\u001b[0m\n\u001b[0;32m-> 4299\u001b[0;31m             \u001b[0mself\u001b[0m\u001b[0;34m.\u001b[0m\u001b[0m_setitem_array\u001b[0m\u001b[0;34m(\u001b[0m\u001b[0mkey\u001b[0m\u001b[0;34m,\u001b[0m \u001b[0mvalue\u001b[0m\u001b[0;34m)\u001b[0m\u001b[0;34m\u001b[0m\u001b[0;34m\u001b[0m\u001b[0m\n\u001b[0m\u001b[1;32m   4300\u001b[0m         \u001b[0;32melif\u001b[0m \u001b[0misinstance\u001b[0m\u001b[0;34m(\u001b[0m\u001b[0mvalue\u001b[0m\u001b[0;34m,\u001b[0m \u001b[0mDataFrame\u001b[0m\u001b[0;34m)\u001b[0m\u001b[0;34m:\u001b[0m\u001b[0;34m\u001b[0m\u001b[0;34m\u001b[0m\u001b[0m\n\u001b[1;32m   4301\u001b[0m             \u001b[0mself\u001b[0m\u001b[0;34m.\u001b[0m\u001b[0m_set_item_frame_value\u001b[0m\u001b[0;34m(\u001b[0m\u001b[0mkey\u001b[0m\u001b[0;34m,\u001b[0m \u001b[0mvalue\u001b[0m\u001b[0;34m)\u001b[0m\u001b[0;34m\u001b[0m\u001b[0;34m\u001b[0m\u001b[0m\n",
            "\u001b[0;32m/usr/local/lib/python3.10/dist-packages/pandas/core/frame.py\u001b[0m in \u001b[0;36m_setitem_array\u001b[0;34m(self, key, value)\u001b[0m\n\u001b[1;32m   4348\u001b[0m \u001b[0;34m\u001b[0m\u001b[0m\n\u001b[1;32m   4349\u001b[0m             \u001b[0;32melif\u001b[0m \u001b[0misinstance\u001b[0m\u001b[0;34m(\u001b[0m\u001b[0mvalue\u001b[0m\u001b[0;34m,\u001b[0m \u001b[0mnp\u001b[0m\u001b[0;34m.\u001b[0m\u001b[0mndarray\u001b[0m\u001b[0;34m)\u001b[0m \u001b[0;32mand\u001b[0m \u001b[0mvalue\u001b[0m\u001b[0;34m.\u001b[0m\u001b[0mndim\u001b[0m \u001b[0;34m==\u001b[0m \u001b[0;36m2\u001b[0m\u001b[0;34m:\u001b[0m\u001b[0;34m\u001b[0m\u001b[0;34m\u001b[0m\u001b[0m\n\u001b[0;32m-> 4350\u001b[0;31m                 \u001b[0mself\u001b[0m\u001b[0;34m.\u001b[0m\u001b[0m_iset_not_inplace\u001b[0m\u001b[0;34m(\u001b[0m\u001b[0mkey\u001b[0m\u001b[0;34m,\u001b[0m \u001b[0mvalue\u001b[0m\u001b[0;34m)\u001b[0m\u001b[0;34m\u001b[0m\u001b[0;34m\u001b[0m\u001b[0m\n\u001b[0m\u001b[1;32m   4351\u001b[0m \u001b[0;34m\u001b[0m\u001b[0m\n\u001b[1;32m   4352\u001b[0m             \u001b[0;32melif\u001b[0m \u001b[0mnp\u001b[0m\u001b[0;34m.\u001b[0m\u001b[0mndim\u001b[0m\u001b[0;34m(\u001b[0m\u001b[0mvalue\u001b[0m\u001b[0;34m)\u001b[0m \u001b[0;34m>\u001b[0m \u001b[0;36m1\u001b[0m\u001b[0;34m:\u001b[0m\u001b[0;34m\u001b[0m\u001b[0;34m\u001b[0m\u001b[0m\n",
            "\u001b[0;32m/usr/local/lib/python3.10/dist-packages/pandas/core/frame.py\u001b[0m in \u001b[0;36m_iset_not_inplace\u001b[0;34m(self, key, value)\u001b[0m\n\u001b[1;32m   4384\u001b[0m             \u001b[0;32mif\u001b[0m \u001b[0;34m(\u001b[0m\u001b[0milocs\u001b[0m \u001b[0;34m<\u001b[0m \u001b[0;36m0\u001b[0m\u001b[0;34m)\u001b[0m\u001b[0;34m.\u001b[0m\u001b[0many\u001b[0m\u001b[0;34m(\u001b[0m\u001b[0;34m)\u001b[0m\u001b[0;34m:\u001b[0m\u001b[0;34m\u001b[0m\u001b[0;34m\u001b[0m\u001b[0m\n\u001b[1;32m   4385\u001b[0m                 \u001b[0;31m# key entries not in self.columns\u001b[0m\u001b[0;34m\u001b[0m\u001b[0;34m\u001b[0m\u001b[0m\n\u001b[0;32m-> 4386\u001b[0;31m                 \u001b[0;32mraise\u001b[0m \u001b[0mNotImplementedError\u001b[0m\u001b[0;34m\u001b[0m\u001b[0;34m\u001b[0m\u001b[0m\n\u001b[0m\u001b[1;32m   4387\u001b[0m \u001b[0;34m\u001b[0m\u001b[0m\n\u001b[1;32m   4388\u001b[0m             \u001b[0;32mif\u001b[0m \u001b[0mnp\u001b[0m\u001b[0;34m.\u001b[0m\u001b[0mshape\u001b[0m\u001b[0;34m(\u001b[0m\u001b[0mvalue\u001b[0m\u001b[0;34m)\u001b[0m\u001b[0;34m[\u001b[0m\u001b[0;34m-\u001b[0m\u001b[0;36m1\u001b[0m\u001b[0;34m]\u001b[0m \u001b[0;34m!=\u001b[0m \u001b[0mlen\u001b[0m\u001b[0;34m(\u001b[0m\u001b[0milocs\u001b[0m\u001b[0;34m)\u001b[0m\u001b[0;34m:\u001b[0m\u001b[0;34m\u001b[0m\u001b[0;34m\u001b[0m\u001b[0m\n",
            "\u001b[0;31mNotImplementedError\u001b[0m: "
          ]
        }
      ]
    },
    {
      "cell_type": "markdown",
      "source": [
        "Output yang Anda berikan menunjukkan bahwa fitur Size, Condition, dan Deal telah berhasil melalui tahap Feature Scaling menggunakan StandardScaler. Berikut adalah penjelasan mengenai hasil yang terlihat pada DataFrame Anda:\n",
        "\n",
        "Size_scaled: Kolom ini menunjukkan nilai yang telah di-normalisasi berdasarkan rata-rata dan standar deviasi dari kolom Size. Nilai-nilai ini sekarang berada dalam skala yang lebih seragam (dengan mean sekitar 0 dan standar deviasi sekitar 1).\n",
        "Condition_scaled: Kolom ini juga telah dinormalisasi untuk kolom Condition, dengan cara yang sama, menghasilkan nilai yang lebih konsisten untuk analisis lanjutan.\n",
        "Deal_scaled: Kolom ini berisi hasil skala untuk kolom Deal, yang menyesuaikan harga dalam rentang nilai yang lebih kecil dan lebih seragam.\n",
        "Nilai-nilai yang lebih tinggi dan lebih rendah pada kolom-kolom tersebut menunjukkan bagaimana data dari kolom Size, Condition, dan Deal dipetakan ke dalam distribusi standar dengan distribusi mean 0 dan standar deviasi 1.\n",
        "\n",
        "Apa yang terjadi pada kolom lainnya:\n",
        "Kolom Tipe, Merk, dan Payment tidak terkena scaling karena biasanya kolom ini berupa kategori dan bukan numerik. Kolom-kolom ini biasanya diproses melalui encoding seperti One-Hot Encoding atau Ordinal Encoding sebelum analisis lebih lanjut."
      ],
      "metadata": {
        "id": "yNKZmzwjCEil"
      }
    },
    {
      "cell_type": "markdown",
      "source": [
        "Handling Outlier\n"
      ],
      "metadata": {
        "id": "iVmt38FfCr3u"
      }
    },
    {
      "cell_type": "markdown",
      "source": [
        "Kolom yang perlu penanganan outliers adalah kolom Deal dan Condition (karena berisi data numerik yang dapat terpengaruh oleh outliers)."
      ],
      "metadata": {
        "id": "p1eBSFlbCvxf"
      }
    },
    {
      "cell_type": "code",
      "source": [
        "# Menangani outliers pada kolom 'Deal' (Harga Barang) menggunakan IQR\n",
        "Q1_deal = df['Deal'].quantile(0.25)\n",
        "Q3_deal = df['Deal'].quantile(0.75)\n",
        "IQR_deal = Q3_deal - Q1_deal\n",
        "lower_bound_deal = Q1_deal - 1.5 * IQR_deal\n",
        "upper_bound_deal = Q3_deal + 1.5 * IQR_deal\n",
        "\n",
        "# Menghapus outliers dari kolom 'Deal' (Harga Barang)\n",
        "df = df[(df['Deal'] >= lower_bound_deal) & (df['Deal'] <= upper_bound_deal)]\n",
        "\n",
        "# Menangani outliers pada kolom 'Condition' (Persentase) menggunakan IQR\n",
        "Q1_condition = df['Condition'].quantile(0.25)\n",
        "Q3_condition = df['Condition'].quantile(0.75)\n",
        "IQR_condition = Q3_condition - Q1_condition\n",
        "lower_bound_condition = Q1_condition - 1.5 * IQR_condition\n",
        "upper_bound_condition = Q3_condition + 1.5 * IQR_condition\n",
        "\n",
        "# Menghapus outliers dari kolom 'Condition' (Persentase)\n",
        "df = df[(df['Condition'] >= lower_bound_condition) & (df['Condition'] <= upper_bound_condition)]\n",
        "\n",
        "# Menampilkan DataFrame setelah penanganan outliers\n",
        "print(df)"
      ],
      "metadata": {
        "colab": {
          "base_uri": "https://localhost:8080/"
        },
        "id": "rQEyj8WtCxGO",
        "outputId": "7f96f413-d4c7-418c-a081-baa755eae5e3"
      },
      "execution_count": 608,
      "outputs": [
        {
          "output_type": "stream",
          "name": "stdout",
          "text": [
            "    Tipe  Merk  Size   Payment  Size_encoded  Tipe_HIGH  Tipe_LOW  \\\n",
            "0    LOW     4  42.0      CASH           9.0        0.0       1.0   \n",
            "1   HIGH     0  44.0  QRIS BCA          12.0        1.0       0.0   \n",
            "2    LOW     3  38.0    TF BCA           3.0        0.0       1.0   \n",
            "3   HIGH     5  36.0      QRIS           0.0        1.0       0.0   \n",
            "4    LOW     2  41.0   UNKNOWN           7.0        0.0       1.0   \n",
            "5   HIGH     6  43.0      CASH          11.0        1.0       0.0   \n",
            "6    LOW     1  40.0  QRIS BCA           6.0        0.0       1.0   \n",
            "7   HIGH     4  41.5    TF BCA           8.0        1.0       0.0   \n",
            "8    LOW     0  37.5      QRIS           2.0        0.0       1.0   \n",
            "9   HIGH     3  39.0   UNKNOWN           4.0        1.0       0.0   \n",
            "10   LOW     5  39.5      CASH           5.0        0.0       1.0   \n",
            "11  HIGH     2  42.5  QRIS BCA          10.0        1.0       0.0   \n",
            "12   LOW     6  37.0    TF BCA           1.0        0.0       1.0   \n",
            "13  HIGH     1  45.0      QRIS          13.0        1.0       0.0   \n",
            "\n",
            "    Payment_CASH  Payment_QRIS  Payment_QRIS BCA  ...  Payment_UNKNOWN  \\\n",
            "0            1.0           0.0               0.0  ...              0.0   \n",
            "1            0.0           0.0               1.0  ...              0.0   \n",
            "2            0.0           0.0               0.0  ...              0.0   \n",
            "3            0.0           1.0               0.0  ...              0.0   \n",
            "4            0.0           0.0               0.0  ...              1.0   \n",
            "5            1.0           0.0               0.0  ...              0.0   \n",
            "6            0.0           0.0               1.0  ...              0.0   \n",
            "7            0.0           0.0               0.0  ...              0.0   \n",
            "8            0.0           1.0               0.0  ...              0.0   \n",
            "9            0.0           0.0               0.0  ...              1.0   \n",
            "10           1.0           0.0               0.0  ...              0.0   \n",
            "11           0.0           0.0               1.0  ...              0.0   \n",
            "12           0.0           0.0               0.0  ...              0.0   \n",
            "13           0.0           1.0               0.0  ...              0.0   \n",
            "\n",
            "    Tipe_HIGH  Tipe_LOW  Payment_CASH  Payment_QRIS  Payment_QRIS BCA  \\\n",
            "0         0.0       1.0           1.0           0.0               0.0   \n",
            "1         1.0       0.0           0.0           0.0               1.0   \n",
            "2         0.0       1.0           0.0           0.0               0.0   \n",
            "3         1.0       0.0           0.0           1.0               0.0   \n",
            "4         0.0       1.0           0.0           0.0               0.0   \n",
            "5         1.0       0.0           1.0           0.0               0.0   \n",
            "6         0.0       1.0           0.0           0.0               1.0   \n",
            "7         1.0       0.0           0.0           0.0               0.0   \n",
            "8         0.0       1.0           0.0           1.0               0.0   \n",
            "9         1.0       0.0           0.0           0.0               0.0   \n",
            "10        0.0       1.0           1.0           0.0               0.0   \n",
            "11        1.0       0.0           0.0           0.0               1.0   \n",
            "12        0.0       1.0           0.0           0.0               0.0   \n",
            "13        1.0       0.0           0.0           1.0               0.0   \n",
            "\n",
            "    Payment_TF BCA  Payment_UNKNOWN  Condition        Deal  \n",
            "0              0.0              0.0  54.881350  163.932452  \n",
            "1              0.0              0.0  71.518937  178.416370  \n",
            "2              1.0              0.0  60.276338  118.196558  \n",
            "3              0.0              0.0  54.488318  849.357861  \n",
            "4              0.0              1.0  42.365480  800.341076  \n",
            "5              0.0              0.0  64.589411  883.010933  \n",
            "6              0.0              0.0  43.758721  980.756508  \n",
            "7              1.0              0.0  89.177300  819.242708  \n",
            "8              0.0              0.0  96.366276  515.331426  \n",
            "9              0.0              1.0  38.344152  802.476259  \n",
            "10             0.0              0.0  79.172504  206.446983  \n",
            "11             0.0              0.0  52.889492  675.928919  \n",
            "12             1.0              0.0  56.804456  229.017959  \n",
            "13             0.0              0.0  92.559664  950.202025  \n",
            "\n",
            "[14 rows x 21 columns]\n"
          ]
        }
      ]
    },
    {
      "cell_type": "markdown",
      "source": [
        "Dari tabel yang Anda tampilkan, kolom-kolom yang ada memiliki beberapa kolom kategori (seperti Tipe, Merk, Payment), kolom numerik (seperti Condition, Deal, Size), dan kolom hasil encoding atau normalisasi (seperti Size_encoded, Tipe_HIGH, Tipe_LOW, Payment_CASH, Payment_QRIS)."
      ],
      "metadata": {
        "id": "WUm_ASPLEpUF"
      }
    },
    {
      "cell_type": "markdown",
      "source": [
        "*   SVM dan KNN memerlukan pembagian data menjadi set pelatihan dan pengujian, dan keduanya adalah model klasifikasi.\n",
        "*   DBSCAN adalah algoritma clustering, jadi ia tidak memerlukan label untuk pelatihan, hanya data fitur. DBSCAN akan memberikan label untuk setiap data, atau jika titik tersebut dianggap noise, akan diberikan label -1.\n",
        "\n"
      ],
      "metadata": {
        "id": "B0ygXPXRFmJq"
      }
    },
    {
      "cell_type": "code",
      "source": [
        "from sklearn.model_selection import train_test_split\n",
        "from sklearn.svm import SVC\n",
        "from sklearn.neighbors import KNeighborsClassifier\n",
        "from sklearn.cluster import DBSCAN\n",
        "from sklearn.preprocessing import StandardScaler\n",
        "from sklearn.metrics import classification_report, confusion_matrix"
      ],
      "metadata": {
        "id": "lmIaSxV4EoMP"
      },
      "execution_count": 609,
      "outputs": []
    },
    {
      "cell_type": "markdown",
      "source": [
        "Data Preparation"
      ],
      "metadata": {
        "id": "HaZLdSBwHMCl"
      }
    },
    {
      "cell_type": "code",
      "source": [
        "# Misalkan kita ingin memprediksi kolom 'Tipe' berdasarkan fitur lainnya\n",
        "X = df.drop(columns=['Tipe', 'Payment'])  # Menghapus kolom target dan kolom Payment\n",
        "y = df['Tipe']  # Target\n",
        "\n",
        "# Encoding target 'Tipe' jika perlu\n",
        "y = y.map({'LOW': 0, 'HIGH': 1})\n",
        "\n",
        "# Split data menjadi training dan testing\n",
        "from sklearn.model_selection import train_test_split\n",
        "X_train, X_test, y_train, y_test = train_test_split(X, y, test_size=0.2, random_state=42)\n"
      ],
      "metadata": {
        "id": "ZJdco6jPGjPn"
      },
      "execution_count": 610,
      "outputs": []
    },
    {
      "cell_type": "markdown",
      "source": [
        "Support Vector Machine (SVM)"
      ],
      "metadata": {
        "id": "ruvk8z9TNLyn"
      }
    },
    {
      "cell_type": "code",
      "source": [
        "# Normalisasi data\n",
        "scaler = StandardScaler()\n",
        "X_train_scaled = scaler.fit_transform(X_train)\n",
        "X_test_scaled = scaler.transform(X_test)\n",
        "\n",
        "# SVM Model\n",
        "svm_model = SVC(kernel='linear')  # Anda bisa mencoba 'linear', 'rbf', dll\n",
        "svm_model.fit(X_train_scaled, y_train)\n",
        "\n",
        "# Prediksi dan Evaluasi\n",
        "y_pred_svm = svm_model.predict(X_test_scaled)\n",
        "print(\"SVM Classification Report:\")\n",
        "print(classification_report(y_test, y_pred_svm))\n",
        "print(\"SVM Confusion Matrix:\")\n",
        "print(confusion_matrix(y_test, y_pred_svm))\n"
      ],
      "metadata": {
        "colab": {
          "base_uri": "https://localhost:8080/"
        },
        "id": "Ez7-MuRjHhVr",
        "outputId": "ede4a561-bb56-48a8-ba7e-2a6d206ab7f1"
      },
      "execution_count": 611,
      "outputs": [
        {
          "output_type": "stream",
          "name": "stdout",
          "text": [
            "SVM Classification Report:\n",
            "              precision    recall  f1-score   support\n",
            "\n",
            "           0       1.00      1.00      1.00         1\n",
            "           1       1.00      1.00      1.00         2\n",
            "\n",
            "    accuracy                           1.00         3\n",
            "   macro avg       1.00      1.00      1.00         3\n",
            "weighted avg       1.00      1.00      1.00         3\n",
            "\n",
            "SVM Confusion Matrix:\n",
            "[[1 0]\n",
            " [0 2]]\n"
          ]
        }
      ]
    },
    {
      "cell_type": "code",
      "source": [
        "import matplotlib.pyplot as plt\n",
        "import seaborn as sns\n",
        "from sklearn.metrics import classification_report, confusion_matrix\n",
        "\n",
        "# Menampilkan Confusion Matrix\n",
        "conf_matrix = confusion_matrix(y_test, y_pred_svm)\n",
        "\n",
        "# Visualisasi Confusion Matrix dengan Heatmap\n",
        "plt.figure(figsize=(6, 6))\n",
        "sns.heatmap(conf_matrix, annot=True, fmt='d', cmap='Blues', xticklabels=['0', '1'], yticklabels=['0', '1'])\n",
        "plt.title('SVM Confusion Matrix')\n",
        "plt.xlabel('Predicted')\n",
        "plt.ylabel('True')\n",
        "plt.show()\n",
        "\n",
        "# Menampilkan Classification Report sebagai Grafik Bar\n",
        "report = classification_report(y_test, y_pred_svm, output_dict=True)\n",
        "\n",
        "# Mengambil Precision, Recall, F1-Score untuk masing-masing kelas\n",
        "precision = [report['0']['precision'], report['1']['precision']]\n",
        "recall = [report['0']['recall'], report['1']['recall']]\n",
        "f1_score = [report['0']['f1-score'], report['1']['f1-score']]\n",
        "\n",
        "# Membuat plot bar untuk Precision, Recall, dan F1-Score\n",
        "labels = ['Class 0', 'Class 1']\n",
        "x = range(len(labels))\n",
        "\n",
        "plt.figure(figsize=(8, 6))\n",
        "\n",
        "# Precision\n",
        "plt.bar(x, precision, width=0.2, label='Precision', align='center', alpha=0.6)\n",
        "\n",
        "# Recall\n",
        "plt.bar([p + 0.2 for p in x], recall, width=0.2, label='Recall', align='center', alpha=0.6)\n",
        "\n",
        "# F1-Score\n",
        "plt.bar([p + 0.4 for p in x], f1_score, width=0.2, label='F1-Score', align='center', alpha=0.6)\n",
        "\n",
        "plt.xlabel('Classes')\n",
        "plt.ylabel('Scores')\n",
        "plt.title('SVM Classification Report - Precision, Recall, F1-Score')\n",
        "plt.xticks([p + 0.2 for p in x], labels)\n",
        "plt.legend()\n",
        "plt.show()\n"
      ],
      "metadata": {
        "colab": {
          "base_uri": "https://localhost:8080/",
          "height": 1000
        },
        "id": "YyxehHf2d7Wi",
        "outputId": "89e06cd9-58d8-4b08-dbf3-31cf33e934cc"
      },
      "execution_count": 612,
      "outputs": [
        {
          "output_type": "display_data",
          "data": {
            "text/plain": [
              "<Figure size 600x600 with 2 Axes>"
            ],
            "image/png": "[encoded data removed]"
          },
          "metadata": {}
        },
        {
          "output_type": "display_data",
          "data": {
            "text/plain": [
              "<Figure size 800x600 with 1 Axes>"
            ],
            "image/png": "[encoded data removed]"
          },
          "metadata": {}
        }
      ]
    },
    {
      "cell_type": "markdown",
      "source": [
        "Dari hasil ini, dapat disimpulkan bahwa model SVM berhasil mengklasifikasikan data dengan sangat baik ke dalam dua kelas, yaitu:\n",
        "\n",
        "Kelas 0: Mungkin menggambarkan suatu kategori, misalnya \"LOW\".\n",
        "Kelas 1: Mungkin menggambarkan kategori lainnya, misalnya \"HIGH\"."
      ],
      "metadata": {
        "id": "Jod2PqMmfIIb"
      }
    },
    {
      "cell_type": "markdown",
      "source": [
        "K-Nearest Neighbors (KNN)"
      ],
      "metadata": {
        "id": "fEcmmcGWNU-z"
      }
    },
    {
      "cell_type": "code",
      "source": [
        "# KNN Model\n",
        "knn_model = KNeighborsClassifier(n_neighbors=3)  # Anda bisa mencoba nilai k yang berbeda\n",
        "knn_model.fit(X_train_scaled, y_train)\n",
        "\n",
        "# Prediksi dan Evaluasi\n",
        "y_pred_knn = knn_model.predict(X_test_scaled)\n",
        "print(\"KNN Classification Report:\")\n",
        "print(classification_report(y_test, y_pred_knn))\n",
        "print(\"KNN Confusion Matrix:\")\n",
        "print(confusion_matrix(y_test, y_pred_knn))"
      ],
      "metadata": {
        "colab": {
          "base_uri": "https://localhost:8080/"
        },
        "id": "CGyoldkeNMy7",
        "outputId": "346a6edb-5e6e-4f96-9323-2db200eb4bcd"
      },
      "execution_count": 613,
      "outputs": [
        {
          "output_type": "stream",
          "name": "stdout",
          "text": [
            "KNN Classification Report:\n",
            "              precision    recall  f1-score   support\n",
            "\n",
            "           0       1.00      1.00      1.00         1\n",
            "           1       1.00      1.00      1.00         2\n",
            "\n",
            "    accuracy                           1.00         3\n",
            "   macro avg       1.00      1.00      1.00         3\n",
            "weighted avg       1.00      1.00      1.00         3\n",
            "\n",
            "KNN Confusion Matrix:\n",
            "[[1 0]\n",
            " [0 2]]\n"
          ]
        }
      ]
    },
    {
      "cell_type": "code",
      "source": [
        "# Confusion Matrix\n",
        "cm = confusion_matrix(y_test, y_pred_knn)\n",
        "labels = knn_model.classes_  # Mendapatkan label kategori dari model\n",
        "\n",
        "# Visualisasi Confusion Matrix\n",
        "plt.figure(figsize=(8, 6))\n",
        "sns.heatmap(cm, annot=True, fmt='d', cmap='Blues', xticklabels=labels, yticklabels=labels)\n",
        "plt.xlabel('Predicted')\n",
        "plt.ylabel('Actual')\n",
        "plt.title('Confusion Matrix - KNN')\n",
        "plt.show()\n",
        "\n",
        "# Distribusi Prediksi\n",
        "predicted_categories = pd.DataFrame({'Actual': y_test, 'Predicted': y_pred_knn})\n",
        "\n",
        "plt.figure(figsize=(10, 5))\n",
        "sns.countplot(data=predicted_categories, x='Predicted', order=predicted_categories['Predicted'].value_counts().index, palette='Set2')\n",
        "plt.title('Distribusi Prediksi Kategori oleh KNN')\n",
        "plt.xlabel('Kategori yang Diprediksi')\n",
        "plt.ylabel('Jumlah')\n",
        "plt.show()\n",
        "\n",
        "# Laporan Klasifikasi\n",
        "print(\"KNN Classification Report:\")\n",
        "print(classification_report(y_test, y_pred_knn))"
      ],
      "metadata": {
        "colab": {
          "base_uri": "https://localhost:8080/",
          "height": 1000
        },
        "id": "rcd6TpcPHzzr",
        "outputId": "6322caa3-243e-4bee-d284-8df111b15663"
      },
      "execution_count": 667,
      "outputs": [
        {
          "output_type": "display_data",
          "data": {
            "text/plain": [
              "<Figure size 800x600 with 2 Axes>"
            ],
            "image/png": "[encoded data removed]"
          },
          "metadata": {}
        },
        {
          "output_type": "stream",
          "name": "stderr",
          "text": [
            "<ipython-input-667-cc242d6efd7e>:17: FutureWarning: \n",
            "\n",
            "Passing `palette` without assigning `hue` is deprecated and will be removed in v0.14.0. Assign the `x` variable to `hue` and set `legend=False` for the same effect.\n",
            "\n",
            "  sns.countplot(data=predicted_categories, x='Predicted', order=predicted_categories['Predicted'].value_counts().index, palette='Set2')\n"
          ]
        },
        {
          "output_type": "display_data",
          "data": {
            "text/plain": [
              "<Figure size 1000x500 with 1 Axes>"
            ],
            "image/png": "[encoded data removed]"
          },
          "metadata": {}
        },
        {
          "output_type": "stream",
          "name": "stdout",
          "text": [
            "KNN Classification Report:\n",
            "              precision    recall  f1-score   support\n",
            "\n",
            "           0       1.00      1.00      1.00         1\n",
            "           1       1.00      1.00      1.00         2\n",
            "\n",
            "    accuracy                           1.00         3\n",
            "   macro avg       1.00      1.00      1.00         3\n",
            "weighted avg       1.00      1.00      1.00         3\n",
            "\n"
          ]
        }
      ]
    },
    {
      "cell_type": "code",
      "source": [
        "# Memeriksa tipe data pada setiap kolom\n",
        "print(df.dtypes)\n",
        "\n",
        "# Memeriksa nilai yang unik pada kolom yang bermasalah (misalnya, Size atau Merk)\n",
        "print(df['Size'].unique())\n",
        "print(df['Merk'].unique())"
      ],
      "metadata": {
        "colab": {
          "base_uri": "https://localhost:8080/"
        },
        "id": "xZHCsmKlpn4D",
        "outputId": "230e364f-a18a-4cc2-81d5-b4298ead7c74"
      },
      "execution_count": 614,
      "outputs": [
        {
          "output_type": "stream",
          "name": "stdout",
          "text": [
            "Tipe                 object\n",
            "Merk                  int64\n",
            "Size                float64\n",
            "Payment              object\n",
            "Size_encoded        float64\n",
            "Tipe_HIGH           float64\n",
            "Tipe_LOW            float64\n",
            "Payment_CASH        float64\n",
            "Payment_QRIS        float64\n",
            "Payment_QRIS BCA    float64\n",
            "Payment_TF BCA      float64\n",
            "Payment_UNKNOWN     float64\n",
            "Tipe_HIGH           float64\n",
            "Tipe_LOW            float64\n",
            "Payment_CASH        float64\n",
            "Payment_QRIS        float64\n",
            "Payment_QRIS BCA    float64\n",
            "Payment_TF BCA      float64\n",
            "Payment_UNKNOWN     float64\n",
            "Condition           float64\n",
            "Deal                float64\n",
            "dtype: object\n",
            "[42.  44.  38.  36.  41.  43.  40.  41.5 37.5 39.  39.5 42.5 37.  45. ]\n",
            "[4 0 3 5 2 6 1]\n"
          ]
        }
      ]
    },
    {
      "cell_type": "code",
      "source": [
        "import matplotlib.pyplot as plt\n",
        "import seaborn as sns"
      ],
      "metadata": {
        "id": "cZQuLmkkYYwJ"
      },
      "execution_count": 615,
      "outputs": []
    },
    {
      "cell_type": "code",
      "source": [
        "import pandas as pd\n",
        "\n",
        "file_path = 'SalesReport_Maret_April_Updated.xlsx'\n",
        "data = pd.read_excel(file_path)\n",
        "\n",
        "# Tampilkan tipe data variabel 'data'\n",
        "print(type(data))"
      ],
      "metadata": {
        "colab": {
          "base_uri": "https://localhost:8080/"
        },
        "id": "RuF7-GtEYaBj",
        "outputId": "4621b88c-a3f5-409c-8e29-e0c756568ea2"
      },
      "execution_count": 616,
      "outputs": [
        {
          "output_type": "stream",
          "name": "stdout",
          "text": [
            "<class 'pandas.core.frame.DataFrame'>\n"
          ]
        }
      ]
    },
    {
      "cell_type": "code",
      "source": [
        "merk_counts = data['Merk'].value_counts()\n",
        "print(merk_counts)"
      ],
      "metadata": {
        "id": "kgcNcbVNZAGk",
        "outputId": "aeda95b4-87ab-4564-9070-a97d8b3c9087",
        "colab": {
          "base_uri": "https://localhost:8080/"
        }
      },
      "execution_count": 618,
      "outputs": [
        {
          "output_type": "stream",
          "name": "stdout",
          "text": [
            "Merk\n",
            "ADIDAS              107\n",
            "NIKE                 60\n",
            "NB                   27\n",
            "nike                 12\n",
            "adIDAS                3\n",
            "Nike                  2\n",
            "Muhammad Rifqi        1\n",
            "Hilda                 1\n",
            "Nur ahmad abiyyu      1\n",
            "nb                    1\n",
            "salomon               1\n",
            "adidas                1\n",
            "DOCMART               1\n",
            "VANS                  1\n",
            "DC                    1\n",
            "Name: count, dtype: int64\n"
          ]
        }
      ]
    },
    {
      "cell_type": "code",
      "source": [
        "df['Keluar'] = pd.to_datetime(df['Keluar'], errors='coerce')\n",
        "print(df['Keluar'].isnull().sum())  # Menampilkan jumlah nilai yang hilang\n",
        "print(df.head())  # Menampilkan beberapa baris pertama dari dataset\n"
      ],
      "metadata": {
        "colab": {
          "base_uri": "https://localhost:8080/",
          "height": 604
        },
        "id": "EnUg-2FDUWuU",
        "outputId": "c8aff2cc-50ff-4551-b522-b5ab426470ad"
      },
      "execution_count": 619,
      "outputs": [
        {
          "output_type": "error",
          "ename": "KeyError",
          "evalue": "'Keluar'",
          "traceback": [
            "\u001b[0;31m---------------------------------------------------------------------------\u001b[0m",
            "\u001b[0;31mKeyError\u001b[0m                                  Traceback (most recent call last)",
            "\u001b[0;32m/usr/local/lib/python3.10/dist-packages/pandas/core/indexes/base.py\u001b[0m in \u001b[0;36mget_loc\u001b[0;34m(self, key)\u001b[0m\n\u001b[1;32m   3804\u001b[0m         \u001b[0;32mtry\u001b[0m\u001b[0;34m:\u001b[0m\u001b[0;34m\u001b[0m\u001b[0;34m\u001b[0m\u001b[0m\n\u001b[0;32m-> 3805\u001b[0;31m             \u001b[0;32mreturn\u001b[0m \u001b[0mself\u001b[0m\u001b[0;34m.\u001b[0m\u001b[0m_engine\u001b[0m\u001b[0;34m.\u001b[0m\u001b[0mget_loc\u001b[0m\u001b[0;34m(\u001b[0m\u001b[0mcasted_key\u001b[0m\u001b[0;34m)\u001b[0m\u001b[0;34m\u001b[0m\u001b[0;34m\u001b[0m\u001b[0m\n\u001b[0m\u001b[1;32m   3806\u001b[0m         \u001b[0;32mexcept\u001b[0m \u001b[0mKeyError\u001b[0m \u001b[0;32mas\u001b[0m \u001b[0merr\u001b[0m\u001b[0;34m:\u001b[0m\u001b[0;34m\u001b[0m\u001b[0;34m\u001b[0m\u001b[0m\n",
            "\u001b[0;32mindex.pyx\u001b[0m in \u001b[0;36mpandas._libs.index.IndexEngine.get_loc\u001b[0;34m()\u001b[0m\n",
            "\u001b[0;32mindex.pyx\u001b[0m in \u001b[0;36mpandas._libs.index.IndexEngine.get_loc\u001b[0;34m()\u001b[0m\n",
            "\u001b[0;32mindex.pyx\u001b[0m in \u001b[0;36mpandas._libs.index.IndexEngine._get_loc_duplicates\u001b[0;34m()\u001b[0m\n",
            "\u001b[0;32mindex.pyx\u001b[0m in \u001b[0;36mpandas._libs.index.IndexEngine._maybe_get_bool_indexer\u001b[0;34m()\u001b[0m\n",
            "\u001b[0;32mindex.pyx\u001b[0m in \u001b[0;36mpandas._libs.index._unpack_bool_indexer\u001b[0;34m()\u001b[0m\n",
            "\u001b[0;31mKeyError\u001b[0m: 'Keluar'",
            "\nThe above exception was the direct cause of the following exception:\n",
            "\u001b[0;31mKeyError\u001b[0m                                  Traceback (most recent call last)",
            "\u001b[0;32m<ipython-input-619-52ea18a92bbf>\u001b[0m in \u001b[0;36m<cell line: 1>\u001b[0;34m()\u001b[0m\n\u001b[0;32m----> 1\u001b[0;31m \u001b[0mdf\u001b[0m\u001b[0;34m[\u001b[0m\u001b[0;34m'Keluar'\u001b[0m\u001b[0;34m]\u001b[0m \u001b[0;34m=\u001b[0m \u001b[0mpd\u001b[0m\u001b[0;34m.\u001b[0m\u001b[0mto_datetime\u001b[0m\u001b[0;34m(\u001b[0m\u001b[0mdf\u001b[0m\u001b[0;34m[\u001b[0m\u001b[0;34m'Keluar'\u001b[0m\u001b[0;34m]\u001b[0m\u001b[0;34m,\u001b[0m \u001b[0merrors\u001b[0m\u001b[0;34m=\u001b[0m\u001b[0;34m'coerce'\u001b[0m\u001b[0;34m)\u001b[0m\u001b[0;34m\u001b[0m\u001b[0;34m\u001b[0m\u001b[0m\n\u001b[0m\u001b[1;32m      2\u001b[0m \u001b[0mprint\u001b[0m\u001b[0;34m(\u001b[0m\u001b[0mdf\u001b[0m\u001b[0;34m[\u001b[0m\u001b[0;34m'Keluar'\u001b[0m\u001b[0;34m]\u001b[0m\u001b[0;34m.\u001b[0m\u001b[0misnull\u001b[0m\u001b[0;34m(\u001b[0m\u001b[0;34m)\u001b[0m\u001b[0;34m.\u001b[0m\u001b[0msum\u001b[0m\u001b[0;34m(\u001b[0m\u001b[0;34m)\u001b[0m\u001b[0;34m)\u001b[0m  \u001b[0;31m# Menampilkan jumlah nilai yang hilang\u001b[0m\u001b[0;34m\u001b[0m\u001b[0;34m\u001b[0m\u001b[0m\n\u001b[1;32m      3\u001b[0m \u001b[0mprint\u001b[0m\u001b[0;34m(\u001b[0m\u001b[0mdf\u001b[0m\u001b[0;34m.\u001b[0m\u001b[0mhead\u001b[0m\u001b[0;34m(\u001b[0m\u001b[0;34m)\u001b[0m\u001b[0;34m)\u001b[0m  \u001b[0;31m# Menampilkan beberapa baris pertama dari dataset\u001b[0m\u001b[0;34m\u001b[0m\u001b[0;34m\u001b[0m\u001b[0m\n",
            "\u001b[0;32m/usr/local/lib/python3.10/dist-packages/pandas/core/frame.py\u001b[0m in \u001b[0;36m__getitem__\u001b[0;34m(self, key)\u001b[0m\n\u001b[1;32m   4100\u001b[0m             \u001b[0;32mif\u001b[0m \u001b[0mself\u001b[0m\u001b[0;34m.\u001b[0m\u001b[0mcolumns\u001b[0m\u001b[0;34m.\u001b[0m\u001b[0mnlevels\u001b[0m \u001b[0;34m>\u001b[0m \u001b[0;36m1\u001b[0m\u001b[0;34m:\u001b[0m\u001b[0;34m\u001b[0m\u001b[0;34m\u001b[0m\u001b[0m\n\u001b[1;32m   4101\u001b[0m                 \u001b[0;32mreturn\u001b[0m \u001b[0mself\u001b[0m\u001b[0;34m.\u001b[0m\u001b[0m_getitem_multilevel\u001b[0m\u001b[0;34m(\u001b[0m\u001b[0mkey\u001b[0m\u001b[0;34m)\u001b[0m\u001b[0;34m\u001b[0m\u001b[0;34m\u001b[0m\u001b[0m\n\u001b[0;32m-> 4102\u001b[0;31m             \u001b[0mindexer\u001b[0m \u001b[0;34m=\u001b[0m \u001b[0mself\u001b[0m\u001b[0;34m.\u001b[0m\u001b[0mcolumns\u001b[0m\u001b[0;34m.\u001b[0m\u001b[0mget_loc\u001b[0m\u001b[0;34m(\u001b[0m\u001b[0mkey\u001b[0m\u001b[0;34m)\u001b[0m\u001b[0;34m\u001b[0m\u001b[0;34m\u001b[0m\u001b[0m\n\u001b[0m\u001b[1;32m   4103\u001b[0m             \u001b[0;32mif\u001b[0m \u001b[0mis_integer\u001b[0m\u001b[0;34m(\u001b[0m\u001b[0mindexer\u001b[0m\u001b[0;34m)\u001b[0m\u001b[0;34m:\u001b[0m\u001b[0;34m\u001b[0m\u001b[0;34m\u001b[0m\u001b[0m\n\u001b[1;32m   4104\u001b[0m                 \u001b[0mindexer\u001b[0m \u001b[0;34m=\u001b[0m \u001b[0;34m[\u001b[0m\u001b[0mindexer\u001b[0m\u001b[0;34m]\u001b[0m\u001b[0;34m\u001b[0m\u001b[0;34m\u001b[0m\u001b[0m\n",
            "\u001b[0;32m/usr/local/lib/python3.10/dist-packages/pandas/core/indexes/base.py\u001b[0m in \u001b[0;36mget_loc\u001b[0;34m(self, key)\u001b[0m\n\u001b[1;32m   3810\u001b[0m             ):\n\u001b[1;32m   3811\u001b[0m                 \u001b[0;32mraise\u001b[0m \u001b[0mInvalidIndexError\u001b[0m\u001b[0;34m(\u001b[0m\u001b[0mkey\u001b[0m\u001b[0;34m)\u001b[0m\u001b[0;34m\u001b[0m\u001b[0;34m\u001b[0m\u001b[0m\n\u001b[0;32m-> 3812\u001b[0;31m             \u001b[0;32mraise\u001b[0m \u001b[0mKeyError\u001b[0m\u001b[0;34m(\u001b[0m\u001b[0mkey\u001b[0m\u001b[0;34m)\u001b[0m \u001b[0;32mfrom\u001b[0m \u001b[0merr\u001b[0m\u001b[0;34m\u001b[0m\u001b[0;34m\u001b[0m\u001b[0m\n\u001b[0m\u001b[1;32m   3813\u001b[0m         \u001b[0;32mexcept\u001b[0m \u001b[0mTypeError\u001b[0m\u001b[0;34m:\u001b[0m\u001b[0;34m\u001b[0m\u001b[0;34m\u001b[0m\u001b[0m\n\u001b[1;32m   3814\u001b[0m             \u001b[0;31m# If we have a listlike key, _check_indexing_error will raise\u001b[0m\u001b[0;34m\u001b[0m\u001b[0;34m\u001b[0m\u001b[0m\n",
            "\u001b[0;31mKeyError\u001b[0m: 'Keluar'"
          ]
        }
      ]
    },
    {
      "cell_type": "code",
      "source": [
        "import pandas as pd\n",
        "import matplotlib.pyplot as plt\n",
        "import seaborn as sns\n",
        "\n",
        "# Misalkan df adalah DataFrame yang sudah ada\n",
        "# Menghitung total pembelian per ukuran sepatu\n",
        "total_pembelian_size = df.groupby('Size')['Deal'].count().reset_index()\n",
        "\n",
        "# Mengurutkan ukuran sepatu berdasarkan total pembelian terbanyak\n",
        "total_pembelian_size_sorted = total_pembelian_size.sort_values(by='Deal', ascending=False)\n",
        "\n",
        "# Membuat bar plot horizontal (horizontal bar plot)\n",
        "plt.figure(figsize=(10, 6))\n",
        "sns.barplot(x='Deal', y='Size', data=total_pembelian_size_sorted, palette='viridis')\n",
        "\n",
        "# Menambahkan judul dan label\n",
        "plt.title('Ukuran Sepatu yang Paling Banyak Dibeli')\n",
        "plt.xlabel('Jumlah Pembelian')\n",
        "plt.ylabel('Ukuran Sepatu')\n",
        "\n",
        "# Menampilkan plot\n",
        "plt.show()\n"
      ],
      "metadata": {
        "colab": {
          "base_uri": "https://localhost:8080/",
          "height": 655
        },
        "id": "ohztPqW0m4GW",
        "outputId": "da6fd1dd-557e-459f-ef9d-ff7c03f9be76"
      },
      "execution_count": 624,
      "outputs": [
        {
          "output_type": "stream",
          "name": "stderr",
          "text": [
            "<ipython-input-624-173a10f4eba1>:14: FutureWarning: \n",
            "\n",
            "Passing `palette` without assigning `hue` is deprecated and will be removed in v0.14.0. Assign the `x` variable to `hue` and set `legend=False` for the same effect.\n",
            "\n",
            "  sns.barplot(x='Deal', y='Size', data=total_pembelian_size_sorted, palette='viridis')\n"
          ]
        },
        {
          "output_type": "display_data",
          "data": {
            "text/plain": [
              "<Figure size 1000x600 with 1 Axes>"
            ],
            "image/png": "[encoded data removed]"
          },
          "metadata": {}
        }
      ]
    },
    {
      "cell_type": "code",
      "source": [
        "import pandas as pd\n",
        "import matplotlib.pyplot as plt\n",
        "from statsmodels.tsa.seasonal import seasonal_decompose\n",
        "\n",
        "df = pd.read_excel(\"sales_report.xlsx\")\n",
        "df['Keluar'] = pd.to_datetime(df['Keluar'])\n",
        "\n",
        "df_aggregated = df.groupby('Keluar')['Deal'].sum().reset_index()\n",
        "\n",
        "# Set kolom 'Keluar' sebagai index\n",
        "df_aggregated.set_index('Keluar', inplace=True)\n",
        "\n",
        "# Visualisasi Tren Penjualan\n",
        "plt.figure(figsize=(12, 6))\n",
        "plt.plot(df_aggregated.index, df_aggregated['Deal'], label='Penjualan Harian', color='blue')\n",
        "plt.title('Tren Penjualan Harian')\n",
        "plt.xlabel('Tanggal')\n",
        "plt.ylabel('Total Penjualan')\n",
        "plt.legend()\n",
        "plt.grid(True)\n",
        "plt.show()\n",
        "\n",
        "# Seasonal Decomposition\n",
        "# Melakukan dekomposisi deret waktu untuk melihat tren, musiman, dan residual\n",
        "decomposition = seasonal_decompose(df_aggregated['Deal'], model='additive', period=30)\n",
        "\n",
        "# Visualisasi hasil dekomposisi\n",
        "plt.figure(figsize=(12, 8))\n",
        "\n",
        "plt.subplot(411)\n",
        "plt.plot(decomposition.observed, label='Observed')\n",
        "plt.legend(loc='best')\n",
        "plt.title('Observed (Penjualan Asli)')\n",
        "\n",
        "plt.subplot(412)\n",
        "plt.plot(decomposition.trend, label='Trend')\n",
        "plt.legend(loc='best')\n",
        "plt.title('Trend (Tren Penjualan)')\n",
        "\n",
        "plt.subplot(413)\n",
        "plt.plot(decomposition.seasonal, label='Seasonal')\n",
        "plt.legend(loc='best')\n",
        "plt.title('Seasonal (Komponen Musiman)')\n",
        "\n",
        "plt.subplot(414)\n",
        "plt.plot(decomposition.resid, label='Residual')\n",
        "plt.legend(loc='best')\n",
        "plt.title('Residual (Sisa/Noise)')\n",
        "\n",
        "plt.tight_layout()\n",
        "plt.show()"
      ],
      "metadata": {
        "colab": {
          "base_uri": "https://localhost:8080/",
          "height": 892
        },
        "id": "tVxZT4dQrY5q",
        "outputId": "e539fb32-5d6b-40ad-ada6-f820e0115924"
      },
      "execution_count": 623,
      "outputs": [
        {
          "output_type": "display_data",
          "data": {
            "text/plain": [
              "<Figure size 1200x600 with 1 Axes>"
            ],
            "image/png": "[encoded data removed]"
          },
          "metadata": {}
        },
        {
          "output_type": "error",
          "ename": "ValueError",
          "evalue": "x must have 2 complete cycles requires 60 observations. x only has 45 observation(s)",
          "traceback": [
            "\u001b[0;31m---------------------------------------------------------------------------\u001b[0m",
            "\u001b[0;31mValueError\u001b[0m                                Traceback (most recent call last)",
            "\u001b[0;32m<ipython-input-623-8821c19db61b>\u001b[0m in \u001b[0;36m<cell line: 25>\u001b[0;34m()\u001b[0m\n\u001b[1;32m     23\u001b[0m \u001b[0;31m# Seasonal Decomposition\u001b[0m\u001b[0;34m\u001b[0m\u001b[0;34m\u001b[0m\u001b[0m\n\u001b[1;32m     24\u001b[0m \u001b[0;31m# Melakukan dekomposisi deret waktu untuk melihat tren, musiman, dan residual\u001b[0m\u001b[0;34m\u001b[0m\u001b[0;34m\u001b[0m\u001b[0m\n\u001b[0;32m---> 25\u001b[0;31m \u001b[0mdecomposition\u001b[0m \u001b[0;34m=\u001b[0m \u001b[0mseasonal_decompose\u001b[0m\u001b[0;34m(\u001b[0m\u001b[0mdf_aggregated\u001b[0m\u001b[0;34m[\u001b[0m\u001b[0;34m'Deal'\u001b[0m\u001b[0;34m]\u001b[0m\u001b[0;34m,\u001b[0m \u001b[0mmodel\u001b[0m\u001b[0;34m=\u001b[0m\u001b[0;34m'additive'\u001b[0m\u001b[0;34m,\u001b[0m \u001b[0mperiod\u001b[0m\u001b[0;34m=\u001b[0m\u001b[0;36m30\u001b[0m\u001b[0;34m)\u001b[0m\u001b[0;34m\u001b[0m\u001b[0;34m\u001b[0m\u001b[0m\n\u001b[0m\u001b[1;32m     26\u001b[0m \u001b[0;34m\u001b[0m\u001b[0m\n\u001b[1;32m     27\u001b[0m \u001b[0;31m# Visualisasi hasil dekomposisi\u001b[0m\u001b[0;34m\u001b[0m\u001b[0;34m\u001b[0m\u001b[0m\n",
            "\u001b[0;32m/usr/local/lib/python3.10/dist-packages/statsmodels/tsa/seasonal.py\u001b[0m in \u001b[0;36mseasonal_decompose\u001b[0;34m(x, model, filt, period, two_sided, extrapolate_trend)\u001b[0m\n\u001b[1;32m    170\u001b[0m             )\n\u001b[1;32m    171\u001b[0m     \u001b[0;32mif\u001b[0m \u001b[0mx\u001b[0m\u001b[0;34m.\u001b[0m\u001b[0mshape\u001b[0m\u001b[0;34m[\u001b[0m\u001b[0;36m0\u001b[0m\u001b[0;34m]\u001b[0m \u001b[0;34m<\u001b[0m \u001b[0;36m2\u001b[0m \u001b[0;34m*\u001b[0m \u001b[0mpfreq\u001b[0m\u001b[0;34m:\u001b[0m\u001b[0;34m\u001b[0m\u001b[0;34m\u001b[0m\u001b[0m\n\u001b[0;32m--> 172\u001b[0;31m         raise ValueError(\n\u001b[0m\u001b[1;32m    173\u001b[0m             \u001b[0;34mf\"x must have 2 complete cycles requires {2 * pfreq} \"\u001b[0m\u001b[0;34m\u001b[0m\u001b[0;34m\u001b[0m\u001b[0m\n\u001b[1;32m    174\u001b[0m             \u001b[0;34mf\"observations. x only has {x.shape[0]} observation(s)\"\u001b[0m\u001b[0;34m\u001b[0m\u001b[0;34m\u001b[0m\u001b[0m\n",
            "\u001b[0;31mValueError\u001b[0m: x must have 2 complete cycles requires 60 observations. x only has 45 observation(s)"
          ]
        }
      ]
    }
  ]
}